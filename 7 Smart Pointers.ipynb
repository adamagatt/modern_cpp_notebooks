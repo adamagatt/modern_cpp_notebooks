{
 "cells": [
  {
   "cell_type": "markdown",
   "id": "confused-therapist",
   "metadata": {},
   "source": [
    "## 7 - Smart Pointers\n",
    "##### **Author: Adam Gatt**\n",
    "\n",
    "### Problem: How do we know when to delete a dynamic object?\n",
    "\n",
    "We can create objects in dynamic memory (i.e. on _the heap_) using the keywords `new` and `delete`. Objects created in this way do not follow the rules of scope like static objects do. They will not have their destructor called and memory freed when their originating scope block ends. Instead we must be sure to manually call `delete` to free the object when it is no longer needed.\n",
    "* If we fail to `delete` the object its memory will remain allocated but unused, resulting in a memory leak\n",
    "* If we use the object after it has been deleted we cause a [use after free](https://encyclopedia.kaspersky.com/glossary/use-after-free/) error, or potential vulnerability\n",
    "* If our control logic [`delete`s the object twice](https://isocpp.org/wiki/faq/freestore-mgmt#double-delete-disaster) then we enter _undefined_ behaviour and a runtime crash or worse may occur.\n",
    "\n",
    "We conclude that each object with a `new` statement must be matched with a corresponding `delete`. But in practice this rule may be surprisingly difficult to enforce due to complexities in reasoning about _object lifetimes_.\n",
    "\n",
    "* The object's creation and end-of-life points might be very far away from each other in the code, requiring careful tracking of the object to see where it goes.\n",
    "* The object might flow through different control logic, resulting in multiple different areas where its end-of-life is expected and `delete` must be called. The logic must be checked to ensure that only one such call can be reached for each object.\n",
    "* We need to always be certain whether a variable is an array or not as we would need to call `delete[]` instead, and calling the wrong type of delete operator results in undefined behaviour\n",
    "* A dynamic object might be created (and returned) by a function, showing no `new` syntax in the immediate area around where the object is first used.\n",
    "* The object reference may be provided to a function call, which may \"consume\" the object (and thus delete it) or might not, depending on convention and how the function is expected to be used.\n",
    "* The object may be provided for storage in a data structure which may itself be deleted. Some data structures may delete their held references upon destruction (e.g. a list) and some may not (e.g. a cache).\n",
    "* There may be multiple references to the same dynamic object, potentially held in different threads, requiring us to be careful that only one reference is deleted and at a safe time. This often requires us to choose one reference as being responsible for object deletion.\n",
    "\n",
    "### Object ownership\n",
    "\n",
    "Many libraries and idioms attempt to straighten out this complexity by modelling the concept of _object ownership_. A dynamic object only ever has a single _owning reference_, with other temporary non-owning references allowed. The ownership of the object can be transferred between references, or across function boundaries, or between threads, but there is only one owner at any point in time. When the object is no longer required, the owning reference is responsible for deleting it. Non-owning references have a way to check whether the object has been deleted before attempting to make use of it.\n",
    "\n",
    "### Smart pointers: A RAII approach to object ownership\n",
    "\n",
    "Smart pointers are an application of the RAII technique towards memory management. We use RAII objects called _smart pointers_ to represent and track the ownership of the dynamic object. The smart pointers are then responsible for automatically deleting the object at the right time, according to the strategy used. C++ offers three types of smart pointers:\n",
    "\n",
    "* `std::unique_ptr`\n",
    "\n",
    "`unique_ptr` is a single unambiguous owner of the dynamic object. By using _move semantics_ (discussed more in the next notebook) we can allow for the object to be transferred to a new owner at important boundaries (e.g. function boundaries). We follow scope-based rules to ensure that the object is eventually deleted when its current owner falls out of scope.\n",
    "\n",
    "* `std::shared_ptr`\n",
    "\n",
    "`shared_ptr` is for situations where multiple owners is required and unavoidable. In this model, you can have multiple `shared_ptr`s to the same dynamic object, and it will be deleted when all of its `shared_ptrs` have been destroyed (i.e. at the moment when the last surviving `shared_ptr` is destroyed). This is \n",
    "\n",
    "* `std::weak_ptr` is a weak, non-owning reference to a shared_ptr\n",
    "\n",
    "\n",
    "#### Note: Please ignore the existence of std::auto_ptr\n",
    "auto_ptr is an earlier approach to smart pointers that didn't work out. It had issues with being stored in containers, it did not support hosting arrays, and it did not support the new move semantics. unique_ptr is considered as its replacement, and auto_ptr is deprecated in the language standard."
   ]
  },
  {
   "cell_type": "markdown",
   "id": "judicial-america",
   "metadata": {},
   "source": [
    "### unique_ptr\n",
    "\n",
    "`unique_ptr` is the C++ standard library class for a smart pointer that only has a single owner. This owner will be responsible for deleting the dynamic memory once it falls out of scope. "
   ]
  },
  {
   "cell_type": "code",
   "execution_count": null,
   "id": "universal-quick",
   "metadata": {},
   "outputs": [],
   "source": [
    "#include <array>\n",
    "#include <iostream>\n",
    "\n",
    "class HeavyObject {\n",
    "    private:\n",
    "    std::array<double, 500> samplePoints;\n",
    "    \n",
    "    public:\n",
    "    HeavyObject() {\n",
    "        std::cout << \"Object created using 4kb\" << std::endl;\n",
    "    }\n",
    "    \n",
    "    ~HeavyObject() {\n",
    "        std::cout << \"Memory has been freed up\" << std::endl;\n",
    "    }\n",
    "}"
   ]
  },
  {
   "cell_type": "code",
   "execution_count": null,
   "id": "dominican-temple",
   "metadata": {},
   "outputs": [],
   "source": [
    "std::cout << \"Before the scope\" << std::endl;\n",
    "{\n",
    "    // We should use the \"make_unique\" function to create unique_ptrs, for reasons we will go\n",
    "    // into later\n",
    "    std::unique_ptr<HeavyObject> myObj = std::make_unique<HeavyObject>();\n",
    "    \n",
    "    // Some other stuff happens before the end of the scope, we never need to remember that a dynamic\n",
    "    // object is floating around and needs to be deleted.\n",
    "}\n",
    "std::cout << \"After the scope\" << std::endl;"
   ]
  },
  {
   "cell_type": "markdown",
   "id": "cutting-imagination",
   "metadata": {},
   "source": [
    "In the example above, _myObj_ is a unique_ptr holding a HeavyObject. Although the unique_ptr is a stack variable, the HeavyObject in its contents has been dynamically allocated and lives on the heap. When the scope ends, the unique_ptr will be destroyed and it will automatically `delete` (or `delete[]`) its contents, cleaning up the dynamic data. Thus we have nothing to remember later for when or how the dynamic data should be deleted. Assuming we aren't \"moving\" the contents elsewhere (see below), we simply have to ___do nothing___ to ensure the cleanup of this dynamic memory."
   ]
  },
  {
   "cell_type": "markdown",
   "id": "filled-timeline",
   "metadata": {},
   "source": [
    "#### \"Moving\" the dynamic contents\n",
    "Because a unique_ptr is the single, unambiguous owner of its data:\n",
    "\n",
    "* You can never create a copy of it\n",
    "* Instead you can \"move\" its contents to another unique_ptr\n",
    "\n",
    "\"Moving\" a unique_ptr follows the new rules for C++ \"move semantics\". This is the concept of transferring (moving) the data from one object to another. When you move from one unique_ptr to another, the new unique_ptr is now the owning smart pointer and the old unique_ptr is now empty (technically in a \"valid but unspecified state\"). "
   ]
  },
  {
   "cell_type": "code",
   "execution_count": null,
   "id": "traditional-ecuador",
   "metadata": {
    "scrolled": true
   },
   "outputs": [],
   "source": [
    "#include <memory>\n",
    "\n",
    "std::unique_ptr<int> first = std::make_unique<int>(5);"
   ]
  },
  {
   "cell_type": "code",
   "execution_count": null,
   "id": "increasing-identifier",
   "metadata": {},
   "outputs": [],
   "source": [
    "// Copying a unique pointer is not allowed\n",
    "std::unique_ptr<int> second = first;"
   ]
  },
  {
   "cell_type": "code",
   "execution_count": null,
   "id": "noble-blame",
   "metadata": {},
   "outputs": [],
   "source": [
    "#include <iostream>\n",
    "/\n",
    "// But we can \"move\" the contents of a unique_ptr to another\n",
    "std::unique_ptr<int> second = std::move(first);\n",
    "\n",
    "// I can \"de-reference\" the unique_ptr with the expected * syntax\n",
    "std::cout << *second << std::endl;"
   ]
  },
  {
   "cell_type": "markdown",
   "id": "secondary-costa",
   "metadata": {},
   "source": [
    "_Note: You must not use the contents of an \"empty\" unique_ptr unless you take steps to re-populate its contents (either initialise new data for it or move another unique_ptr into it)._"
   ]
  },
  {
   "cell_type": "markdown",
   "id": "conscious-vietnam",
   "metadata": {},
   "source": [
    "#### Moving across function boundaries\n",
    "These \"move semantics\" allow us to transfer unique_ptrs in and out of different scopes. Most importantly, it allows us to transfer unique_ptrs across function call boundaries, submitting them to functions or returning them from functions."
   ]
  },
  {
   "cell_type": "code",
   "execution_count": null,
   "id": "corresponding-opinion",
   "metadata": {},
   "outputs": [],
   "source": [
    "std::unique_ptr<int[]> range(int size) {\n",
    "    std::unique_ptr<int[]> output = std::make_unique<int[]>(size);\n",
    "    \n",
    "    for (int i = 0; i < size; ++i) {\n",
    "        output[i] = i;\n",
    "    }\n",
    "    \n",
    "    // std::move to move the contents of the smart pointer out of the function. Technically we can leave this\n",
    "    // out and the compiler will auto-deduce the use of the \"move constructor\" for creating the unique_ptr that\n",
    "    // will be created in the calling scope\n",
    "    return std::move(output);\n",
    "}"
   ]
  },
  {
   "cell_type": "code",
   "execution_count": null,
   "id": "labeled-communication",
   "metadata": {
    "scrolled": true
   },
   "outputs": [],
   "source": [
    "std::unique_ptr<int[]> countToTen = range(10);\n",
    "\n",
    "// unique_ptrs with arrays offer access to contents with usual [] syntax\n",
    "countToTen[4]"
   ]
  },
  {
   "cell_type": "markdown",
   "id": "great-instrumentation",
   "metadata": {},
   "source": [
    "It is important to be clear about this process. _countToTen_ lives in the outer, calling scope. But its contents have been provided by the return value of the _range_ function, allowing the dynamic array data to be transferred to a new scope instead of being deleted at the end of _range_. Instead, _countToTen_ now owns the dynamic data and it will be deleted when _countToTen_ falls out of scope, unless we proceed to transfer it again with a subsequent move operation.\n",
    "\n",
    "Likewise we can submit a unique_ptr to a function. At the function boundary, the contents of the smart pointer will be \"moved\" into the unique_ptr of the function's parameters, allowing these contents to be transferred into the function."
   ]
  },
  {
   "cell_type": "code",
   "execution_count": 1,
   "id": "great-aruba",
   "metadata": {},
   "outputs": [],
   "source": [
    "class Message {\n",
    "private:\n",
    "    const char* sender;\n",
    "    const char* contents;\n",
    "\n",
    "public:\n",
    "    Message(const char* sender, const char* contents)\n",
    "      : sender(sender), contents(contents) { };\n",
    "    \n",
    "    const char* getContents() const {\n",
    "        return contents;\n",
    "    }\n",
    "};"
   ]
  },
  {
   "cell_type": "code",
   "execution_count": 2,
   "id": "better-rally",
   "metadata": {},
   "outputs": [],
   "source": [
    "#include <iostream>\n",
    "\n",
    "void readAndDelete(std::unique_ptr<Message> message) {\n",
    "    \n",
    "    // unique_ptrs with single objects offer access to its content's members with the usual * and -> syntax\n",
    "    std::cout << message->getContents() << std::endl;\n",
    "}"
   ]
  },
  {
   "cell_type": "code",
   "execution_count": 3,
   "id": "coordinate-cyprus",
   "metadata": {},
   "outputs": [
    {
     "name": "stdout",
     "output_type": "stream",
     "text": [
      "Hello, World\n"
     ]
    }
   ],
   "source": [
    "std::unique_ptr<Message> greeting = std::make_unique<Message>(\"Adam\", \"Hello, World\");\n",
    "\n",
    "readAndDelete(std::move(greeting));\n",
    "\n",
    "// NOTE: I can't use greeting anymore"
   ]
  },
  {
   "cell_type": "markdown",
   "id": "verified-congo",
   "metadata": {},
   "source": [
    "___But note___ that this means the original, outer-scope unique_ptr is no longer valid. When you submit a unique_ptr to a function call you are \"consuming\" that unique_ptr. The called function has now taken ownership of the data and it will be deleted when the function scope ends.\n",
    "\n",
    "_What if we didn't want to do this?_ What if we want the called function to have temporary access to the unique_ptr data without taking ownership of it. Then we have two options to choose from depending on what we intend to do. Here are the recommendations from Bjarne Stroustrup's [C++ Core Guidelines](https://isocpp.github.io/CppCoreGuidelines/CppCoreGuidelines#f7-for-general-use-take-t-or-t-arguments-rather-than-smart-pointers):\n",
    "\n",
    "__1)__ Most of the time we want to ask for a reference for the unique_ptr's underlying type, and call that function by de-referencing the unique_ptr. This implies we are only interested in a reference to some data, without any intention of changing or considering data ownership or lifetimes.\n",
    "\n",
    "_This approach can also be used with a pointer instead of a reference. In that scenario we call the unique_ptr's [get() method](https://en.cppreference.com/w/cpp/memory/unique_ptr/get) to get to its underlying pointer. We could also ask for the underlying type by-value if we want to create a copy of the underlying data._ "
   ]
  },
  {
   "cell_type": "code",
   "execution_count": 2,
   "id": "negative-guarantee",
   "metadata": {
    "scrolled": true
   },
   "outputs": [],
   "source": [
    "#include <iostream>\n",
    "std::unique_ptr<Message> greeting = std::make_unique<Message>(\"Adam\", \"Hello, World\");"
   ]
  },
  {
   "cell_type": "code",
   "execution_count": 10,
   "id": "fantastic-staff",
   "metadata": {},
   "outputs": [
    {
     "name": "stdout",
     "output_type": "stream",
     "text": [
      "In function: Hello, World\n",
      "After function: Hello, World\n"
     ]
    }
   ],
   "source": [
    "void readWithoutTakingOwnership(const Message& message) {\n",
    "    // I have a reference to the unique_ptr of the outer, calling scope without taking ownership\n",
    "    std::cout << \"In function: \" << message.getContents() << std::endl;\n",
    "};\n",
    "\n",
    "// Dereference the unique_ptr to get its underlying data\n",
    "readWithoutTakingOwnership(*greeting);\n",
    "\n",
    "// The unique_ptr \"greeting\" remains the owner of the data and still has its contents intact\n",
    "std::cout << \"After function: \" << greeting->getContents() << std::endl;"
   ]
  },
  {
   "cell_type": "markdown",
   "id": "traditional-robinson",
   "metadata": {},
   "source": [
    "__2)__ Alternatively we can ask for a reference to the actual unique_ptr itself. This implies we are interested in having access to this ownership information, and in fact we can do all the usual operations we might expect with the unique_ptr including moving data out of it or assigning it to new data. This is the recommended convention if the function is expected to change the ownership of the provided unique_ptr, such as \"re-seating\" the pointer on to other data."
   ]
  },
  {
   "cell_type": "code",
   "execution_count": 3,
   "id": "unique-cemetery",
   "metadata": {},
   "outputs": [
    {
     "name": "stdout",
     "output_type": "stream",
     "text": [
      "In function: Goodbye cruel world\n",
      "After function: Goodbye cruel world\n"
     ]
    }
   ],
   "source": [
    "#include <iostream>\n",
    "\n",
    "void modifyTheSmartPointer(std::unique_ptr<Message>& message) {\n",
    "    // reset() assigns new data to the unique_ptr and safely deletes the previous data\n",
    "    message.reset(new Message(\"Warren\", \"Goodbye cruel world\"));\n",
    "    std::cout << \"In function: \" << message->getContents() << std::endl;\n",
    "};\n",
    "\n",
    "std::unique_ptr<Message> greeting = std::make_unique<Message>(\"Adam\", \"Hello, World\");\n",
    "modifyTheSmartPointer(greeting);\n",
    "\n",
    "// The unique_ptr has been \"re-seated\" by the function and contains new dynamic data\n",
    "std::cout << \"After function: \" << greeting->getContents() << std::endl;"
   ]
  },
  {
   "cell_type": "markdown",
   "id": "light-pitch",
   "metadata": {},
   "source": [
    "3) we can pass only a reference to the unique_ptr instead of passing by value (which would trigger the move semantics) or we can get the raw pointer within our unique_ptr with `get()` and provide that to the function."
   ]
  },
  {
   "cell_type": "code",
   "execution_count": 4,
   "id": "inappropriate-trick",
   "metadata": {},
   "outputs": [
    {
     "name": "stdout",
     "output_type": "stream",
     "text": [
      "In function: Hello, World\n",
      "After function: Hello, World\n"
     ]
    }
   ],
   "source": [
    "void readWithoutTakingOwnership(const Message* message) {\n",
    "    // I have a raw pointer, in the same approach as with traditional C++\n",
    "    std::cout << \"In function: \" << message->getContents() << std::endl;\n",
    "};\n",
    "\n",
    "std::unique_ptr<Message> greeting = std::make_unique<Message>(\"Adam\", \"Hello, World\");\n",
    "readWithoutTakingOwnership(greeting.get());\n",
    "\n",
    "// The unique_ptr \"greeting\" is still the owner of the data and still has its contents\n",
    "std::cout << \"After function: \" << greeting->getContents() << std::endl;"
   ]
  },
  {
   "cell_type": "markdown",
   "id": "consecutive-budget",
   "metadata": {},
   "source": [
    "In summary, our function parameter should ask for:\n",
    " - `std::unique_ptr<Data>` if we intend the function to \"consume\" and take ownership of the data\n",
    " - `&std::unique_ptr<Data>` if we intend to make changes to the ownership of the unique_ptr object\n",
    " - `&Data`/`*Data`/`Data` if we want access to the underlying data (or a copy) without making any changes to ownership"
   ]
  },
  {
   "cell_type": "markdown",
   "id": "sufficient-accessory",
   "metadata": {},
   "source": [
    "#### Creation (Manual/make_unique)\n",
    "#### Rules for lifecycle management and unique_ptr vs ptr* in function signatures"
   ]
  },
  {
   "cell_type": "markdown",
   "id": "behavioral-comparison",
   "metadata": {},
   "source": [
    "\n",
    "\n",
    "### Shared_ptr\n",
    "Reference counted\n",
    "#### Creation (Manual/make_shared)\n",
    "#### Create extra reference\n",
    "#### Drop reference\n",
    "#### weak_ptr\n",
    "Non-owning reference - check for null and expect to lose at any time\n",
    "    Breaks cycles of shared_ptrs\n",
    "Example of object cache\n",
    "\n",
    "\n",
    "### Rules for smart pointers\n",
    "* create smart points with their std::make_* functions\n",
    "* return smart pointers by value\n",
    "* Accept unique_ptr as parameter if you intend to claim ownership\n",
    "* Accept shared_ptr as parameter if you intend to add to ownership\n",
    "* Accept raw pointer if you intend to use but not claim ownership\n",
    "\n",
    "### Use as data members in classes\n",
    "Use in member initialisation list\n",
    "Tie to object life-cycle\n",
    "#### Standard pattern"
   ]
  },
  {
   "cell_type": "code",
   "execution_count": null,
   "id": "incomplete-somerset",
   "metadata": {},
   "outputs": [],
   "source": []
  },
  {
   "cell_type": "code",
   "execution_count": null,
   "id": "hydraulic-stephen",
   "metadata": {},
   "outputs": [],
   "source": []
  }
 ],
 "metadata": {
  "kernelspec": {
   "display_name": "C++17",
   "language": "C++17",
   "name": "xcpp17"
  },
  "language_info": {
   "codemirror_mode": "text/x-c++src",
   "file_extension": ".cpp",
   "mimetype": "text/x-c++src",
   "name": "c++",
   "version": "17"
  }
 },
 "nbformat": 4,
 "nbformat_minor": 5
}
