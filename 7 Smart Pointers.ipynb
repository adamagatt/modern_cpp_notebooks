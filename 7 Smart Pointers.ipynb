{
 "cells": [
  {
   "cell_type": "markdown",
   "id": "confused-therapist",
   "metadata": {},
   "source": [
    "## 7 - Smart Pointers\n",
    "##### **Author: Adam Gatt**"
   ]
  },
  {
   "cell_type": "code",
   "execution_count": null,
   "id": "fixed-harbor",
   "metadata": {},
   "outputs": [],
   "source": []
  },
  {
   "cell_type": "markdown",
   "id": "governmental-least",
   "metadata": {},
   "source": [
    "### Intro - RAII for memory management\n",
    "\n",
    "#### Benefits\n",
    "Goal: A set of well-defined processes and reason-able rules by which we can ensure that memory leaks cannot occur.\n",
    "\n",
    "Ideal: Just like malloc/free, never write new/delete again\n",
    "\n",
    "#### Note: avoid auto_ptr\n",
    "Are unique_ptr and shared_ptr thread-safe?\n",
    "\n",
    "### Unique_ptr\n",
    "#### Creation (Manual/make_unique)\n",
    "#### Dereference operators (* and ->)\n",
    "#### Transfer ownership (move semantics)\n",
    "#### Returning from function\n",
    "\n",
    "### Shared_ptr\n",
    "Reference counted\n",
    "#### Creation (Manual/make_shared)\n",
    "#### Create extra reference\n",
    "#### Drop reference\n",
    "#### weak_ptr\n",
    "Non-owning reference - check for null and expect to lose at any time\n",
    "    Breaks cycles of shared_ptrs\n",
    "Example of object cache\n",
    "\n",
    "\n",
    "### Rules for smart pointers\n",
    "* create smart points with their std::make_* functions\n",
    "* return smart pointers by value\n",
    "* Accept unique_ptr as parameter if you intend to claim ownership\n",
    "* Accept shared_ptr as parameter if you intend to add to ownership\n",
    "* Accept raw pointer if you intend to use but not claim ownership\n",
    "\n",
    "### Use as data members in classes\n",
    "Use in member initialisation list\n",
    "Tie to object life-cycle\n",
    "#### Standard pattern"
   ]
  },
  {
   "cell_type": "code",
   "execution_count": null,
   "id": "worthy-winter",
   "metadata": {},
   "outputs": [],
   "source": []
  },
  {
   "cell_type": "code",
   "execution_count": null,
   "id": "initial-meaning",
   "metadata": {},
   "outputs": [],
   "source": []
  },
  {
   "cell_type": "code",
   "execution_count": null,
   "id": "incomplete-somerset",
   "metadata": {},
   "outputs": [],
   "source": []
  },
  {
   "cell_type": "code",
   "execution_count": null,
   "id": "hydraulic-stephen",
   "metadata": {},
   "outputs": [],
   "source": []
  }
 ],
 "metadata": {
  "kernelspec": {
   "display_name": "C++17",
   "language": "C++17",
   "name": "xcpp17"
  },
  "language_info": {
   "codemirror_mode": "text/x-c++src",
   "file_extension": ".cpp",
   "mimetype": "text/x-c++src",
   "name": "c++",
   "version": "17"
  }
 },
 "nbformat": 4,
 "nbformat_minor": 5
}
