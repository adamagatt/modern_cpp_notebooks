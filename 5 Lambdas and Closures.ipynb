{
 "cells": [
  {
   "cell_type": "markdown",
   "id": "universal-albany",
   "metadata": {},
   "source": [
    "# 5 - Lambdas and Closures\n",
    "##### **Author: Adam Gatt**\n",
    "\"Lambdas\" and the related \"closures\" are hugely useful concepts borrowed from [Functional Programming](https://en.wikipedia.org/wiki/Functional_programming). In the shortest explanation, a \"lambda\" is an anonymous function and a \"closure\" is a lambda that can include state from its environment at the time of its creation. If this makes sense to you, you might already be familiar with FP. But for this notebook we will work our way up to lambdas, by stepping through the pre-11 concepts of function references and functors."
   ]
  },
  {
   "cell_type": "markdown",
   "id": "attached-prisoner",
   "metadata": {},
   "source": [
    "## Function pointers and references\n",
    "Many computational tasks involve the use of a _\"High Level Function\"_, a function that accepts another function as a parameter. Common examples of this might be:\n",
    "* A function needs a _\"callback\"_ to be provided that it will execute when it fetches the data it needs.\n",
    "* A sort function needs a \"comparator\" function to tell it which of two elements should come first.\n",
    "* A filter function needs a \"predicate\" function to tell it which elements to keep.\n",
    "* A timer function that accepts another function to be periodically executed.\n",
    "* A profiler function that sets up a clock and times how long it takes a supplied function to execute.\n",
    "* The result of creating a function to \"factor-out\" or \"generalise\" two very similar pieces of code that differ by some small key piece of functionality. An example of this is shown below:"
   ]
  },
  {
   "cell_type": "code",
   "execution_count": 4,
   "id": "attended-somewhere",
   "metadata": {},
   "outputs": [],
   "source": [
    "// Original function - filter a list of ints to just those divisible by 2\n",
    "std::vector<int> filterMultiplesOfTwo(std::vector<int> input);\n",
    "\n",
    "// Generalise out the value \"2\" - now we filter to those divisible by any number we specify\n",
    "std::vector<int> filterMultiples(std::vector<int> input, int base);\n",
    "\n",
    "// A reference to a \"predicate\" function that accepts an element and decides true/false\n",
    "using Predicate = bool(&)(int);\n",
    "\n",
    "// Generalise out the concept of checking multiples - now we filter to those ints that pass\n",
    "// whatever \"predicate function\" we provide to our high-level function.\n",
    "std::vector<int> filter(std::vector<int> input, Predicate pred);"
   ]
  },
  {
   "cell_type": "markdown",
   "id": "annual-skirt",
   "metadata": {},
   "source": [
    "C++ readily allows us to create pointers and references to functions like we can for variables. We can assign these references to variables, re-assign them, pass them to/from functions, etc."
   ]
  },
  {
   "cell_type": "code",
   "execution_count": 1,
   "id": "brown-information",
   "metadata": {},
   "outputs": [
    {
     "data": {
      "text/plain": [
       "10"
      ]
     },
     "execution_count": 1,
     "metadata": {},
     "output_type": "execute_result"
    }
   ],
   "source": [
    "int timesTwo(int input) {\n",
    "    return input * 2;\n",
    "};\n",
    "\n",
    "// \"doubler\" is a reference to the function \"timesTwo\". The type of this\n",
    "// reference is a little messy - return_type(&name)(parameters). Note\n",
    "// that the brackets around doubler are very important\n",
    "int (&doubler)(int) = timesTwo;\n",
    "\n",
    "// Using \"auto\" may be cleaner\n",
    "auto &doubler2 = timesTwo;\n",
    "\n",
    "// We can call our function reference, the end result is the same as\n",
    "// if we called the original function\n",
    "doubler(5)"
   ]
  },
  {
   "cell_type": "code",
   "execution_count": 2,
   "id": "played-advance",
   "metadata": {},
   "outputs": [
    {
     "data": {
      "text/plain": [
       "-16"
      ]
     },
     "execution_count": 2,
     "metadata": {},
     "output_type": "execute_result"
    }
   ],
   "source": [
    "// We could also use pointers instead of references if there is a good reason to\n",
    "int (*doubler3)(int);\n",
    "\n",
    "doubler3 = &timesTwo;\n",
    "\n",
    "doubler3(-8)"
   ]
  },
  {
   "cell_type": "markdown",
   "id": "adaptive-lawrence",
   "metadata": {},
   "source": [
    "In the examples above we had to write a full function definition and then reference that name in the higher-level function call. This can be a lot of extra boilerplate if we are only calling the higher-level function once, and using the inner function nowhere else.\n",
    "\n",
    "Additionally, these defined inner functions need to be written somewhere. If we make frequent use of higher-level functions then we will end up with large collections of these once-off function definitions, bloating our design."
   ]
  },
  {
   "cell_type": "code",
   "execution_count": 2,
   "id": "rising-hollywood",
   "metadata": {},
   "outputs": [],
   "source": [
    "#include <algorithm>\n",
    "\n",
    "// I give this function a name here\n",
    "bool isHorror(Book book) {\n",
    "    return book.genre == \"Horror\";\n",
    "}\n",
    "\n",
    "// Just to use it in one actual place - here\n",
    "auto horrorBookItr = std::find_if(bookList.begin(), bookList.end(), &isHorror)"
   ]
  },
  {
   "cell_type": "markdown",
   "id": "ready-paint",
   "metadata": {},
   "source": [
    "This seems to be unique for function parameters. We can use other types of parameters, such as integers, by simply providing an actual literal value directly to the function call."
   ]
  },
  {
   "cell_type": "code",
   "execution_count": null,
   "id": "attempted-duplicate",
   "metadata": {},
   "outputs": [],
   "source": [
    "// 255 is an \"integer literal\" that we can specify directly to an integer parameter.\n",
    "int clippedValue = std::min(originalValue, 255);\n",
    "\n",
    "// \"Adam\" is \"string literal\" that we can specify directly to a (const char*)\n",
    "// parameter (or std::string via implicit conversion).\n",
    "auto foundPeople = std::find(names.begin(), names.end(), \"Adam\");"
   ]
  },
  {
   "cell_type": "markdown",
   "id": "beginning-sector",
   "metadata": {},
   "source": [
    "## Lambda - the Function Literal\n",
    "[_\"Lambdas\"_](https://en.wikipedia.org/wiki/Anonymous_function) are a concept from Functional Programming (and originally from [Lambda Calculus](https://en.wikipedia.org/wiki/Lambda_calculus)) that are supported in a number of languages and were introduced to C++ in C++11. In short, a lambda is an \"anonymous function\"; a function body that hasn't been assigned to a name.\n",
    "\n",
    "The syntax for a lambda looks as follows. Note the different types of brackets.\n",
    "> `[capture_list](parameters){function_body}`\n",
    "\n",
    "For example:"
   ]
  },
  {
   "cell_type": "code",
   "execution_count": 3,
   "id": "heavy-brick",
   "metadata": {},
   "outputs": [],
   "source": [
    "// This has input parameters, a body and a return statement just like a function, but\n",
    "// nowhere has it actually been given a name\n",
    "[](int x, int y){return x + y;};"
   ]
  },
  {
   "cell_type": "markdown",
   "id": "recovered-article",
   "metadata": {},
   "source": [
    "Don't worry about the opening `[]` for now; we'll cover it in a moment. But note how this looks just like a function without a name. We can put as many statements as we want within the curly braces. It's just that the entire section where the name, return type and qualifiers would all go is simply replaced by the `[]`."
   ]
  },
  {
   "cell_type": "markdown",
   "id": "soviet-exemption",
   "metadata": {},
   "source": [
    "I like to think of lambdas as \"function literals\", in much the same way that other data types also have literals. If we look at the statement\n",
    "> `int age = 20;`\n",
    "\n",
    "we know that `age` is an int. But `20` is also an int, hence why we can assign it to age or supply it directly as an argument to int parameters. 20 is a particular literal value of the int data type - an integer literal. Although we assign it to a variable, it can exist perfectly well without a name, for example in expressions such as `(20 - 5) / 3.0f`."
   ]
  },
  {
   "cell_type": "code",
   "execution_count": 1,
   "id": "wicked-hardwood",
   "metadata": {},
   "outputs": [
    {
     "data": {
      "text/plain": [
       "400"
      ]
     },
     "execution_count": 1,
     "metadata": {},
     "output_type": "execute_result"
    }
   ],
   "source": [
    "#include <string>\n",
    "\n",
    "int age = 20;\n",
    "\n",
    "char key = 'x';\n",
    "\n",
    "double distance = 1.8;\n",
    "\n",
    "float progress = 2.5f;\n",
    "\n",
    "std::string greeting = \"Hello\";\n",
    "\n",
    "// The right-hand side is a lambda expression, containing a particular literal function expression.\n",
    "auto square = [](int input){ return input * input; };\n",
    "\n",
    "square(20)"
   ]
  },
  {
   "cell_type": "markdown",
   "id": "tropical-timothy",
   "metadata": {},
   "source": [
    "#### Lambdas can be used without ever giving them a name"
   ]
  },
  {
   "cell_type": "code",
   "execution_count": 2,
   "id": "downtown-postage",
   "metadata": {},
   "outputs": [
    {
     "name": "stdout",
     "output_type": "stream",
     "text": [
      "The value is: 10"
     ]
    }
   ],
   "source": [
    "// This function expect us to provide an int\n",
    "void intPrinter(int value) {\n",
    "    printf(\"The value is: %d\", value);\n",
    "}\n",
    "\n",
    "// We know we can supply an int-literal. We don't need to assign 10\n",
    "// to a variable first in order to give it to the function.\n",
    "intPrinter(10);"
   ]
  },
  {
   "cell_type": "code",
   "execution_count": 1,
   "id": "animal-store",
   "metadata": {},
   "outputs": [
    {
     "name": "stdout",
     "output_type": "stream",
     "text": [
      "-5\n",
      "6\n"
     ]
    }
   ],
   "source": [
    "#include <iostream>\n",
    "#include <string>\n",
    "\n",
    "// Higher-level function expects us to provide a function to use as a callback\n",
    "void doSomethingWithFive( void (*operation)(int) ) {\n",
    "    operation(5);\n",
    "};\n",
    "\n",
    "// We can provide the function as a function-literal. This piece of computation\n",
    "// can simply exist. It doesn't need to be assigned to anything or given a name\n",
    "// in order to be used.\n",
    "doSomethingWithFive( [](int number){ std::cout << (-number) << std::endl; } );\n",
    "\n",
    "\n",
    "// This \"Immediately Invoked Function Expression\" doesn't need an assignment or name either\n",
    "std::cout << [](std::string input){return input.size();} (\"Lambda\") << std::endl;"
   ]
  },
  {
   "cell_type": "code",
   "execution_count": null,
   "id": "crazy-wagon",
   "metadata": {},
   "outputs": [],
   "source": [
    "XXX example in QT showing connecting a button onClick to a lambda instead of needing to write a standalone function\n",
    "\n",
    "XXX example for std::sort showing different lambdas for different ways to sort the same vector of structs"
   ]
  },
  {
   "cell_type": "markdown",
   "id": "israeli-timing",
   "metadata": {},
   "source": [
    "## Closures and the capture list\n",
    "The square brackets at the start of the lambda syntax is the _\"capture list\"_. You can list existing variables here and they will be available for use in the lambda body."
   ]
  },
  {
   "cell_type": "code",
   "execution_count": 1,
   "id": "banner-faculty",
   "metadata": {},
   "outputs": [
    {
     "data": {
      "text/plain": [
       "{ \"Michael\" }"
      ]
     },
     "execution_count": 1,
     "metadata": {},
     "output_type": "execute_result"
    }
   ],
   "source": [
    "#include <vector>\n",
    "#include <functional>\n",
    "\n",
    "// Dummy higher-order function - fetches a name from a database and provides it to a callback\n",
    "void getNameFromDB(std::function<void(std::string)> callback) {\n",
    "    std::string foundRecord = \"Michael\";\n",
    "    \n",
    "    callback(foundRecord);\n",
    "}\n",
    "\n",
    "\n",
    "std::list<std::string> names;\n",
    "\n",
    "// \"names\" is from an outer scope to the lambda body. The lambda only knows about it from its capture list.\n",
    "getNameFromDB( [&names](std::string newName){names.push_back(newName);} );\n",
    "\n",
    "names"
   ]
  },
  {
   "cell_type": "markdown",
   "id": "renewable-recycling",
   "metadata": {},
   "source": [
    "Technically this makes the lambda function into a [_closure_](https://en.wikipedia.org/wiki/Closure_(computer_programming)). This is a lambda that \"encloses\" variables from its surrounding scope so that it can continue to have access to them no matter where it is actually invoked (even in a different scope). Conceptually, it can help to think of the difference this way:\n",
    " * Treat a lambda like a \"function\" in mathematics - it should only really interact with input parameters and have no \"side effects\".\n",
    " * Treat a closure like a function that resides within a scope and can interact with the other variables within that scope\n",
    " \n",
    "Being able to interact with its enclosing scope is an important functional difference between closures and plain old function references, which ??? (only have access to global scope) ???"
   ]
  },
  {
   "cell_type": "markdown",
   "id": "accurate-lodge",
   "metadata": {},
   "source": [
    "### Closures are a sleek alternative to Functors\n",
    "The need for an inner function that accesses its local scope is traditionally fulfilled in C++ by the use of the _Functor_ idiom. A Functor is a class that implements `operator()` so that instances of it can be \"called\" as though they were functions. But being full-fledged classes they can accept arbitrary references and values at the site of their instantiation and store them as data members for use when the functor is eventually called. An example of this is below:"
   ]
  },
  {
   "cell_type": "code",
   "execution_count": 6,
   "id": "frozen-climb",
   "metadata": {},
   "outputs": [],
   "source": [
    "#include <fstream>\n",
    "\n",
    "class Logger {\n",
    "    private:\n",
    "        std::string filename;\n",
    "    public:\n",
    "        Logger(std::string filename) : filename(filename) { }\n",
    "    \n",
    "        void operator()(std::string message) {\n",
    "            std::ofstream ofs;\n",
    "            ofs.open (filename, std::ofstream::out | std::ofstream::app);\n",
    "            ofs << message;\n",
    "            ofs.close();\n",
    "        }\n",
    "};"
   ]
  },
  {
   "cell_type": "code",
   "execution_count": null,
   "id": "offshore-navigation",
   "metadata": {},
   "outputs": [],
   "source": [
    "Logger "
   ]
  },
  {
   "cell_type": "markdown",
   "id": "female-address",
   "metadata": {},
   "source": [
    "XXX ? the strategy pattern ? XXX"
   ]
  },
  {
   "cell_type": "markdown",
   "id": "accepting-affiliate",
   "metadata": {},
   "source": [
    "## What is the type of lambdas and closures?"
   ]
  },
  {
   "cell_type": "markdown",
   "id": "primary-benefit",
   "metadata": {},
   "source": [
    " * can submit lambda to a function reference/pointer parameter but not closure\n",
    " * can use std::functional (performance cost?)\n",
    " * can use template function or \"auto\" in generalised lambda"
   ]
  }
 ],
 "metadata": {
  "kernelspec": {
   "display_name": "C++17",
   "language": "C++17",
   "name": "xcpp17"
  },
  "language_info": {
   "codemirror_mode": "text/x-c++src",
   "file_extension": ".cpp",
   "mimetype": "text/x-c++src",
   "name": "c++",
   "version": "17"
  }
 },
 "nbformat": 4,
 "nbformat_minor": 5
}
