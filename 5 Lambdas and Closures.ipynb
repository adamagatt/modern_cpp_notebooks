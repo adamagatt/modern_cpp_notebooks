{
 "cells": [
  {
   "cell_type": "markdown",
   "id": "universal-albany",
   "metadata": {},
   "source": [
    "# 5 - Lambdas and Closures\n",
    "##### **Author: Adam Gatt**\n",
    "\"Lambdas\" and the related \"closures\" are hugely useful concepts borrowed from Functional Programming. In the shortest explanation, a \"lambda\" is an anonymous function literal and a \"closure\" is a lambda that can include state from its environment at the time of its creation. If this makes sense to you, you might already be familiar with FP. But for this notebook we will work our way up to lambdas, by stepping through the pre-11 concepts of function references and functors."
   ]
  },
  {
   "cell_type": "markdown",
   "id": "attached-prisoner",
   "metadata": {},
   "source": [
    "## Function pointers and references\n",
    "Many computational tasks involve the use of a _\"High Level Function\"_, a function that accepts another function as a parameter. Common examples of this might be:\n",
    "* A function needs a _\"callback\"_ to be provided that it will execute when it fetches the data it needs.\n",
    "* A sort function needs a \"comparator\" function to tell it which of two elements should come first.\n",
    "* A filter function needs a \"predicate\" function to tell it which elements to keep.\n",
    "* A function that starts a thread and needs a reference to the function that the thread will execute.\n",
    "* A timer function that accepts another function to be periodically executed.\n",
    "* The result of creating a function to \"factor-out\" or \"generlise\" two very similar pieces of code that differ by some small key piece of functionality. An example of this is shown below:"
   ]
  },
  {
   "cell_type": "code",
   "execution_count": 4,
   "id": "attended-somewhere",
   "metadata": {},
   "outputs": [],
   "source": [
    "// Original function - filter a list of ints to just those divisible by 2\n",
    "std::vector<int> filterMultiplesOfTwo(std::vector<int> input);\n",
    "\n",
    "// Generalise out the value \"2\" - now we filter to those divisible by any number we specify\n",
    "std::vector<int> filterMultiples(std::vector<int> input, int base);\n",
    "\n",
    "// A reference to a \"predicate\" function that accepts an element and decides true/false\n",
    "using Predicate = bool(&)(int);\n",
    "\n",
    "// Generalise out the concept of checking multiples - now we filter to those ints that pass\n",
    "// whatever \"predicate function\" we provide to our high-level function.\n",
    "std::vector<int> filter(std::vector<int> input, Predicate pred);"
   ]
  },
  {
   "cell_type": "markdown",
   "id": "annual-skirt",
   "metadata": {},
   "source": [
    "C++ readily allows us to create pointers and references to functions like we can for variables. We can assign these references to variables, re-assign them, pass them to/from functions, etc."
   ]
  },
  {
   "cell_type": "code",
   "execution_count": 12,
   "id": "brown-information",
   "metadata": {},
   "outputs": [
    {
     "data": {
      "text/plain": [
       "10"
      ]
     },
     "execution_count": 12,
     "metadata": {},
     "output_type": "execute_result"
    }
   ],
   "source": [
    "int timesTwo(int input) {\n",
    "    return input * 2;\n",
    "};\n",
    "\n",
    "// Here is another reference with the full reference type\n",
    "// Note that the brackets around doubler are very important\n",
    "int (&doubler)(int) = timesTwo;\n",
    "\n",
    "// Using \"auto\" may be cleaner\n",
    "auto &doubler2 = timesTwo;\n",
    "\n",
    "doubler(5)"
   ]
  },
  {
   "cell_type": "code",
   "execution_count": 13,
   "id": "played-advance",
   "metadata": {},
   "outputs": [
    {
     "data": {
      "text/plain": [
       "-16"
      ]
     },
     "execution_count": 13,
     "metadata": {},
     "output_type": "execute_result"
    }
   ],
   "source": [
    "// We could also use pointers instead of references if there is a good reason to\n",
    "int (*doubler3)(int);\n",
    "\n",
    "doubler3 = &timesTwo;\n",
    "\n",
    "doubler3(-8)"
   ]
  },
  {
   "cell_type": "markdown",
   "id": "chemical-saskatchewan",
   "metadata": {},
   "source": [
    "## Functors\n",
    "\n",
    "* general syntax\n",
    "* storing additional data (like closures)\n",
    "* the strategy pattern"
   ]
  },
  {
   "cell_type": "markdown",
   "id": "soviet-exemption",
   "metadata": {},
   "source": [
    "## Lambda - the Function Literal\n",
    "* function as first-class citizens https://en.wikipedia.org/wiki/First-class_citizen"
   ]
  },
  {
   "cell_type": "code",
   "execution_count": 1,
   "id": "wicked-hardwood",
   "metadata": {},
   "outputs": [
    {
     "data": {
      "text/plain": [
       "400"
      ]
     },
     "execution_count": 1,
     "metadata": {},
     "output_type": "execute_result"
    }
   ],
   "source": [
    "#include <string>\n",
    "\n",
    "int age = 0;\n",
    "\n",
    "char key = 'x';\n",
    "\n",
    "double distance = 1.8;\n",
    "\n",
    "float progress = 2.5f;\n",
    "\n",
    "std::string greeting = \"Hello\";\n",
    "\n",
    "auto square = [](int input){ return input * input; };\n",
    "\n",
    "square(20)"
   ]
  },
  {
   "cell_type": "code",
   "execution_count": 2,
   "id": "downtown-postage",
   "metadata": {},
   "outputs": [
    {
     "name": "stdout",
     "output_type": "stream",
     "text": [
      "The value is: 10"
     ]
    }
   ],
   "source": [
    "// This function expect us to provide an int\n",
    "void intPrinter(int value) {\n",
    "    printf(\"The value is: %d\", value);\n",
    "}\n",
    "\n",
    "// We know we can supply an int-literal. We don't need to assign 10\n",
    "// to a variable first in order to give it to the function.\n",
    "intPrinter(10);"
   ]
  },
  {
   "cell_type": "code",
   "execution_count": 3,
   "id": "animal-store",
   "metadata": {},
   "outputs": [
    {
     "name": "stdout",
     "output_type": "stream",
     "text": [
      "-5\n",
      "6\n"
     ]
    }
   ],
   "source": [
    "#include <iostream>\n",
    "#include <string>\n",
    "\n",
    "// Higher-level function expects us to provide a function to use as a callback\n",
    "void doSomethingWithFive( void (*operation)(int) ) {\n",
    "    operation(5);\n",
    "};\n",
    "\n",
    "// We can provide the function as a function-literal. This piece of computation\n",
    "// can simply exist. It doesn't need to be assigned to anything or given a name\n",
    "// in order to be used.\n",
    "doSomethingWithFive( [](int number){ std::cout << (-number) << std::endl; } );\n",
    "\n",
    "\n",
    "// This \"Immediately Invoked Function Expression\" doesn't need an assignment or name either\n",
    "std::cout << [](std::string input){return input.size();} (\"Lambda\") << std::endl;"
   ]
  },
  {
   "cell_type": "markdown",
   "id": "accepting-affiliate",
   "metadata": {},
   "source": [
    "## What is the type of a lambda?"
   ]
  },
  {
   "cell_type": "markdown",
   "id": "raising-terrain",
   "metadata": {},
   "source": [
    "## Closures"
   ]
  },
  {
   "cell_type": "markdown",
   "id": "wrapped-arena",
   "metadata": {},
   "source": [
    "## The capture list"
   ]
  },
  {
   "cell_type": "code",
   "execution_count": null,
   "id": "associate-dubai",
   "metadata": {},
   "outputs": [],
   "source": []
  }
 ],
 "metadata": {
  "kernelspec": {
   "display_name": "C++17",
   "language": "C++17",
   "name": "xcpp17"
  },
  "language_info": {
   "codemirror_mode": "text/x-c++src",
   "file_extension": ".cpp",
   "mimetype": "text/x-c++src",
   "name": "c++",
   "version": "17"
  }
 },
 "nbformat": 4,
 "nbformat_minor": 5
}
