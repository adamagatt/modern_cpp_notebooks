{
 "cells": [
  {
   "cell_type": "markdown",
   "id": "universal-albany",
   "metadata": {},
   "source": [
    "# 5 - Lambdas and Closures\n",
    "##### **Author: Adam Gatt**\n",
    "\"Lambdas\" and the related \"closures\" are hugely useful concepts borrowed from [Functional Programming](https://en.wikipedia.org/wiki/Functional_programming). In the shortest explanation, a \"lambda\" is an anonymous function and a \"closure\" is a lambda that can include state from its environment at the time of its creation. If this makes sense to you, you might already be familiar with FP. But for this notebook we will work our way up to lambdas, by stepping through the pre-11 concepts of function references and functors."
   ]
  },
  {
   "cell_type": "markdown",
   "id": "attached-prisoner",
   "metadata": {},
   "source": [
    "## Function pointers and references\n",
    "Many computational tasks involve the use of a _\"High Level Function\"_, a function that accepts another function as a parameter. Common examples of this might be:\n",
    "* A function needs a _\"callback\"_ to be provided that it will execute when it fetches the data it needs.\n",
    "* A sort function needs a \"comparator\" function to tell it which of two elements should come first.\n",
    "* A filter function needs a \"predicate\" function to tell it which elements to keep.\n",
    "* A timer function that accepts another function to be periodically executed.\n",
    "* A profiler function that sets up a clock and times how long it takes a supplied function to execute.\n",
    "* The result of creating a function to \"factor-out\" or \"generalise\" two very similar pieces of code that differ by some small key piece of functionality. An example of this is shown below:"
   ]
  },
  {
   "cell_type": "code",
   "execution_count": 4,
   "id": "attended-somewhere",
   "metadata": {},
   "outputs": [],
   "source": [
    "// Original function - filter a list of ints to just those divisible by 2\n",
    "std::vector<int> filterMultiplesOfTwo(std::vector<int> input);\n",
    "\n",
    "// Generalise out the value \"2\" - now we filter to those divisible by any number we specify\n",
    "std::vector<int> filterMultiples(std::vector<int> input, int base);\n",
    "\n",
    "// A reference to a \"predicate\" function that accepts an element and decides true/false\n",
    "using Predicate = bool(&)(int);\n",
    "\n",
    "// Generalise out the concept of checking multiples - now we filter to those ints that pass\n",
    "// whatever \"predicate function\" we provide to our high-level function.\n",
    "std::vector<int> filter(std::vector<int> input, Predicate pred);"
   ]
  },
  {
   "cell_type": "markdown",
   "id": "annual-skirt",
   "metadata": {},
   "source": [
    "C++ readily allows us to create pointers and references to functions like we can for variables. We can assign these references to variables, re-assign them, pass them to/from functions, etc."
   ]
  },
  {
   "cell_type": "code",
   "execution_count": 1,
   "id": "brown-information",
   "metadata": {},
   "outputs": [
    {
     "data": {
      "text/plain": [
       "10"
      ]
     },
     "execution_count": 1,
     "metadata": {},
     "output_type": "execute_result"
    }
   ],
   "source": [
    "int timesTwo(int input) {\n",
    "    return input * 2;\n",
    "};\n",
    "\n",
    "// \"doubler\" is a reference to the function \"timesTwo\". The type of this\n",
    "// reference is a little messy - return_type(&name)(parameters). Note\n",
    "// that the brackets around doubler are very important\n",
    "int (&doubler)(int) = timesTwo;\n",
    "\n",
    "// Using \"auto\" may be cleaner\n",
    "auto &doubler2 = timesTwo;\n",
    "\n",
    "// We can call our function reference, the end result is the same as\n",
    "// if we called the original function\n",
    "doubler(5)"
   ]
  },
  {
   "cell_type": "code",
   "execution_count": 2,
   "id": "played-advance",
   "metadata": {},
   "outputs": [
    {
     "data": {
      "text/plain": [
       "-16"
      ]
     },
     "execution_count": 2,
     "metadata": {},
     "output_type": "execute_result"
    }
   ],
   "source": [
    "// We could also use pointers instead of references if there is a good reason to\n",
    "int (*doubler3)(int);\n",
    "\n",
    "doubler3 = &timesTwo;\n",
    "\n",
    "doubler3(-8)"
   ]
  },
  {
   "cell_type": "markdown",
   "id": "adaptive-lawrence",
   "metadata": {},
   "source": [
    "To submit a function reference to another function we first have to write a full function definition and so that we can reference it in the higher-level function call. This can be a lot of extra boilerplate if we are only calling the higher-level function once, and using the inner function nowhere else.\n",
    "\n",
    "These inner function definitions need to be written somewhere. If we make frequent use of higher-level functions then we will end up with large collections of these once-off function definitions, bloating our design."
   ]
  },
  {
   "cell_type": "code",
   "execution_count": 2,
   "id": "rising-hollywood",
   "metadata": {},
   "outputs": [],
   "source": [
    "#include <algorithm>\n",
    "\n",
    "// I give this function a name here\n",
    "bool isHorror(Book book) {\n",
    "    return book.genre == \"Horror\";\n",
    "}\n",
    "\n",
    "// Just to use it in one actual place - here\n",
    "auto horrorBookItr = std::find_if(bookList.begin(), bookList.end(), &isHorror)"
   ]
  },
  {
   "cell_type": "markdown",
   "id": "ready-paint",
   "metadata": {},
   "source": [
    "This seems to be unique for function parameters. We can use other types of parameters, such as integers, by simply providing an actual literal value directly to the function call."
   ]
  },
  {
   "cell_type": "code",
   "execution_count": null,
   "id": "attempted-duplicate",
   "metadata": {},
   "outputs": [],
   "source": [
    "// 255 is an \"integer literal\" that we can specify directly to an integer parameter.\n",
    "int clippedValue = std::min(originalValue, 255);\n",
    "\n",
    "// \"Adam\" is \"string literal\" that we can specify directly to a (const char*)\n",
    "// parameter (or std::string via implicit conversion).\n",
    "auto foundPeople = std::find(names.begin(), names.end(), \"Adam\");"
   ]
  },
  {
   "cell_type": "markdown",
   "id": "beginning-sector",
   "metadata": {},
   "source": [
    "## Lambda - the Function Literal\n",
    "[_\"Lambdas\"_](https://en.wikipedia.org/wiki/Anonymous_function) are a concept from Functional Programming (and originally from [Lambda Calculus](https://en.wikipedia.org/wiki/Lambda_calculus)) that are supported in a number of languages and were introduced to C++ in C++11. In short, a lambda is an \"anonymous function\"; a function body that hasn't been assigned to a name.\n",
    "\n",
    "The syntax for a lambda looks as follows. Note the different types of brackets.\n",
    "> `[capture_list](parameters){function_body}`\n",
    "\n",
    "For example:"
   ]
  },
  {
   "cell_type": "code",
   "execution_count": 3,
   "id": "heavy-brick",
   "metadata": {},
   "outputs": [],
   "source": [
    "// This has input parameters, a body and a return statement just like a function, but\n",
    "// nowhere has it actually been given a name\n",
    "[](int x, int y){return x + y;};"
   ]
  },
  {
   "cell_type": "markdown",
   "id": "recovered-article",
   "metadata": {},
   "source": [
    "Don't worry about the opening `[]` for now; we'll cover it in a moment. But note how this looks just like a function without a name. We can put as many statements as we want within the curly braces. It's just that the entire section where the name, return type and qualifiers would all go is simply replaced by the `[]`."
   ]
  },
  {
   "cell_type": "markdown",
   "id": "soviet-exemption",
   "metadata": {},
   "source": [
    "I like to think of lambdas as \"function literals\", in much the same way that other data types also have literals. If we look at the statement\n",
    "> `int age = 20;`\n",
    "\n",
    "we know that `age` is an int. But `20` is also an int, hence why we can assign it to age or supply it directly as an argument to int parameters. 20 is a particular literal value of the int data type - an integer literal. Although we assign it to a variable, it can exist perfectly well without a name, for example in expressions such as `(20 - 5) / 3.0f`."
   ]
  },
  {
   "cell_type": "code",
   "execution_count": 1,
   "id": "wicked-hardwood",
   "metadata": {},
   "outputs": [
    {
     "data": {
      "text/plain": [
       "400"
      ]
     },
     "execution_count": 1,
     "metadata": {},
     "output_type": "execute_result"
    }
   ],
   "source": [
    "#include <string>\n",
    "\n",
    "int age = 20;\n",
    "\n",
    "char key = 'x';\n",
    "\n",
    "double distance = 1.8;\n",
    "\n",
    "float progress = 2.5f;\n",
    "\n",
    "std::string greeting = \"Hello\";\n",
    "\n",
    "// The right-hand side is a lambda expression, containing a particular literal function expression.\n",
    "auto square = [](int input){ return input * input; };\n",
    "\n",
    "square(20)"
   ]
  },
  {
   "cell_type": "markdown",
   "id": "anticipated-ideal",
   "metadata": {},
   "source": [
    "Now that we can represent a function literal then we can finally submit a function to a parameter without needing to write a full definition somewhere else first. Here is our horror book finder from earlier."
   ]
  },
  {
   "cell_type": "markdown",
   "id": "tropical-timothy",
   "metadata": {},
   "source": [
    "#### Lambdas can be used without ever giving them a name"
   ]
  },
  {
   "cell_type": "code",
   "execution_count": 2,
   "id": "downtown-postage",
   "metadata": {},
   "outputs": [
    {
     "name": "stdout",
     "output_type": "stream",
     "text": [
      "The value is: 10"
     ]
    }
   ],
   "source": [
    "// This function expect us to provide an int\n",
    "void intPrinter(int value) {\n",
    "    printf(\"The value is: %d\", value);\n",
    "}\n",
    "\n",
    "// We know we can supply an int-literal. We don't need to assign 10\n",
    "// to a variable first in order to give it to the function.\n",
    "intPrinter(10);"
   ]
  },
  {
   "cell_type": "code",
   "execution_count": 1,
   "id": "intellectual-hospital",
   "metadata": {},
   "outputs": [
    {
     "name": "stderr",
     "output_type": "stream",
     "text": [
      "\u001b[1minput_line_8:2:73: \u001b[0m\u001b[0;1;31merror: \u001b[0m\u001b[1munknown type name 'Book'\u001b[0m\n",
      " auto horrorBookItr = std::find_if(bookList.begin(), bookList.end(), [](Book book){return book.genre == \"Horror\";});\n",
      "\u001b[0;1;32m                                                                        ^\n",
      "\u001b[0m\u001b[1minput_line_8:2:36: \u001b[0m\u001b[0;1;31merror: \u001b[0m\u001b[1muse of undeclared identifier 'bookList'\u001b[0m\n",
      " auto horrorBookItr = std::find_if(bookList.begin(), bookList.end(), [](Book book){return book.genre == \"Horror\";});\n",
      "\u001b[0;1;32m                                   ^\n",
      "\u001b[0m\u001b[1minput_line_8:2:54: \u001b[0m\u001b[0;1;31merror: \u001b[0m\u001b[1muse of undeclared identifier 'bookList'\u001b[0m\n",
      " auto horrorBookItr = std::find_if(bookList.begin(), bookList.end(), [](Book book){return book.genre == \"Horror\";});\n",
      "\u001b[0;1;32m                                                     ^\n",
      "\u001b[0m"
     ]
    },
    {
     "ename": "Interpreter Error",
     "evalue": "",
     "output_type": "error",
     "traceback": [
      "Interpreter Error: "
     ]
    }
   ],
   "source": [
    "#include <algorithm>\n",
    "\n",
    "auto horrorBookItr = std::find_if(bookList.begin(), bookList.end(), [](Book book){return book.genre == \"Horror\";});"
   ]
  },
  {
   "cell_type": "markdown",
   "id": "elegant-procedure",
   "metadata": {},
   "source": [
    "We can use as many lambdas as we need without needing to write a bunch of function definitions. We can substitute in different lambdas to provide different behaviour to the high-level function."
   ]
  },
  {
   "cell_type": "code",
   "execution_count": 1,
   "id": "crazy-wagon",
   "metadata": {},
   "outputs": [],
   "source": [
    "#include <vector>\n",
    "#include <string>\n",
    "\n",
    "struct Film {\n",
    "    std::string title;\n",
    "    int yearReleased;\n",
    "    std::string rating;\n",
    "};\n",
    "\n",
    "std::vector<Film> collection {{\"a\", 2, \"b\"}, {\"c\", 4, \"d\"}};\n",
    "\n",
    "// Do I want to sort by title?\n",
    "std::sort(collection.begin(), collection.end(), [](const Film& a, const Film& b){return a.title < b.title;});\n",
    "\n",
    "// Or year or rating. Whatever the current operation requires.\n",
    "std::sort(collection.begin(), collection.end(), [](const Film& a, const Film& b){return a.yearReleased < b.yearReleased;});\n",
    "std::sort(collection.begin(), collection.end(), [](const Film& a, const Film& b){return a.rating < b.rating;});"
   ]
  },
  {
   "cell_type": "markdown",
   "id": "accepted-billy",
   "metadata": {},
   "source": [
    "This \"Immediately Invoked Function Expression\" doesn't need an assignment or a name in order to be executed."
   ]
  },
  {
   "cell_type": "code",
   "execution_count": 2,
   "id": "animal-store",
   "metadata": {},
   "outputs": [
    {
     "name": "stdout",
     "output_type": "stream",
     "text": [
      "6\n"
     ]
    }
   ],
   "source": [
    "#include <iostream>\n",
    "#include <string>\n",
    "\n",
    "std::cout << [](std::string input){return input.size();} (\"Lambda\") << std::endl;"
   ]
  },
  {
   "cell_type": "markdown",
   "id": "elder-andrew",
   "metadata": {},
   "source": [
    "Lambdas find great use in GUI applications like Qt where GUI elements can trigger events (button clicks, sliders moving). The developer can use a lambda to submit a little script that should run when the event is triggered, a considerable efficiency over registering a subscriber/listener or writing an anonymous inner class. These are traditional boilerplate-heavy solutions to what is essentially just describing a piece of processing functionality."
   ]
  },
  {
   "cell_type": "code",
   "execution_count": null,
   "id": "tutorial-malta",
   "metadata": {},
   "outputs": [],
   "source": [
    "QPushButton messageButton{\"Test Debug\"};\n",
    "\n",
    "connect(messageButton, &QPushButton::clicked, [](){qDebug() << \"Test Message\";});"
   ]
  },
  {
   "cell_type": "markdown",
   "id": "israeli-timing",
   "metadata": {},
   "source": [
    "## Closures and the capture list\n",
    "The square brackets at the start of the lambda syntax is the _\"capture list\"_. You can list existing variables here and they will be available for use in the lambda body."
   ]
  },
  {
   "cell_type": "code",
   "execution_count": 1,
   "id": "banner-faculty",
   "metadata": {},
   "outputs": [
    {
     "data": {
      "text/plain": [
       "{ \"Michael\" }"
      ]
     },
     "execution_count": 1,
     "metadata": {},
     "output_type": "execute_result"
    }
   ],
   "source": [
    "#include <vector>\n",
    "#include <functional>\n",
    "\n",
    "// Dummy higher-order function - fetches a name from a database and provides it to a callback\n",
    "void getNameFromDB(std::function<void(std::string)> callback) {\n",
    "    std::string foundRecord = \"Michael\";\n",
    "    \n",
    "    callback(foundRecord);\n",
    "}\n",
    "\n",
    "\n",
    "std::list<std::string> names;\n",
    "\n",
    "// \"names\" is from an outer scope to the lambda body. The lambda only knows about it from its capture list.\n",
    "// The \"&\" indicates that we are using a reference for \"names\" instead of making a copy\n",
    "getNameFromDB( [&names](std::string newName){names.push_back(newName);} );\n",
    "\n",
    "names"
   ]
  },
  {
   "cell_type": "markdown",
   "id": "moved-organ",
   "metadata": {},
   "source": [
    "Technically this makes the lambda function into a [_closure_](https://en.wikipedia.org/wiki/Closure_(computer_programming)). This is a lambda that \"encloses\" variables from its surrounding scope so that it can continue to have access to them no matter where it is actually invoked (even in a different scope)."
   ]
  },
  {
   "cell_type": "code",
   "execution_count": 1,
   "id": "together-guatemala",
   "metadata": {},
   "outputs": [
    {
     "name": "stdout",
     "output_type": "stream",
     "text": [
      "24 - 60"
     ]
    }
   ],
   "source": [
    "#include <iostream>\n",
    "#include <functional>\n",
    "\n",
    "std::function<double(double)> getScaler(double factor) {\n",
    "    return [factor](double input){return input * factor;};\n",
    "}\n",
    "\n",
    "auto scaleByFour = getScaler(4.0);\n",
    "\n",
    "auto scaleByTen = getScaler(10.0);\n",
    "\n",
    "// The \"factor\" variable only existed within the scope of the getScaler function, but by\n",
    "// capturing it in the lambda and then returning that lambda we have smuggled out these\n",
    "// values to be used in whatever scope the lambda is eventually called in.\n",
    "std::cout << scaleByFour(6.0) << \" - \" << scaleByTen(6.0);"
   ]
  },
  {
   "cell_type": "markdown",
   "id": "renewable-recycling",
   "metadata": {},
   "source": [
    "Conceptually, it can help to think of the difference this way:\n",
    " * Treat a **lambda** like a \"function\" in mathematics - it should only really interact with input parameters and have no \"side effects\".\n",
    " * Treat a **closure** like a function that can be passed around and still interact with variables from the scope it was created."
   ]
  },
  {
   "cell_type": "markdown",
   "id": "sensitive-triumph",
   "metadata": {},
   "source": [
    "### Capture List Syntax\n",
    "\n",
    "Variables can be captured either by value (copied into the closure) or by reference. When copying by reference, you must be careful that the referenced variable will continue to exist at the time that the closure is executed, in order to avoid a dangling reference error.\n",
    "\n",
    "| Syntax | Description |\n",
    "| --- | --- |\n",
    "| \\[ = \\<var\\> \\] | Capture variable by value |\n",
    "| \\[ & \\<var\\> \\] | Capture variable by reference |\n",
    "\n",
    "It is possible to capture multiple variables by listing them all out. There is also a convenience syntax of simply writing `[=]` to capture all variables that appear in the closure body by value, or `[&]` to capture them by reference.\n",
    "\n",
    "| Syntax | Description |\n",
    "| --- | --- |\n",
    "| \\[ \\<var1\\>, \\<var2\\>, ... \\] | Capture multiple variables |\n",
    "| \\[ = \\] | Automatic capture of variable values |\n",
    "| \\[ & \\] | Automatic capture of variable references |\n",
    "\n",
    "\n",
    "If the closure appears within the context of a class object, you will need to capture `this` to be able to use the object's data members. This can be included by the automatic capture syntax but it will always capture the object by a pointer (the pointer is copied by value) regardless of the automatic capture approach chosen. A by-value copy of the entire object can be captured in C++17 onwards by capturing `*this`;\n",
    "\n",
    "| Syntax | Description |\n",
    "| --- | --- |\n",
    "| \\[ this \\] | Capture the current object pointer |\n",
    "| \\[ *this \\] | Capture the current object by value |\n",
    "\n",
    "XXX REDEFINITION OF CAPTURE VARIABLES TO DIFFERENT NAMES XXX"
   ]
  },
  {
   "cell_type": "markdown",
   "id": "accurate-lodge",
   "metadata": {},
   "source": [
    "### Closures are a sleek alternative to Functors\n",
    "The need for an inner function that accesses its originating scope is traditionally fulfilled in C++ by the use of the _Functor_ idiom. A Functor is a class that implements `operator()` so that instances of it can be \"called\" as though they were functions. But being fully-fledged classes they can accept arbitrary references and values at the site of their instantiation (via the constructor) and store them as data members for use when the functor is eventually called. An example of this is below:"
   ]
  },
  {
   "cell_type": "code",
   "execution_count": 1,
   "id": "frozen-climb",
   "metadata": {},
   "outputs": [],
   "source": [
    "#include <fstream>\n",
    "#include <string>\n",
    "\n",
    "// Classic functor that accepts data in its constructor, remembers it and uses it\n",
    "// in the operator() method\n",
    "class ListLogger {\n",
    "    private:\n",
    "        std::list<std::string>& log;\n",
    "    public:\n",
    "        ListLogger(std::list<std::string>& log) : log(log) { }\n",
    "    \n",
    "        void operator()(std::string message) {\n",
    "            log.push_back(message);\n",
    "        }\n",
    "};"
   ]
  },
  {
   "cell_type": "code",
   "execution_count": 2,
   "id": "offshore-navigation",
   "metadata": {},
   "outputs": [],
   "source": [
    "// With our functor instance we can call it with a syntax that looks identical to a function call\n",
    "\n",
    "template <typename T>\n",
    "void executeTestProcedure(T logger) {\n",
    "    logger(\"Starting tests\");\n",
    "    // Do some stuff\n",
    "    logger(\"Tests finished\");\n",
    "}"
   ]
  },
  {
   "cell_type": "code",
   "execution_count": 3,
   "id": "cognitive-calendar",
   "metadata": {},
   "outputs": [
    {
     "data": {
      "text/plain": [
       "{ \"Starting tests\", \"Tests finished\" }"
      ]
     },
     "execution_count": 3,
     "metadata": {},
     "output_type": "execute_result"
    }
   ],
   "source": [
    "std::list<std::string> myLogList;\n",
    "\n",
    "ListLogger myLogger{myLogList};\n",
    "\n",
    "executeTestProcedure(myLogger);\n",
    "\n",
    "myLogList"
   ]
  },
  {
   "cell_type": "markdown",
   "id": "scenic-netherlands",
   "metadata": {},
   "source": [
    "Based on how it is used, we can see that a Functor is the OO approach to a closure, a defined piece of processing functionality that can interact with the scope in which it was created. Its full class definition results in a large amount of boilerplate that is not necessary for the closure equivalent."
   ]
  },
  {
   "cell_type": "code",
   "execution_count": 5,
   "id": "innovative-cross",
   "metadata": {},
   "outputs": [
    {
     "name": "stderr",
     "output_type": "stream",
     "text": [
      "\u001b[1minput_line_15:2:25: \u001b[0m\u001b[0;1;31merror: \u001b[0m\u001b[1m'myLogList' cannot be captured because it does not have automatic storage duration\u001b[0m\n",
      " auto closureLogger = [&myLogList](std::string message) {\n",
      "\u001b[0;1;32m                        ^\n",
      "\u001b[0m\u001b[1minput_line_10:2:25: \u001b[0m\u001b[0;1;30mnote: \u001b[0m'myLogList' declared here\u001b[0m\n",
      " std::list<std::string> myLogList;\n",
      "\u001b[0;1;32m                        ^\n",
      "\u001b[0m"
     ]
    },
    {
     "ename": "Interpreter Error",
     "evalue": "",
     "output_type": "error",
     "traceback": [
      "Interpreter Error: "
     ]
    }
   ],
   "source": [
    "auto closureLogger = [&myLogList](std::string message) {\n",
    "    myLogList.push_back(message);\n",
    "};\n",
    "\n",
    "executeTestProcedure(closureLogger);\n",
    "\n",
    "myLogList"
   ]
  },
  {
   "cell_type": "markdown",
   "id": "female-address",
   "metadata": {},
   "source": [
    "XXX ? the strategy pattern ? XXX"
   ]
  },
  {
   "cell_type": "markdown",
   "id": "accepting-affiliate",
   "metadata": {},
   "source": [
    "## What is the type of lambdas and closures?"
   ]
  },
  {
   "cell_type": "markdown",
   "id": "primary-benefit",
   "metadata": {},
   "source": [
    " * can submit lambda to a function reference/pointer parameter but not closure\n",
    " * can use std::functional (performance cost?)\n",
    " * can use template function or \"auto\" in generalised lambda"
   ]
  }
 ],
 "metadata": {
  "kernelspec": {
   "display_name": "C++17",
   "language": "C++17",
   "name": "xcpp17"
  },
  "language_info": {
   "codemirror_mode": "text/x-c++src",
   "file_extension": ".cpp",
   "mimetype": "text/x-c++src",
   "name": "c++",
   "version": "17"
  }
 },
 "nbformat": 4,
 "nbformat_minor": 5
}
