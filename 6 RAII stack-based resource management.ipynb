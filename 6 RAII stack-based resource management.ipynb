{
 "cells": [
  {
   "cell_type": "markdown",
   "id": "a2e3b023-4f8d-4a22-99a2-f99f6067c84e",
   "metadata": {},
   "source": [
    "## 6 - RAII (or: stack-based resource management)\n",
    "##### **Author: Adam Gatt**"
   ]
  },
  {
   "cell_type": "markdown",
   "id": "400e8584-085d-4045-a5f5-6e61dde52bbb",
   "metadata": {},
   "source": [
    "### The resource management pattern\n",
    "A common pattern that repeatedly comes up in software development goes as follows:\n",
    "1. You need to acquire a resource\n",
    "2. You do something with the resource\n",
    "3. You have to release the resource or perform some other clean up\n",
    "\n",
    "This is the [resource management](https://en.wikipedia.org/wiki/Resource_management_(computing)) pattern, and it is a generalisation of a wide range of use cases, including the following:\n",
    "\n",
    "| Acquire the resource | Activity | Release / cleanup |\n",
    "| --- | --- | --- |\n",
    "| Memory allocation (new) | **Using dynamic memory** | Freeing the memory (delete) |\n",
    "| Opening a file | **Performing file operations** | Closing the file |\n",
    "| Connecting to a database server | **Making database transactions** | Closing the connection |\n",
    "| Acquire a mutex/lock | **Perform thread-safe activity** | Release the mutex/lock |\n",
    "| Altering a bitmap mask | **Performing drawing operations** | Restoring the previous mask |\n",
    "| Establish an SFTP connection | **Perform a file transfer** | Closing the connection |\n",
    "| [Turn off system interrupts](https://energia.nu/reference/en/language/functions/interrupts/nointerrupts/) | **Perform an atomic operation** | [Re-establish interrupts](https://energia.nu/reference/en/language/functions/interrupts/interrupts/) |\n",
    "\n",
    "The third step must be important if an activity is to fall into this pattern. The programmer must be careful to ensure that it occurs or else there will be important consequences, such as memory leaks, or a thread deadlock, or exhausting of a database connection pool.\n",
    "\n",
    "We can decide to solve the problem by just making sure that whenever an acquisition occurs we can write a matching release operation. But as with any strategy that we decide to enforce manually, complications get in the way:\n",
    " * A function may have unexpected early returns that require us to write multiple release statements (and check each one to determine if the resource was ever actually acquired, and check to make sure we don't release it twice).\n",
    " * An exception may be thrown that prevents the program from ever reaching our release statement (and without checked exceptions we might not realise that a statement might throw an exception).\n",
    " * The resource might only need to be acquired based on some condition, and so we must be careful to ensure that releases are executed the exact same amount as the executing acquisitions.\n",
    " * If the function is long and messy enough we might simply forget the release statement and not notice its absence."
   ]
  },
  {
   "cell_type": "markdown",
   "id": "positive-nancy",
   "metadata": {},
   "source": [
    "### What do other languages do?\n",
    "We might notice that memory allocation isn't too much of an issue with interpreted or virtual machine languages which can employ [garbage collection](https://en.wikipedia.org/wiki/Garbage_collection_(computer_science)) to clean up old memory. Although this comes at a cost to overhead and reliability, it allows us to write entire programs in Java or Python without ever needing to manually delete an object or even consider when their deletion will occur.\n",
    "\n",
    "But similar automated schemes are usually not available for these other resource management activities. How can a virtual machine know when to close down a database connection, for example? Even if we have some Database object that falls out of use, how do we know that deleting it will close the connection? And even if it did, how do we know if the garbage collector will be called soon enough or if the connection will remain unclosed for quite some time, using up a valuable limited resource?\n",
    "\n",
    "And if the VM follows some other heuristic (e.g. after some period of inactivity) then how do we cope with the times when the VM gets it wrong? Do we need to check that the connection is fine every single time that we want to make a transaction, and re-establish the connection if it isn't?\n",
    "\n",
    "Instead, these newer languages often offer language semantics to automatically handle the resource releasing for us. This often involves representing the activity's context as an object that understands how to perform its own cleanup, and then offering syntax in the language itself to trigger that cleanup operation when control leaves that context.\n",
    "#### C Sharp\n",
    "C# offers the [using syntax](https://docs.microsoft.com/en-us/dotnet/csharp/language-reference/keywords/using-statement) to automatically manage objects with the [IDisposable](https://docs.microsoft.com/en-us/dotnet/api/system.idisposable?view=net-5.0) interface:"
   ]
  },
  {
   "cell_type": "code",
   "execution_count": null,
   "id": "proof-wisconsin",
   "metadata": {},
   "outputs": [],
   "source": [
    "using (DbConnection conn = new DbConnection())\n",
    "{\n",
    "    // Perform database operations\n",
    "}"
   ]
  },
  {
   "cell_type": "markdown",
   "id": "corporate-integration",
   "metadata": {},
   "source": [
    "#### Python\n",
    "The Python [with statement](https://www.geeksforgeeks.org/with-statement-in-python/) allows us to call any function that returns a [context manager](https://book.pythontips.com/en/latest/context_managers.html#implementing-a-context-manager-as-a-class) object. It will give us a handle to the object for our own use and call its `__exit__()` method automatically when control flow leaves the scope of the with statement:"
   ]
  },
  {
   "cell_type": "code",
   "execution_count": null,
   "id": "fitting-simon",
   "metadata": {},
   "outputs": [],
   "source": [
    "for filename in config_files:\n",
    "    with File(filename, 'r') as file:\n",
    "        loaded_configs[filename] = list(file)"
   ]
  },
  {
   "cell_type": "markdown",
   "id": "082dbc29-7332-4c84-b9aa-68bf2793e0aa",
   "metadata": {},
   "source": [
    "### The destructor, C++'s secret weapon\n",
    "It has been said that C++'s greatest feature is [precisely determined object lifetimes](https://akrzemi1.wordpress.com/2013/07/18/cs-best-feature/) and more specifically, the destructor.\n",
    " * Garbage collected languages do not allow us this level of control, where we can precisely reason the exact moment when an object will be deleted.\n",
    " * Even better, when our object is stack-based (not dynamic) then the program will automatically delete the object for us the moment it falls out of scope, with no explicit `delete` statement required.\n",
    " * Even betterer, the availability of the destructor allows us to write our own code that will be executed at those moments.\n",
    "\n",
    "These advantages form the heart of C++'s answer to the resource management pattern, in the form of the hideously named [Resource Acquisition is Initialisation](https://en.wikipedia.org/wiki/Resource_acquisition_is_initialization) (RAII) idiom. In short, the RAII approach is:\n",
    "> We can manage resources by tying them to scope blocks, and we can do this by tying them to stack-based objects.\n",
    "\n",
    "Firstly, we can trivially create objects that fulfil a \"context manager\" role, where they acquire a resource in the constructor and release it in the destructor. Secondly, if the object is on the stack then we can simply use scopes to manage the lifetime of that object, allowing for the \"release\" operation to be called automatically without the need for any special syntax like the languages above.\n",
    "\n",
    "This provides us with a high-level abstraction for handling the resource management pattern. Instead of needing to carefully determine when and how to call low-level release functions, instead we simply create a context-managing \"RAII object\" and define the scope over which the resource should be held."
   ]
  },
  {
   "cell_type": "markdown",
   "id": "7f350001-cdf8-4a63-bce7-b336fc8e56f3",
   "metadata": {},
   "source": [
    "### The standard RAII object\n",
    "The minimum template for a RAII object is remarkably simple:"
   ]
  },
  {
   "cell_type": "code",
   "execution_count": null,
   "id": "injured-hawaiian",
   "metadata": {},
   "outputs": [],
   "source": [
    "class ResourceManager {\n",
    "    public:\n",
    "    ResourceManager() {\n",
    "        // Acquire the resource\n",
    "    }\n",
    "    \n",
    "    ~ResourceManager() {\n",
    "        // Free the resource\n",
    "    }\n",
    "}"
   ]
  },
  {
   "cell_type": "markdown",
   "id": "worse-independence",
   "metadata": {},
   "source": [
    "Perhaps we need data members to keep a reference to the resource (e.g. a file handle) or perhaps we don't (e.g. if we are simply calling global functions to turn interrupts on/off). We can also provide other methods to allow for other operations that we might need with the acquired resource. These will be application-dependent. But the bare minimum of a RAII object is:\n",
    "* It is a class, that\n",
    "* Obtains the resource in its constructor, and\n",
    "* Releases the resource in its destructor\n",
    "\n",
    "Initialisation and resource acquisition are inextricably tied together, and so \"Resource Acquisition is Initialisation\".\n",
    "\n",
    "To use the object we instantiate it on the stack within the scope that we need the resource. Here is an example that uses Qt's [QMutexLocker](https://doc.qt.io/qt-5/qmutexlocker.html), which is an RAII class for automatically acquiring and releasing a mutex:"
   ]
  },
  {
   "cell_type": "code",
   "execution_count": null,
   "id": "naked-scratch",
   "metadata": {},
   "outputs": [],
   "source": [
    "class BackBuffer {\n",
    "    private:\n",
    "    QImage pixels;\n",
    "    QMutex pixelMutex;\n",
    "    \n",
    "    ...\n",
    "    \n",
    "    public:\n",
    "    /*\n",
    "      The backbuffer image can be written to and read from by\n",
    "      different threads and so we use a Mutex to synchronise\n",
    "      access to our pixels object.\n",
    "    */\n",
    "    void drawToBackBuffer(int colIdx, int rowIdx, QRgb colour) {\n",
    "        // QMutexLocker accepts a reference to our mutex and calls lock() on it\n",
    "        QMutexLocker locker{&pixelMutex};\n",
    "        \n",
    "        // Operations from this point onwards are thread-safe with respect to pixelMutex\n",
    "        \n",
    "        \n",
    "        // At the end of the method \"locker\" will fall out of scope and its\n",
    "        // destructor will be called, which will call unlock() on our mutex.\n",
    "        // Nowhere did we need to call unlock() ourselves.\n",
    "    }\n",
    "}"
   ]
  },
  {
   "cell_type": "markdown",
   "id": "spoken-child",
   "metadata": {},
   "source": [
    "Note how in this example our actual resource, the mutex, existed long-term as a data member in our BackBuffer class. But the RAII object `locker` is not stored anywhere or kept as a data member. Its purpose is to be created on the stack within the function itself, and to die when we want the mutex to be released."
   ]
  },
  {
   "cell_type": "markdown",
   "id": "robust-filing",
   "metadata": {},
   "source": [
    "### Robust cleanup for scope blocks\n",
    "\n",
    "It is important to think about what we are doing here. It's not too important that our resource is being managed inside of an object. What's important is that if the object is stack-based then we are tying the resource to the object's scope, and doing so in a way is automatically triggered and robust to unexpected control flows.\n",
    "\n",
    "_It doesn't matter how we leave the scope_ - any stack object within the scope will be destroyed and have its destructor called when the scope ends. Even if an exception is called, all stack objects will still be destructed.\n",
    "\n",
    "It's important to note that this scope doesn't have to just be a function body. We can use braces `{ }` to declare smaller sub-scopes anywhere that we have code executing. We have full control over the scopes that will manage our resources.\n",
    "\n",
    "As such, I like to think of the concept as _\"stack-based resource management\"_, or perhaps _\"scope-based resource management\"_."
   ]
  },
  {
   "cell_type": "code",
   "execution_count": 1,
   "id": "moderate-degree",
   "metadata": {},
   "outputs": [],
   "source": [
    "#include <iostream>\n",
    "#include <fstream>\n",
    "\n",
    "class FileLogger {\n",
    "    public:\n",
    "    FileLogger(const std::string& filename) : myfile(filename) {\n",
    "        std::cout << \" [Debug] Log opened\" << std::endl;\n",
    "    }\n",
    "    \n",
    "    ~FileLogger() {\n",
    "        myfile.close();\n",
    "        std::cout << \" [Debug] Log closed\" << std::endl;\n",
    "    }\n",
    "    \n",
    "    void log(const std::string& entry) {\n",
    "        if (myfile.is_open()) {\n",
    "            myfile << entry << \"\\n\";\n",
    "            std::cout << \" [Debug] Logged \" << entry;\n",
    "        }\n",
    "    }\n",
    "    private:\n",
    "    std::ofstream myfile;\n",
    "}"
   ]
  },
  {
   "cell_type": "code",
   "execution_count": 2,
   "id": "alert-lobby",
   "metadata": {
    "scrolled": true
   },
   "outputs": [
    {
     "name": "stdout",
     "output_type": "stream",
     "text": [
      "Done preparing multiples\n",
      " [Debug] Log opened\n",
      " [Debug] Logged Multiple 1 of 3 is 0\n",
      " [Debug] Logged Multiple 2 of 3 is 3\n",
      " [Debug] Logged Multiple 3 of 3 is 6\n",
      " [Debug] Logged Multiple 4 of 3 is 9\n",
      " [Debug] Logged Multiple 5 of 3 is 12\n",
      " [Debug] Log closed\n"
     ]
    }
   ],
   "source": [
    "void logMultiples() {\n",
    "    std::vector<int> multiples{0, 3, 6, 9, 12, 15, 18, 21, 24, 27};\n",
    "    std::cout << \"Done preparing multiples\" << std::endl;\n",
    "\n",
    "    // Here is an arbitrary inner scope within the function for managing the life of our RAII object\n",
    "    {\n",
    "        FileLogger logger(\"log.txt\");\n",
    "        // log the calculated values\n",
    "\n",
    "        for (int i = 0; i < 10; ++i) {\n",
    "            std::stringstream ss;\n",
    "            ss << \"Multiple \" << (i+1) << \" of 3 is \" << multiples[i] << std::endl;\n",
    "            logger.log(ss.str());\n",
    "\n",
    "            // Will this early return leave our file handle dangling?\n",
    "            if (multiples[i] > 10) {\n",
    "                return;\n",
    "            }\n",
    "        }\n",
    "    }\n",
    "    // If execution leaves this scope the RAII object is cleaned up\n",
    "    \n",
    "}\n",
    "\n",
    "logMultiples();"
   ]
  },
  {
   "cell_type": "code",
   "execution_count": 3,
   "id": "wrapped-unemployment",
   "metadata": {},
   "outputs": [
    {
     "name": "stdout",
     "output_type": "stream",
     "text": [
      " [Debug] Log opened\n",
      " [Debug] Logged The last letter of the alphabet is Z\n",
      " [Debug] Log closed\n",
      "Exception caught!\n"
     ]
    }
   ],
   "source": [
    "try {\n",
    "    FileLogger logger(\"log.txt\");\n",
    "\n",
    "    logger.log(\"The last letter of the alphabet is Z\\n\");\n",
    "\n",
    "    // Will this thrown exception leave our file handle dangling?\n",
    "    throw std::exception();\n",
    "\n",
    "    logger.log(\"The next-to-last letter of the alphabet is Y\\n\");\n",
    "} catch (const std::exception& e) {\n",
    "    std::cout << \"Exception caught!\" << std::endl;\n",
    "}"
   ]
  },
  {
   "cell_type": "markdown",
   "id": "b09ab607-8940-41f7-b5e5-e157917bc1a7",
   "metadata": {},
   "source": [
    "### Performance considerations\n",
    "\n",
    "In theory, the RAII idiom should come with [no extra runtime cost of time or memory](https://www.hackcraft.net/raii/#sect4_0) when compared to the previous approach of acquiring and releasing the resource manually. Compilers have long been able to inline simple object constructors and destructors, and generally these functions are kept very simple indeed for RAII classes.\n",
    "\n",
    "* In the ideal scenario, the compiler can optimise out and inline the entirety of the RAII class when compared to the fully manual approach.\n",
    " * See this example RAII approach: https://godbolt.org/z/GcjEKc9bG\n",
    " * Compared to original manual approach: https://godbolt.org/z/6vobK39WM\n",
    "\n",
    "* However, care must be taken for the RAII class to be as efficient as the manual approach.\n",
    " * Simply accepting our log filename and messages as std::string results in a [substantial increase in size](https://godbolt.org/z/jonr5cdhb).\n",
    " * We should use references as widely as possible to prevent uneccessary copying.\n",
    "\n",
    "The claim of zero-cost abstraction relies on optimisation. Debug binaries will often be larger and less efficient when using the RAII approach, as can be seen in the above example when run with `-O0` (no optimisations):\n",
    "* RAII approach: https://godbolt.org/z/ETs98Yv1q\n",
    "* Manual approach: https://godbolt.org/z/McPdze45e\n",
    "\n",
    "Though even in this scenario the overhead of RAII is likely to be slim as to be unnoticeable during typical program execution. The standard considerations of performance should be employed to determine whether the code cannot afford this overhead. If the code under consideration is a performance-critical loop that churns through resource management calls and is often run under debug conditions, then the manual approach may be preferred. In most typical scenarios, RAII offers a higher-level abstraction for robust resource management that allows for fewer mistakes and does so at negligable cost.\n",
    "\n",
    "### Correctness considerations\n",
    "\n",
    "If our RAII class exists to manage another object (such as a mutex handler managing a mutex), then we must make sure to accept the mutex as a reference to ensure we are managing the actual intended object and not a copy of the object.\n",
    "\n",
    "Similarly, we should strongly consider whether we want to [delete](https://en.cppreference.com/w/cpp/language/function#Deleted_functions) the [implicitly-declared copy constructor](https://en.cppreference.com/w/cpp/language/copy_constructor) of our RAII class to prevent shallow copies from being made of it. _What does it mean to have two simultaneous managers of the same database connection?_\n",
    "\n",
    "If it is necessary to pass a RAII instance into or out of a function, or into a data structure / another thread / another object, then we should consider implementing the [move constructor](https://en.cppreference.com/w/cpp/language/move_constructor) and [assignment operator](https://en.cppreference.com/w/cpp/language/move_assignment) to allow our sole RAII object to be \"moved\" around while maintaining its management of the resource."
   ]
  },
  {
   "cell_type": "code",
   "execution_count": null,
   "id": "9062910b-7895-459c-b898-29a14d1c591c",
   "metadata": {},
   "outputs": [],
   "source": []
  }
 ],
 "metadata": {
  "kernelspec": {
   "display_name": "C++17",
   "language": "C++17",
   "name": "xcpp17"
  },
  "language_info": {
   "codemirror_mode": "text/x-c++src",
   "file_extension": ".cpp",
   "mimetype": "text/x-c++src",
   "name": "c++",
   "version": "17"
  }
 },
 "nbformat": 4,
 "nbformat_minor": 5
}
