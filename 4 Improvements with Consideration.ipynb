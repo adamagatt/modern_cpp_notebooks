{
 "cells": [
  {
   "cell_type": "markdown",
   "id": "6b1e1686-a349-4be7-91f6-5803887e3bda",
   "metadata": {},
   "source": [
    "# 4 - Improvements, With Consideration\n",
    "##### **Author: Adam Gatt**"
   ]
  },
  {
   "cell_type": "markdown",
   "id": "91de610c-23fc-47a2-a474-165e40c43c33",
   "metadata": {
    "tags": []
   },
   "source": [
    "## Const references (pre-11)\n",
    "Despite having covered the useful `nullptr` in an earlier notebook, the concept of the _null reference_ has been described as its creator as the [Billion Dollar Mistake](https://www.youtube.com/watch?v=YYkOWzrO3xg). Null-dereferencing errors are widespread and hidden, often only discovered by unexpected run-time errors.\n",
    "\n",
    "To generalise our language, we can consider C++ to make two types of variable references available:\n",
    "\n",
    "* C++ pointers (`*`) are \"nullable references\" and can be used to hold nullptr (or NULL/0)\n",
    "* C++ references (`&`) are \"non-nullable references\" and cannot\n",
    "\n",
    "References will never be null, and so they can never perform a null-dereference or be used before initialisation. You do not need a nullptr check before using them. Behind the scenes they compile as if they were pointers, resulting in no efficiency cost.\n",
    "\n",
    "As such, if we are truly serious about preventing the Billion Dollar Mistake then:\n",
    "> References should be our default choice, with pointers only for when nullability is a requirement or unavoidable."
   ]
  },
  {
   "cell_type": "code",
   "execution_count": 1,
   "id": "045e4b5d-fbd0-4076-9c32-ea6874071f25",
   "metadata": {
    "tags": []
   },
   "outputs": [],
   "source": [
    "#include <string>\n",
    "void acceptStringRef(std::string& stringIn) {\n",
    "    // We can do anything we want with stringIn inside this function with\n",
    "    // complete confidence we will never cause a null-dereference error\n",
    "};"
   ]
  },
  {
   "cell_type": "markdown",
   "id": "9d0f4bd2-b31a-4672-8c36-6e1fb0785399",
   "metadata": {},
   "source": [
    "Of course we can always call this function with a pointer that we de-reference first."
   ]
  },
  {
   "cell_type": "code",
   "execution_count": 2,
   "id": "298e4b35-ab06-4017-93e0-3f46937c90e9",
   "metadata": {},
   "outputs": [
    {
     "name": "stderr",
     "output_type": "stream",
     "text": [
      "\u001b[1minput_line_9:3:18: \u001b[0m\u001b[0;1;35mwarning: \u001b[0m\u001b[1mnull passed to a callee that requires a non-null argument [-Wnonnull]\u001b[0m\n",
      "acceptStringRef(*myString)\n",
      "\u001b[0;1;32m                 ^~~~~~~~\n",
      "\u001b[0m"
     ]
    },
    {
     "ename": "Interpreter Exception",
     "evalue": "",
     "output_type": "error",
     "traceback": [
      "Interpreter Exception: "
     ]
    }
   ],
   "source": [
    "std::string* myString;\n",
    "acceptStringRef(*myString)"
   ]
  },
  {
   "cell_type": "markdown",
   "id": "8237f710-fde9-4a51-9bcd-ba6731353fa1",
   "metadata": {},
   "source": [
    "But still the function itself remains completely safe with the error occuring outside of it, in the `*myString` operation, closer to the site of the original pointer. The widespread use of references in function signatures help our reasoning during debugging, allowing us to eliminate \"safe\" parts of the codebase and preventing run-time exceptions from appearing deep within the call stack, far from the site of the actual logic error.\n",
    "\n",
    "We can take this safety further with an important concept from Functional Programming, which is the idea of _immutability_. In FP, variables are \"immutable\" by default and this extends to input parameters in function definitions. If a function is guaranteed to never change a referenced input variable, then we can eliminate that function when debugging errors occuring with that variable outside the function. The variable had the same state both before and after the function was called, and the problem lies elsewhere.\n",
    "\n",
    "Of course in C++ \"immutable\" _const_ variables are not the default and there are plenty of functions that are required to make changes to input parameters (e.g. std::fill). But the more functions that declare input references (and pointers) to be const, the easier it is to reason about the codebase when tracking down a bug.\n",
    "\n",
    "And so, for further enforcing of correctness:\n",
    "> const should be our default choice for references (and pointers), unless mutability is a requirement or unavoidable\n",
    "\n",
    "And so we should look for all opportunities possible to convert our `type* name`s into `const type& name`s."
   ]
  },
  {
   "cell_type": "code",
   "execution_count": null,
   "id": "a0e66d71-befc-4a67-9901-1f7519335702",
   "metadata": {
    "tags": []
   },
   "outputs": [],
   "source": [
    "// What does \"processing\" involve? Might this change our cart without our\n",
    "// expecting it to? Will it break if cart is a nullptr?\n",
    "void processOrder(Cart* cart);\n",
    "\n",
    "// This is much safer in comparison\n",
    "void processOrder(const Cart& cart);"
   ]
  },
  {
   "cell_type": "markdown",
   "id": "eecbdf36-cc72-48e1-a8b8-b62b1c998fba",
   "metadata": {
    "tags": []
   },
   "source": [
    "## Uniform Initialisation Syntax"
   ]
  },
  {
   "cell_type": "markdown",
   "id": "f7a3db24-94c1-44b7-8550-2b4ce203d063",
   "metadata": {},
   "source": [
    "The simple initialisation of a variable might be one of the most complicated things in C++. Firstly, there is a bewildering number of ways that a variable can actually be initialised, [highlighted by this joke](http://mikelui.io/img/c++_init_forest.gif). I don't even know what the majority of these mechanisms are. More than this, the different methods of initialisation come with different rules and levels of strictness. [This is a very useful chart](https://josuttis.com/cpp/c++initialization.pdf) to help make the differences easy to compare. On that chart, the notable entries appear to be those shown with red braces. The `Type i{x};` row (and the related `Type i = {x};`) seem to have the advantage for pretty much all of the listed criteria. This makes it a strong choice if those criteria seem useful or important to you, such as enforcing that narrowing operations should result in errors."
   ]
  },
  {
   "cell_type": "code",
   "execution_count": 3,
   "id": "cdf9cd35-b1b3-42ec-b9b1-3f5a02679092",
   "metadata": {},
   "outputs": [
    {
     "name": "stderr",
     "output_type": "stream",
     "text": [
      "\u001b[1minput_line_10:4:7: \u001b[0m\u001b[0;1;31merror: \u001b[0m\u001b[1mtype 'double' cannot be narrowed to 'int' in initializer list [-Wc++11-narrowing]\u001b[0m\n",
      "int y{totalFunds / 4}; // Narrowing is error\n",
      "\u001b[0;1;32m      ^~~~~~~~~~~~~~\n",
      "\u001b[0m\u001b[1minput_line_10:4:7: \u001b[0m\u001b[0;1;30mnote: \u001b[0minsert an explicit cast to silence this issue\u001b[0m\n",
      "int y{totalFunds / 4}; // Narrowing is error\n",
      "\u001b[0;1;32m      ^~~~~~~~~~~~~~\n",
      "\u001b[0m\u001b[0;32m      static_cast<int>( )\n",
      "\u001b[0m"
     ]
    },
    {
     "ename": "Interpreter Error",
     "evalue": "",
     "output_type": "error",
     "traceback": [
      "Interpreter Error: "
     ]
    }
   ],
   "source": [
    "double totalFunds = 10.0;\n",
    "\n",
    "int x(totalFunds / 4); // Some compilers warn, but all will still allow\n",
    "int y{totalFunds / 4}; // Narrowing is error"
   ]
  },
  {
   "cell_type": "markdown",
   "id": "35a45234-e49a-4b8a-9b4c-98868fab9ee6",
   "metadata": {},
   "source": [
    "The curly-braced approach is the [Uniform Initialisation Syntax](https://www.learncpp.com/cpp-tutorial/b-4-initializer-lists-and-uniform-initialization/) introduced with C++11 to make initialisation safer and more predictable. It comes with a new syntax, using braces, to avoid stepping on the toes of existing initialisation which must be kept unchanged for compatibility reasons.\n",
    "\n",
    "The contents of the braces is known as an _initialiser list_ and is a powerful new tool for easily initialising complex structures. Firstly we can use it when instantiating objects and structs, just like with curved brackets:"
   ]
  },
  {
   "cell_type": "code",
   "execution_count": 4,
   "id": "a712f008-c53f-4cfa-8d7c-38463ad0949c",
   "metadata": {},
   "outputs": [
    {
     "data": {
      "text/plain": [
       "\"Adam\""
      ]
     },
     "execution_count": 4,
     "metadata": {},
     "output_type": "execute_result"
    }
   ],
   "source": [
    "struct Employee {\n",
    "    std::string name;\n",
    "    int age;\n",
    "    double performanceRating;\n",
    "};\n",
    "\n",
    "// Initialiser list populates members in order of their declaration\n",
    "Employee newHire{\"Adam\", 34, 4.0};\n",
    "newHire.name"
   ]
  },
  {
   "cell_type": "markdown",
   "id": "524c368f-e1c7-4b69-984d-e6989aff64e1",
   "metadata": {},
   "source": [
    "More powerfully, we can initialise vectors and arrays all at once. We can now represent the \"list literal\"."
   ]
  },
  {
   "cell_type": "code",
   "execution_count": 5,
   "id": "ed49ef19-62bf-4201-8abf-16a09ffbcac9",
   "metadata": {},
   "outputs": [],
   "source": [
    "#include <vector>\n",
    "#include <string>\n",
    "\n",
    "std::vector<std::string> colours{\"Red\", \"Yellow\", \"Orange\", \"White\"};\n",
    "\n",
    "// May I never initialise a vector like this again, so help me God\n",
    "std::vector<std::string> birds;\n",
    "birds.push_back(\"Magpie\");\n",
    "birds.push_back(\"Ostrich\");\n",
    "birds.push_back(\"Goose\");\n",
    "birds.push_back(\"Albatross\");\n",
    "birds.push_back(\"Hummingbird\");"
   ]
  },
  {
   "cell_type": "code",
   "execution_count": 6,
   "id": "d1a34a25-b4c9-4f57-9f21-6fc4a09ccbb0",
   "metadata": {},
   "outputs": [],
   "source": [
    "#include <array>\n",
    "#include <set>\n",
    "#include <utility>\n",
    "\n",
    "// New-style array\n",
    "std::array<int, 6> lotteryNumbers{4, 8, 15, 16, 23, 42};\n",
    "\n",
    "// C-style array, dynamic-memory\n",
    "int* okayTheyreTheLostNumbers = new int[6]{4, 8, 15, 16, 23, 42};\n",
    "\n",
    "// Sets, pairs\n",
    "std::set<char> typedKeys{'g', 'q', 'v', 'o', 'q', 'm', 't'};\n",
    "std::pair<std::string, float> population{\"South Australia\", 1.7e6};"
   ]
  },
  {
   "cell_type": "markdown",
   "id": "8d2a52bb-a298-455b-91a2-2200dcab9e86",
   "metadata": {},
   "source": [
    "And with nested braces we can initialise complex data types:"
   ]
  },
  {
   "cell_type": "code",
   "execution_count": 7,
   "id": "780101f3-986e-4962-a083-d4ed678540cf",
   "metadata": {},
   "outputs": [
    {
     "name": "stdout",
     "output_type": "stream",
     "text": [
      "The capitol of Malta is Valetta\n"
     ]
    }
   ],
   "source": [
    "#include <unordered_map>\n",
    "#include <iostream>\n",
    "\n",
    "std::unordered_map<std::string, std::string> capitols{\n",
    "    {\"Malta\", \"Valetta\"},\n",
    "    {\"New Zealand\", \"Wellington\"},\n",
    "    {\"United States\", \"Washington D.C\"},\n",
    "    {\"Australia\", \"Canberra\"},\n",
    "    {\"New Caledonia\", \"Nouméa\"}\n",
    "};\n",
    "\n",
    "std::cout << \"The capitol of Malta is \" << capitols[\"Malta\"] << std::endl;"
   ]
  },
  {
   "cell_type": "markdown",
   "id": "6d5bcde3-e41b-434c-8ad2-5038afa0685b",
   "metadata": {},
   "source": [
    "And even nested structures:"
   ]
  },
  {
   "cell_type": "code",
   "execution_count": 8,
   "id": "c14b524e-0d62-4611-9e18-ec3a69b8af42",
   "metadata": {},
   "outputs": [
    {
     "name": "stdout",
     "output_type": "stream",
     "text": [
      "Java Virtual Machine supports at least 4 languages"
     ]
    }
   ],
   "source": [
    "#include <iostream>\n",
    "#include <string>\n",
    "#include <list>\n",
    "#include <algorithm>\n",
    "\n",
    "struct Runtime {\n",
    "    std::string name;\n",
    "    std::list<std::string> languages;\n",
    "    int developmentYear;\n",
    "};\n",
    "\n",
    "// Second item is itself a full initialiser list, used for initialising the second declared member\n",
    "Runtime jvm{\"Java Virtual Machine\", {\"Java\", \"Kotlin\", \"Scala\", \"Clojure\"}, 1994};\n",
    "\n",
    "std::cout << jvm.name << \" supports at least \" << jvm.languages.size() << \" languages\";"
   ]
  },
  {
   "cell_type": "markdown",
   "id": "b23e713a-182c-4f19-aba4-0d7a3368ce5d",
   "metadata": {},
   "source": [
    "### But a gotcha, initialiser lists make uniform initialisation not fully uniform\n",
    "Initialiser lists are supported by special intialiser-list constructors, which are provided for most container types. According to the standard, these constructors are attempted before other constructors. This can be a problem when trying to call regular constructors with argument types that match the container's template, for example:\n",
    "* `vector( size_type count )` for vector\\<int\\>\n",
    "* `basic_string( size_type count, CharT ch, const Allocator& alloc = Allocator());`"
   ]
  },
  {
   "cell_type": "code",
   "execution_count": 9,
   "id": "1d1f4062-9e85-4cca-9363-bd8c970f68ec",
   "metadata": {},
   "outputs": [
    {
     "name": "stdout",
     "output_type": "stream",
     "text": [
      "1: 100"
     ]
    }
   ],
   "source": [
    "// Prepare a vector of 100 ints according to the std::vector(int size) constructor\n",
    "std::vector<int> raffleDraws{100};\n",
    "\n",
    "// Oh, actually it treated this as a single-element initialiser list\n",
    "std::cout << raffleDraws.size() << \": \" << raffleDraws[0];"
   ]
  },
  {
   "cell_type": "code",
   "execution_count": 10,
   "id": "a1f2b788-b9dd-4154-96a4-03820323a19a",
   "metadata": {},
   "outputs": [
    {
     "name": "stdout",
     "output_type": "stream",
     "text": [
      "100: "
     ]
    }
   ],
   "source": [
    "// But this container of strings will actually create a 100-length vector, now that\n",
    "// it is unable to call the initialiser-list constructor with a 1-length list of ints\n",
    "\n",
    "std::vector<std::string> attendees{100};\n",
    "std::cout << attendees.size() << \": \" << attendees[0];"
   ]
  },
  {
   "cell_type": "code",
   "execution_count": 11,
   "id": "3db64c24-6b0a-40e8-8c34-ed6304e9bb57",
   "metadata": {},
   "outputs": [
    {
     "data": {
      "text/plain": [
       "\"d_\""
      ]
     },
     "execution_count": 11,
     "metadata": {},
     "output_type": "execute_result"
    }
   ],
   "source": [
    "// I want to use the constructor to prefill a string of 100 '_' characters\n",
    "std::string underline{100, '_'};\n",
    "\n",
    "underline"
   ]
  },
  {
   "cell_type": "code",
   "execution_count": 12,
   "id": "1c32a3ee-abd2-4a1f-923c-f90ab029c521",
   "metadata": {},
   "outputs": [
    {
     "data": {
      "text/plain": [
       "\"____________________________________________________________________________________________________\""
      ]
     },
     "execution_count": 12,
     "metadata": {},
     "output_type": "execute_result"
    }
   ],
   "source": [
    "// But returning to regular bracket initialisation works\n",
    "std::string underline(100, '_');\n",
    "\n",
    "underline"
   ]
  },
  {
   "cell_type": "markdown",
   "id": "3866ece8-51d9-4ac1-891d-4dc2e3661340",
   "metadata": {},
   "source": [
    "### So should I use or avoid braces initialisation?"
   ]
  },
  {
   "cell_type": "markdown",
   "id": "7393d35e-c084-42d6-9119-1edf24a879da",
   "metadata": {},
   "source": [
    "Scott Meyers in Effective Modern C++:\n",
    "\n",
    "> Most developers end up choosing one kind of delimiter as a default, using the other only when they have to. Braces-by-default folks are attracted by their unrivaled breadth of applicability, their prohibition of narrowing conversions, and their immunity to C++’s most vexing parse. Such folks understand that in some cases (e.g., creation of a std::vector with a given size and initial element value), parentheses are required. On the other hand, the go-parentheses-go crowd embraces parentheses as their default argument delimiter. They’re attracted to its consistency with the C++98 syntactic tradition, its avoidance of the auto-deduced-a-std::initializer_list problem, and the knowledge that their object creation calls won’t be inadvertently waylaid by std::initializer_list constructors. They concede that sometimes only braces will do (e.g., when creating a container with particular values). There’s no consensus that either approach is better than the other, so my advice is to pick one and apply it consistently."
   ]
  },
  {
   "cell_type": "markdown",
   "id": "e35e7a75-82a9-4192-8d7d-1c646672acce",
   "metadata": {},
   "source": [
    "## auto _(in some situations)_\n",
    "To quickly provide the concept for those who are not familiar, `auto` is a keyword that tells the compiler to automatically deduce a type rather than having the programmer specify it. Note that all `auto`s are still deduced at compiler time and so auto is not an approach to achieving true dynamic typing like `var` in Javascript."
   ]
  },
  {
   "cell_type": "code",
   "execution_count": 13,
   "id": "d8599eb8-2614-4de2-85bd-74db26c96496",
   "metadata": {},
   "outputs": [
    {
     "data": {
      "text/plain": [
       "4"
      ]
     },
     "execution_count": 13,
     "metadata": {},
     "output_type": "execute_result"
    }
   ],
   "source": [
    "#include <vector>\n",
    "\n",
    "auto x = 5;\n",
    "auto y = \"Hello, World\";\n",
    "auto z = std::vector{1.1, 1.2, 1.3, 1.4};\n",
    "z.size()"
   ]
  },
  {
   "cell_type": "markdown",
   "id": "838c62c7-eb8d-4385-8794-8d3da2680baf",
   "metadata": {},
   "source": [
    "`auto` might be a controversial listing for those who disagree with its hiding of variable types. The argument could be made that the programmer should be conscious and aware at all times about what data he is actually manipulating, and that `auto` serves to obfuscate that. I agree with the sentiment in general, but below I will list particular situations where `auto` is both valuable and safe to use. I would encourage the use of auto in these situations.\n",
    "### iterator types _(and other long types)_\n",
    "Declaring the types of all variables involves having to play along with the sometimes-wordy results of the type system. What is the type of the iterator returned by calling `.cbegin()` on a vector of strings? Is it `iterator` or `c_iterator`? No, it is `std::vector<std::string>::const_iterator` and if you are manipulating the iterator inside of the loop you are potentially typing that out a number of times. Then, if you change `cbegin()` to `begin()` or `vector` to `list` you potentially need to make that change in several places.\n",
    "\n",
    "I consider it legitimate to use `auto` with iterators (and other lengthy, one-time objects) as\n",
    " 1. The type of the iterator is easy to determine as it is based on a container\n",
    " 2. The iterator variable itself has a lifetime limited to the loop\n",
    " 3. It is useful for the `auto` to reflect changes to the container\n",
    " 4. The shorter code is simply cleaner and more readable"
   ]
  },
  {
   "cell_type": "code",
   "execution_count": 14,
   "id": "d5f7d538-5c76-4582-ae94-0e8f7746e8a7",
   "metadata": {},
   "outputs": [],
   "source": [
    "#include <string>\n",
    "#include <vector>\n",
    "\n",
    "std::vector<std::string> filenames;\n",
    "\n",
    "for (std::vector<std::string>::const_iterator it = filenames.cbegin(); it < filenames.cend(); ++it) {\n",
    "    // Read the file \"fopen(*it)\" and do something with it\n",
    "}\n",
    "\n",
    "\n",
    "for (auto it = filenames.cbegin(); it < filenames.cend(); ++it) {\n",
    "    // Read the file \"fopen(*it)\" and do something with it    \n",
    "}"
   ]
  },
  {
   "cell_type": "code",
   "execution_count": 15,
   "id": "3cab5159-c807-4d89-b296-c2c9aeaef782",
   "metadata": {},
   "outputs": [],
   "source": [
    "#include <string>\n",
    "#include <map>\n",
    "\n",
    "enum class Team {RED, BLUE, NO_TEAM};\n",
    "\n",
    "std::map<std::string, Team> players;\n",
    "\n",
    "for (const std::pair<std::string, Team>& it : players) {\n",
    "    // Do something with the player/team pair\n",
    "}\n",
    "\n",
    "\n",
    "for (const auto& it : players) {\n",
    "    // Do something with the player/team pair    \n",
    "}"
   ]
  },
  {
   "cell_type": "markdown",
   "id": "protected-feeding",
   "metadata": {},
   "source": [
    "### simple function arguments (predicates, comparators, maps, etc)\n",
    "Higher-level functions are functions that accept other functions as parameters. Examples include:\n",
    " * `std::sort` accepting a comparator function to tell it how to order elements\n",
    " * `std::copy_if` accepting a \"predicate\" function to tell it which elements to copy\n",
    " * `std::accumulate` requiring a function to indicate how each element is combined into the final result\n",
    " \n",
    "Often these function arguments are supplied as short lambdas of a single, very simple statement. Considering that the lambda only really exists for that single function call and the input type is determined by the higher-level function (or a container it operates on), I consider it legitimate to use `auto` for the function argument signature rather than having to type out the full type of the container element.\n",
    "\n",
    "_Note: The use of `auto` for lambda input parameters is only available for C++14 onwards._\n",
    "\n",
    "Don't worry if you don't know about lambdas/closures and their uses yet. You can come back to this section after we do the notebook on lambdas if you like."
   ]
  },
  {
   "cell_type": "code",
   "execution_count": 16,
   "id": "incorporated-header",
   "metadata": {},
   "outputs": [],
   "source": [
    "#include <vector>\n",
    "\n",
    "struct Member {\n",
    "    const char* name;\n",
    "    bool active;\n",
    "};\n",
    "\n",
    "using MemberList = std::vector<Member>;"
   ]
  },
  {
   "cell_type": "code",
   "execution_count": 17,
   "id": "suspected-steering",
   "metadata": {},
   "outputs": [
    {
     "name": "stdout",
     "output_type": "stream",
     "text": [
      "Saxon\n",
      "Nenin\n"
     ]
    }
   ],
   "source": [
    "#include <algorithm>\n",
    "#include <iostream>\n",
    "\n",
    "MemberList allMembers{{\"Adam\", true}, {\"Saxon\", false}, {\"Chenny\", true}, {\"Nenin\", false}};\n",
    "\n",
    "MemberList lapsedMembers;\n",
    "\n",
    "std::copy_if(\n",
    "    allMembers.begin(), allMembers.end(), std::back_inserter(lapsedMembers),\n",
    "    [](auto member){ return !member.active;}\n",
    ");\n",
    "\n",
    "std::for_each(lapsedMembers.begin(), lapsedMembers.end(), [](auto member){std::cout << member.name << std::endl;});"
   ]
  },
  {
   "cell_type": "markdown",
   "id": "electoral-diamond",
   "metadata": {},
   "source": [
    "### generic lambdas\n",
    "The other cases involved using `auto` to basically save on typing, but this case involves adding functionality. With C++14 introducing auto for lambda parameters, it became possible to define a function that performs automatic type deduction on all input parameters and its return type. The result is a _generic lambda_ that effectively acts the same as a template with alternative syntax. _(The compiler treats them exactly the same, even down to instantiating the function once for each unique signature required by the calling code)._\n",
    "\n",
    "I consider these to be essentially another syntax for writing generic functions for those who prefer it. For simple functions I don't see any advantage or extra information provided by the traditional `T`s.\n",
    "\n",
    "_Note: Full use of auto for generic behaviour is applicable only to lambdas. Traditional functions can use `auto` for return types but not for parameter types, and so must use template syntax for full generic behaviour._"
   ]
  },
  {
   "cell_type": "code",
   "execution_count": 18,
   "id": "4c4e4e81-1a8e-4269-a3e7-03e94488f76b",
   "metadata": {},
   "outputs": [
    {
     "data": {
      "text/plain": [
       "7"
      ]
     },
     "execution_count": 18,
     "metadata": {},
     "output_type": "execute_result"
    }
   ],
   "source": [
    "auto add = [](auto a, auto b) {\n",
    "    return a + b;\n",
    "};\n",
    "\n",
    "// Add these ints even though the add() function never specifies \"int\" anywhere\n",
    "add(2, 5)"
   ]
  },
  {
   "cell_type": "code",
   "execution_count": 19,
   "id": "national-burner",
   "metadata": {},
   "outputs": [],
   "source": [
    "// Template function for comparison\n",
    "template <typename T>\n",
    "T addTemplated(T a, T b) {\n",
    "    return a + b;\n",
    "}"
   ]
  },
  {
   "cell_type": "code",
   "execution_count": 20,
   "id": "listed-nothing",
   "metadata": {},
   "outputs": [
    {
     "data": {
      "text/plain": [
       "4.7000000"
      ]
     },
     "execution_count": 20,
     "metadata": {},
     "output_type": "execute_result"
    }
   ],
   "source": [
    "// Can proceed to use add() on doubles and other primitives\n",
    "add(3.2, 1.5)"
   ]
  },
  {
   "cell_type": "code",
   "execution_count": 21,
   "id": "demonstrated-cassette",
   "metadata": {},
   "outputs": [
    {
     "data": {
      "text/plain": [
       "\"Hello World\""
      ]
     },
     "execution_count": 21,
     "metadata": {},
     "output_type": "execute_result"
    }
   ],
   "source": [
    "// Actually I can use it on anything that provides \"operator+()\"\n",
    "add(std::string(\"Hello \"), std::string(\"World\"))"
   ]
  },
  {
   "cell_type": "code",
   "execution_count": null,
   "id": "knowing-moldova",
   "metadata": {},
   "outputs": [],
   "source": []
  }
 ],
 "metadata": {
  "kernelspec": {
   "display_name": "C++17",
   "language": "C++17",
   "name": "xcpp17"
  },
  "language_info": {
   "codemirror_mode": "text/x-c++src",
   "file_extension": ".cpp",
   "mimetype": "text/x-c++src",
   "name": "c++",
   "version": "17"
  }
 },
 "nbformat": 4,
 "nbformat_minor": 5
}
