{
 "cells": [
  {
   "cell_type": "markdown",
   "id": "medical-product",
   "metadata": {},
   "source": [
    "# 3 - Easy Wins 2\n",
    "##### **Author: Adam Gatt**"
   ]
  },
  {
   "cell_type": "markdown",
   "id": "proof-europe",
   "metadata": {},
   "source": [
    "## using"
   ]
  },
  {
   "cell_type": "markdown",
   "id": "cheap-competition",
   "metadata": {},
   "source": [
    "## Uniform Initialisation Syntax"
   ]
  },
  {
   "cell_type": "markdown",
   "id": "hollow-brother",
   "metadata": {},
   "source": [
    "## auto (in some situations)"
   ]
  },
  {
   "cell_type": "markdown",
   "id": "iraqi-external",
   "metadata": {},
   "source": [
    "## Const references (pre-11)\n",
    "Despite introducing the useful `nullptr` in the previous notebook, the concept of the null reference has been described as its creator as the [Billion Dollar Mistake](https://www.youtube.com/watch?v=YYkOWzrO3xg)."
   ]
  },
  {
   "cell_type": "code",
   "execution_count": null,
   "id": "brief-abuse",
   "metadata": {},
   "outputs": [],
   "source": []
  }
 ],
 "metadata": {
  "kernelspec": {
   "display_name": "C++17",
   "language": "C++17",
   "name": "xcpp17"
  },
  "language_info": {
   "codemirror_mode": "text/x-c++src",
   "file_extension": ".cpp",
   "mimetype": "text/x-c++src",
   "name": "c++",
   "version": "17"
  }
 },
 "nbformat": 4,
 "nbformat_minor": 5
}
