{
 "cells": [
  {
   "cell_type": "markdown",
   "id": "medical-product",
   "metadata": {},
   "source": [
    "# 3 - Easy Wins (2 / 2)\n",
    "##### **Author: Adam Gatt**"
   ]
  },
  {
   "cell_type": "markdown",
   "id": "fiscal-romantic",
   "metadata": {},
   "source": [
    "## explicit (pre 11)"
   ]
  },
  {
   "cell_type": "markdown",
   "id": "comic-title",
   "metadata": {},
   "source": [
    "Here we have a class representing a scaling factor that you can multiply other numbers with."
   ]
  },
  {
   "cell_type": "code",
   "execution_count": 1,
   "id": "identified-distributor",
   "metadata": {},
   "outputs": [],
   "source": [
    "class Factor {\n",
    "    public:\n",
    "    Factor(double value)\n",
    "        : value(value) { }\n",
    "    \n",
    "    double apply(double input) const {\n",
    "        return input * value;\n",
    "    }\n",
    "    \n",
    "    private:\n",
    "    double value;\n",
    "};"
   ]
  },
  {
   "cell_type": "code",
   "execution_count": 2,
   "id": "extensive-hearts",
   "metadata": {},
   "outputs": [],
   "source": [
    "double scale(double input, const Factor& factor) {\n",
    "    return factor.apply(input);\n",
    "};"
   ]
  },
  {
   "cell_type": "code",
   "execution_count": 3,
   "id": "careful-excess",
   "metadata": {
    "scrolled": true
   },
   "outputs": [
    {
     "data": {
      "text/plain": [
       "2.5000000"
      ]
     },
     "execution_count": 3,
     "metadata": {},
     "output_type": "execute_result"
    }
   ],
   "source": [
    "scale(5, 0.5)"
   ]
  },
  {
   "cell_type": "markdown",
   "id": "medical-lighting",
   "metadata": {},
   "source": [
    "How come the call to `scale()` succeeded even though the second parameter was a double instead of a Factor? It's because of the rules C++ uses when parsing a function call. If the compiler can't find a function declaration that matches the called signature, then it will attempt a process called _implicit conversion_. This involves looking around for any other functions that it can use to convert the arguments to types that will allow the original function call to succeed. It is similar to the promotion of primitives, so that you can pass an int to a function that expects a double, except broadened to apply to other types as well. The compiler will search for any user-defined conversion functions and constructors that it can use to perform the conversion process. \n",
    "\n",
    "So here:\n",
    "1. The call to `scale(int, double)` is initially unsuccessful as that signature has not been declared.\n",
    "2. The compiler notices the declaration `scale(int, const Factor&)` and determines if it can convert the arguments to match it.\n",
    "3. The compiler notices that `Factor(double value)` is available for creating a Factor out of a double.\n",
    "4. The compiler inserts the implicit conversion, effectively turning the function call into `scale(5, Factor(0.5))`, and creating a temporary Factor object to submit to the scale function.\n",
    "\n",
    "C++ performs implicit conversion not only when calling functions, [but in a range of scenarios](https://en.cppreference.com/w/cpp/language/implicit_conversion) where one type is provided where another is needed.\n",
    "\n",
    "Initially this might seem like a benefit, for getting code to work that otherwise wouldn't. But remember that this all happens implicitly behind the scenes, without evidence in the source code itself. As a general rule, you want your application logic to be explicitly laid out to make the code more readable and verifiable.\n",
    "\n",
    "What are the costs or risks of implicit conversion? They might include:\n",
    " * Function arguments being open to a far greater range of types than intended\n",
    " * An API that is open to guesswork rather than understanding proper usage\n",
    " * Creation of unintended temporary objects\n",
    " * Creation of objects at all that shouldn't be allowed (e.g. if the class is intended Singleton)\n",
    " * Reducing clarity of the intent of the codebase\n",
    " \n",
    "How do we crack down on implicit conversion, assuming we intend to? Remember that the implicit conversion comes about due to three factors:\n",
    "1. A function call with a signature that hasn't been declared\n",
    "2. A candidate signature that could be matched with some conversion\n",
    "3. A conversion function or constructor that can perform the conversion\n",
    "\n",
    "Here the `explicit` keyword is provided to solve our problem by addressing factor 3. A conversion function or constructor that is marked explicit will only be used by the compiler if explicitly called in the codebase. It will not be considered during the implicit conversion process as a way of performing a needed conversion."
   ]
  },
  {
   "cell_type": "code",
   "execution_count": 4,
   "id": "handy-earthquake",
   "metadata": {},
   "outputs": [],
   "source": [
    "class Factor2 {\n",
    "    public:\n",
    "    // Now explicit, no type conversion for arguments\n",
    "    explicit Factor2(int value)\n",
    "        : value(value) { }\n",
    "    \n",
    "    int apply(int input) const {\n",
    "        return input * value;\n",
    "    }\n",
    "    \n",
    "    private:\n",
    "    int value;\n",
    "}"
   ]
  },
  {
   "cell_type": "code",
   "execution_count": 5,
   "id": "empirical-arctic",
   "metadata": {},
   "outputs": [],
   "source": [
    "double scale2(double input, const Factor2& factor) {\n",
    "    return factor.apply(input);\n",
    "};"
   ]
  },
  {
   "cell_type": "code",
   "execution_count": 6,
   "id": "pediatric-sister",
   "metadata": {},
   "outputs": [
    {
     "name": "stderr",
     "output_type": "stream",
     "text": [
      "\u001b[1minput_line_15:2:2: \u001b[0m\u001b[0;1;31merror: \u001b[0m\u001b[1mno matching function for call to 'scale2'\u001b[0m\n",
      " scale2(5, 0.5)\n",
      "\u001b[0;1;32m ^~~~~~\n",
      "\u001b[0m\u001b[1minput_line_14:1:8: \u001b[0m\u001b[0;1;30mnote: \u001b[0mcandidate function not viable: no known conversion from 'double' to 'const __cling_N56::Factor2' for 2nd argument\u001b[0m\n",
      "double scale2(double input, const Factor2& factor) {\n",
      "\u001b[0;1;32m       ^\n",
      "\u001b[0m"
     ]
    },
    {
     "ename": "Interpreter Error",
     "evalue": "",
     "output_type": "error",
     "traceback": [
      "Interpreter Error: "
     ]
    }
   ],
   "source": [
    "scale2(5, 0.5)"
   ]
  },
  {
   "cell_type": "markdown",
   "id": "brave-gibraltar",
   "metadata": {},
   "source": [
    "Here is another use for `explicit`. In the previous notebook we had `Line myLine = NULL` (missing the `*`) and the code not only compiled, but called the constructor `Line (int thickness)`. What happened here?\n",
    "\n",
    "The issue is that the Line class, like our original Factor class, has a constructor that the compiler considers to be a [converting constructor](https://en.cppreference.com/w/cpp/language/converting_constructor). Pre C++11 this was any constructor that accepts only a single parameter. For '11 and later, any constructor is treated as a converting constructor (due to the introduction of initializer lists).\n",
    "\n",
    "The example below demonstrates this. The important point to know here is that despite the `=` character, the operation below is not an assignment. Instead it follows the _copy initialisation_ process, which will end up calling the constructor. _(The next section will touch briefly on copy initialisation vs direct initialisation)._"
   ]
  },
  {
   "cell_type": "code",
   "execution_count": 7,
   "id": "collectible-player",
   "metadata": {},
   "outputs": [
    {
     "data": {
      "text/plain": [
       "5.0000000"
      ]
     },
     "execution_count": 7,
     "metadata": {},
     "output_type": "execute_result"
    }
   ],
   "source": [
    "Factor myFactor = 0.5; // Compiles to \"Factor myFactor(0.5)\"\n",
    "myFactor.apply(10)"
   ]
  },
  {
   "cell_type": "markdown",
   "id": "bizarre-tutorial",
   "metadata": {},
   "source": [
    "Declaring a constructor `explicit` will prevent it from being a converting constructor, and the statement returns to attempting to assign a double to our user-defined type."
   ]
  },
  {
   "cell_type": "code",
   "execution_count": 8,
   "id": "legendary-iceland",
   "metadata": {},
   "outputs": [
    {
     "name": "stderr",
     "output_type": "stream",
     "text": [
      "\u001b[1minput_line_18:2:10: \u001b[0m\u001b[0;1;31merror: \u001b[0m\u001b[1mno viable conversion from 'double' to '__cling_N56::Factor2'\u001b[0m\n",
      " Factor2 myFactor2 = 0.5;\n",
      "\u001b[0;1;32m         ^           ~~~\n",
      "\u001b[0m\u001b[1minput_line_13:1:7: \u001b[0m\u001b[0;1;30mnote: \u001b[0mcandidate constructor (the implicit copy constructor) not viable: no known conversion from 'double' to 'const __cling_N56::Factor2 &' for 1st argument\u001b[0m\n",
      "class Factor2 {\n",
      "\u001b[0;1;32m      ^\n",
      "\u001b[0m\u001b[1minput_line_13:1:7: \u001b[0m\u001b[0;1;30mnote: \u001b[0mcandidate constructor (the implicit move constructor) not viable: no known conversion from 'double' to '__cling_N56::Factor2 &&' for 1st argument\u001b[0m\n"
     ]
    },
    {
     "ename": "Interpreter Error",
     "evalue": "",
     "output_type": "error",
     "traceback": [
      "Interpreter Error: "
     ]
    }
   ],
   "source": [
    "Factor2 myFactor2 = 0.5;\n",
    "myFactor2.apply(100)"
   ]
  },
  {
   "cell_type": "markdown",
   "id": "wrapped-atlanta",
   "metadata": {},
   "source": [
    "For extra reading, here is a 2006 (pre-11) article on this topic on [The Old New Thing](https://devblogs.microsoft.com/oldnewthing/20060524-12/?p=31083)."
   ]
  },
  {
   "cell_type": "markdown",
   "id": "delayed-flavor",
   "metadata": {},
   "source": [
    "## Uniform Initialisation Syntax"
   ]
  },
  {
   "cell_type": "markdown",
   "id": "compliant-vision",
   "metadata": {},
   "source": [
    "The simple initialisation of a variable might be one of the most complicated things in C++. Firstly, there is a bewildering number of ways that a variable can actually be initialised, [highlighted by this joke](http://mikelui.io/img/c++_init_forest.gif). I don't even know what the majority of these mechanisms are. More than this, the different methods of initialisation come with different rules and levels of strictness. [This is a very useful chart](https://josuttis.com/cpp/c++initialization.pdf) to help make the differences easy to compare. On that chart, the notable entries appear to be those shown with red braces. The `Type i{x};` row (and the related `Type i = {x};`) seem to have the advantage for pretty much all of the listed criteria. This makes it a strong choice if those criteria seem useful or important to you, such as enforcing that narrowing operations should result in errors."
   ]
  },
  {
   "cell_type": "code",
   "execution_count": 9,
   "id": "dimensional-giant",
   "metadata": {},
   "outputs": [
    {
     "name": "stderr",
     "output_type": "stream",
     "text": [
      "\u001b[1minput_line_19:4:7: \u001b[0m\u001b[0;1;31merror: \u001b[0m\u001b[1mtype 'double' cannot be narrowed to 'int' in initializer list [-Wc++11-narrowing]\u001b[0m\n",
      "int y{totalFunds / 4}; // Narrowing is error\n",
      "\u001b[0;1;32m      ^~~~~~~~~~~~~~\n",
      "\u001b[0m\u001b[1minput_line_19:4:7: \u001b[0m\u001b[0;1;30mnote: \u001b[0minsert an explicit cast to silence this issue\u001b[0m\n",
      "int y{totalFunds / 4}; // Narrowing is error\n",
      "\u001b[0;1;32m      ^~~~~~~~~~~~~~\n",
      "\u001b[0m\u001b[0;32m      static_cast<int>( )\n",
      "\u001b[0m"
     ]
    },
    {
     "ename": "Interpreter Error",
     "evalue": "",
     "output_type": "error",
     "traceback": [
      "Interpreter Error: "
     ]
    }
   ],
   "source": [
    "double totalFunds = 10.0;\n",
    "\n",
    "int x(totalFunds / 4); // Some compilers warn, but all will still allow\n",
    "int y{totalFunds / 4}; // Narrowing is error"
   ]
  },
  {
   "cell_type": "markdown",
   "id": "casual-stewart",
   "metadata": {},
   "source": [
    "The curly-braced approach is the [Uniform Initialisation Syntax](https://www.learncpp.com/cpp-tutorial/b-4-initializer-lists-and-uniform-initialization/) introduced with C++11 to make initialisation safer and more predictable. It comes with a new syntax, using braces, to avoid stepping on the toes of existing initialisation which must be kept unchanged for compatibility reasons.\n",
    "\n",
    "The contents of the braces is known as an _initialiser list_ and is a powerful new tool for easily initialising complex structures. Firstly we can use it when instantiating objects and structs, just like with curved brackets:"
   ]
  },
  {
   "cell_type": "code",
   "execution_count": 10,
   "id": "25d71a7d-576d-4742-981d-a51197b0d8fe",
   "metadata": {},
   "outputs": [
    {
     "data": {
      "text/plain": [
       "\"Adam\""
      ]
     },
     "execution_count": 10,
     "metadata": {},
     "output_type": "execute_result"
    }
   ],
   "source": [
    "struct Employee {\n",
    "    std::string name;\n",
    "    int age;\n",
    "    double performanceRating;\n",
    "};\n",
    "\n",
    "// Initialiser list populates members in order of their declaration\n",
    "Employee newHire{\"Adam\", 34, 4.0};\n",
    "newHire.name"
   ]
  },
  {
   "cell_type": "markdown",
   "id": "9246dc25-3d32-47a8-a6c9-257d95012dbf",
   "metadata": {},
   "source": [
    "More powerfully, we can initialise vectors and arrays all at once. We can now represent the \"list literal\"."
   ]
  },
  {
   "cell_type": "code",
   "execution_count": 11,
   "id": "d67e331b-c8f2-4bbf-aeca-914917e93d23",
   "metadata": {},
   "outputs": [],
   "source": [
    "#include <vector>\n",
    "#include <string>\n",
    "\n",
    "std::vector<std::string> colours{\"Red\", \"Yellow\", \"Orange\", \"White\"};\n",
    "\n",
    "// May I never initialise a vector like this again, so help me God\n",
    "std::vector<std::string> birds;\n",
    "birds.push_back(\"Magpie\");\n",
    "birds.push_back(\"Ostrich\");\n",
    "birds.push_back(\"Goose\");\n",
    "birds.push_back(\"Albatross\");\n",
    "birds.push_back(\"Hummingbird\");"
   ]
  },
  {
   "cell_type": "code",
   "execution_count": 12,
   "id": "5b4a84ca-51af-460e-9f85-8680fecebf56",
   "metadata": {},
   "outputs": [],
   "source": [
    "#include <array>\n",
    "#include <set>\n",
    "#include <utility>\n",
    "\n",
    "// New-style array\n",
    "std::array<int, 6> lotteryNumbers{4, 8, 15, 16, 23, 42};\n",
    "\n",
    "// C-style array, dynamic-memory\n",
    "int* okayTheyreTheLostNumbers = new int[6]{4, 8, 15, 16, 23, 42};\n",
    "\n",
    "// Sets, pairs\n",
    "std::set<char> typedKeys{'g', 'q', 'v', 'o', 'q', 'm', 't'};\n",
    "std::pair<std::string, float> population{\"South Australia\", 1.7e6};"
   ]
  },
  {
   "cell_type": "markdown",
   "id": "6187d367-7914-4dc9-98e3-d0ec0a8405e0",
   "metadata": {},
   "source": [
    "And with nested braces we can initialise complex data types:"
   ]
  },
  {
   "cell_type": "code",
   "execution_count": 13,
   "id": "2c5717a8-b6fb-45a0-944d-200e59cf09d0",
   "metadata": {},
   "outputs": [
    {
     "name": "stdout",
     "output_type": "stream",
     "text": [
      "The capitol of Malta is Valetta\n"
     ]
    }
   ],
   "source": [
    "#include <unordered_map>\n",
    "#include <iostream>\n",
    "\n",
    "std::unordered_map<std::string, std::string> capitols{\n",
    "    {\"Malta\", \"Valetta\"},\n",
    "    {\"New Zealand\", \"Wellington\"},\n",
    "    {\"United States\", \"Washington D.C\"},\n",
    "    {\"Australia\", \"Canberra\"},\n",
    "    {\"New Caledonia\", \"Nouméa\"}\n",
    "};\n",
    "\n",
    "std::cout << \"The capitol of Malta is \" << capitols[\"Malta\"] << std::endl;"
   ]
  },
  {
   "cell_type": "markdown",
   "id": "ae95e8a8-c0c5-43c2-8f5d-ef6800153738",
   "metadata": {},
   "source": [
    "And even nested structures:"
   ]
  },
  {
   "cell_type": "code",
   "execution_count": 14,
   "id": "7b72f82d-4d3e-4671-a55d-7a917f632c6a",
   "metadata": {},
   "outputs": [
    {
     "name": "stdout",
     "output_type": "stream",
     "text": [
      "Java Virtual Machine supports at least 4 languages"
     ]
    }
   ],
   "source": [
    "#include <iostream>\n",
    "#include <string>\n",
    "#include <list>\n",
    "#include <algorithm>\n",
    "\n",
    "struct Runtime {\n",
    "    std::string name;\n",
    "    std::list<std::string> languages;\n",
    "    int developmentYear;\n",
    "};\n",
    "\n",
    "// Second item is itself a full initialiser list, used for initialising the second declared member\n",
    "Runtime jvm{\"Java Virtual Machine\", {\"Java\", \"Kotlin\", \"Scala\", \"Clojure\"}, 1994};\n",
    "\n",
    "std::cout << jvm.name << \" supports at least \" << jvm.languages.size() << \" languages\";"
   ]
  },
  {
   "cell_type": "markdown",
   "id": "ce14d796-57aa-41a0-b770-f4e583a6d379",
   "metadata": {},
   "source": [
    "### But a gotcha, initialiser lists make uniform initialisation not fully uniform\n",
    "Initialiser lists are supported by special intialiser-list constructors, which are provided for most container types. According to the standard, these constructors are attempted before other constructors. This can be a problem when trying to call regular constructors with argument types that match the container's template, for example:\n",
    "* `vector( size_type count )` for vector\\<int\\>\n",
    "* `basic_string( size_type count, CharT ch, const Allocator& alloc = Allocator());`"
   ]
  },
  {
   "cell_type": "code",
   "execution_count": 15,
   "id": "c5257e1c-4218-4c4d-b2bc-86d24a171eb4",
   "metadata": {},
   "outputs": [
    {
     "name": "stdout",
     "output_type": "stream",
     "text": [
      "1: 100"
     ]
    }
   ],
   "source": [
    "// Prepare a vector of 100 ints according to the std::vector(int size) constructor\n",
    "std::vector<int> raffleDraws{100};\n",
    "\n",
    "// Oh, actually it treated this as a single-element initialiser list\n",
    "std::cout << raffleDraws.size() << \": \" << raffleDraws[0];"
   ]
  },
  {
   "cell_type": "code",
   "execution_count": 16,
   "id": "2c8e4e1c-385a-48f5-aa1d-11abb85c8d16",
   "metadata": {},
   "outputs": [
    {
     "name": "stdout",
     "output_type": "stream",
     "text": [
      "100: "
     ]
    }
   ],
   "source": [
    "// But this container of strings will actually create a 100-length vector, now that\n",
    "// it is unable to call the initialiser-list constructor with a 1-length list of ints\n",
    "\n",
    "std::vector<std::string> attendees{100};\n",
    "std::cout << attendees.size() << \": \" << attendees[0];"
   ]
  },
  {
   "cell_type": "code",
   "execution_count": 17,
   "id": "8311c755-028f-45e5-a6fb-79ae929ed1b7",
   "metadata": {},
   "outputs": [
    {
     "data": {
      "text/plain": [
       "\"d_\""
      ]
     },
     "execution_count": 17,
     "metadata": {},
     "output_type": "execute_result"
    }
   ],
   "source": [
    "// I want to use the constructor to prefill a string of 100 '_' characters\n",
    "std::string underline{100, '_'};\n",
    "\n",
    "underline"
   ]
  },
  {
   "cell_type": "code",
   "execution_count": 18,
   "id": "b359f86f-d8d4-43f8-86da-4e7286e71f05",
   "metadata": {},
   "outputs": [
    {
     "data": {
      "text/plain": [
       "\"____________________________________________________________________________________________________\""
      ]
     },
     "execution_count": 18,
     "metadata": {},
     "output_type": "execute_result"
    }
   ],
   "source": [
    "// But returning to regular bracket initialisation works\n",
    "std::string underline(100, '_');\n",
    "\n",
    "underline"
   ]
  },
  {
   "cell_type": "markdown",
   "id": "3ac33471-1be0-420a-be25-559540f244aa",
   "metadata": {},
   "source": [
    "### So should I use or avoid braces initialisation?"
   ]
  },
  {
   "cell_type": "markdown",
   "id": "ambient-month",
   "metadata": {},
   "source": [
    "Scott Meyers in Effective Modern C++:\n",
    "\n",
    "> Most developers end up choosing one kind of delimiter as a default, using the other only when they have to. Braces-by-default folks are attracted by their unrivaled breadth of applicability, their prohibition of narrowing conversions, and their immunity to C++’s most vexing parse. Such folks understand that in some cases (e.g., creation of a std::vector with a given size and initial element value), parentheses are required. On the other hand, the go-parentheses-go crowd embraces parentheses as their default argument delimiter. They’re attracted to its consistency with the C++98 syntactic tradition, its avoidance of the auto-deduced-a-std::initializer_list problem, and the knowledge that their object creation calls won’t be inadvertently waylaid by std::initializer_list constructors. They concede that sometimes only braces will do (e.g., when creating a container with particular values). There’s no consensus that either approach is better than the other, so my advice is to pick one and apply it consistently."
   ]
  },
  {
   "cell_type": "markdown",
   "id": "hollow-brother",
   "metadata": {},
   "source": [
    "## auto (in some situations)"
   ]
  },
  {
   "cell_type": "markdown",
   "id": "empirical-torture",
   "metadata": {},
   "source": [
    "## Newer cast syntax"
   ]
  },
  {
   "cell_type": "code",
   "execution_count": null,
   "id": "interior-dietary",
   "metadata": {},
   "outputs": [],
   "source": []
  }
 ],
 "metadata": {
  "kernelspec": {
   "display_name": "C++17",
   "language": "C++17",
   "name": "xcpp17"
  },
  "language_info": {
   "codemirror_mode": "text/x-c++src",
   "file_extension": ".cpp",
   "mimetype": "text/x-c++src",
   "name": "c++",
   "version": "17"
  }
 },
 "nbformat": 4,
 "nbformat_minor": 5
}
