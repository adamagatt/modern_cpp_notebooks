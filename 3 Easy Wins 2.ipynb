{
 "cells": [
  {
   "cell_type": "markdown",
   "id": "medical-product",
   "metadata": {},
   "source": [
    "# 3 - Easy Wins (2 / 2)\n",
    "##### **Author: Adam Gatt**"
   ]
  },
  {
   "cell_type": "markdown",
   "id": "fiscal-romantic",
   "metadata": {},
   "source": [
    "## explicit (pre 11)"
   ]
  },
  {
   "cell_type": "code",
   "execution_count": null,
   "id": "identified-distributor",
   "metadata": {},
   "outputs": [],
   "source": [
    "class Factor {\n",
    "    public:\n",
    "    Factor(double value)\n",
    "        : value(value) { }\n",
    "    \n",
    "    double apply(double input) {\n",
    "        return input * value;\n",
    "    }\n",
    "    \n",
    "    private:\n",
    "    double value;\n",
    "};"
   ]
  },
  {
   "cell_type": "code",
   "execution_count": null,
   "id": "extensive-hearts",
   "metadata": {},
   "outputs": [],
   "source": [
    "adouble scale(double input, Factor factor) {\n",
    "    return factor.apply(input);\n",
    "};"
   ]
  },
  {
   "cell_type": "code",
   "execution_count": null,
   "id": "careful-excess",
   "metadata": {},
   "outputs": [],
   "source": [
    "scale(5, 0.5)"
   ]
  },
  {
   "cell_type": "code",
   "execution_count": null,
   "id": "collectible-player",
   "metadata": {},
   "outputs": [],
   "source": [
    "Factor myFactor = 0.5;\n",
    "\n",
    "myFactor.apply(100)"
   ]
  },
  {
   "cell_type": "markdown",
   "id": "serious-minimum",
   "metadata": {},
   "source": [
    "What are the costs or risks of implicit conversion? They might include:\n",
    " * Function arguments being open to a far greater range of types than intended\n",
    " * An API that is open to guesswork rather than understanding proper usage\n",
    " * Creation of unintended temporary objects\n",
    " * Creation of objects at all that shouldn't be allowed (e.g. if the class is intended Singleton)\n",
    " * Reducing clarity of the intent of the codebase"
   ]
  },
  {
   "cell_type": "code",
   "execution_count": null,
   "id": "legendary-iceland",
   "metadata": {},
   "outputs": [],
   "source": [
    "Factor myFactor(0.5);\n",
    "myFactor.apply(100)"
   ]
  },
  {
   "cell_type": "code",
   "execution_count": null,
   "id": "mature-resistance",
   "metadata": {},
   "outputs": [],
   "source": [
    "class Factor {\n",
    "    public:\n",
    "    // Now explcit, no type conversion for arguments\n",
    "    explicit Factor(int value)\n",
    "        : value(value) { }\n",
    "    \n",
    "    int apply(int input) {\n",
    "        return input * value;\n",
    "    }\n",
    "    \n",
    "    private:\n",
    "    int value;\n",
    "}"
   ]
  },
  {
   "cell_type": "code",
   "execution_count": null,
   "id": "statewide-girlfriend",
   "metadata": {},
   "outputs": [],
   "source": [
    "Factor myFactor = 0.5;\n",
    "\n",
    "myFactor.apply(100)"
   ]
  },
  {
   "cell_type": "code",
   "execution_count": null,
   "id": "lovely-cricket",
   "metadata": {},
   "outputs": [],
   "source": [
    "Factor myFactor(0.5);\n",
    "myFactor.apply(100)"
   ]
  },
  {
   "cell_type": "markdown",
   "id": "wrapped-atlanta",
   "metadata": {},
   "source": [
    "Here is a 2006 (pre-11) article on this topic on [The Old New Thing](https://devblogs.microsoft.com/oldnewthing/20060524-12/?p=31083)."
   ]
  },
  {
   "cell_type": "markdown",
   "id": "delayed-flavor",
   "metadata": {},
   "source": [
    "## Uniform Initialisation Syntax"
   ]
  },
  {
   "cell_type": "markdown",
   "id": "rotary-planning",
   "metadata": {},
   "source": [
    "<<< Insert the initialisation syntax comparison chart >>>"
   ]
  },
  {
   "cell_type": "markdown",
   "id": "ambient-month",
   "metadata": {},
   "source": [
    "Scott Meyers in Effective Modern C++:\n",
    "\n",
    "> Most developers end up choosing one kind of delimiter as a default, using the other only when they have to. Braces-by-default folks are attracted by their unrivaled breadth of applicability, their prohibition of narrowing conversions, and their immunity to C++’s most vexing parse. Such folks understand that in some cases (e.g., creation of a std::vector with a given size and initial element value), parentheses are required. On the other hand, the go-parentheses-go crowd embraces parentheses as their default argument delimiter. They’re attracted to its consistency with the C++98 syntactic tradition, its avoidance of the auto-deduced-a-std::initializer_list problem, and the knowledge that their object creation calls won’t be inadvertently waylaid by std::initializer_list constructors. They concede that sometimes only braces will do (e.g., when creating a container with particular values). There’s no consensus that either approach is better than the other, so my advice is to pick one and apply it consistently."
   ]
  },
  {
   "cell_type": "markdown",
   "id": "hollow-brother",
   "metadata": {},
   "source": [
    "## auto (in some situations)"
   ]
  },
  {
   "cell_type": "markdown",
   "id": "iraqi-external",
   "metadata": {},
   "source": [
    "## Const references (pre-11)\n",
    "Despite introducing the useful `nullptr` in the previous notebook, the concept of the null reference has been described as its creator as the [Billion Dollar Mistake](https://www.youtube.com/watch?v=YYkOWzrO3xg)."
   ]
  },
  {
   "cell_type": "code",
   "execution_count": null,
   "id": "brief-abuse",
   "metadata": {},
   "outputs": [],
   "source": []
  },
  {
   "cell_type": "markdown",
   "id": "empirical-torture",
   "metadata": {},
   "source": [
    "## Newer cast syntax"
   ]
  },
  {
   "cell_type": "code",
   "execution_count": null,
   "id": "interior-dietary",
   "metadata": {},
   "outputs": [],
   "source": []
  }
 ],
 "metadata": {
  "kernelspec": {
   "display_name": "C++17",
   "language": "C++17",
   "name": "xcpp17"
  },
  "language_info": {
   "codemirror_mode": "text/x-c++src",
   "file_extension": ".cpp",
   "mimetype": "text/x-c++src",
   "name": "c++",
   "version": "17"
  }
 },
 "nbformat": 4,
 "nbformat_minor": 5
}
