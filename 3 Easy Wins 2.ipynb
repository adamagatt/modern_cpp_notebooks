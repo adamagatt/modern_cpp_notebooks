{
 "cells": [
  {
   "cell_type": "markdown",
   "id": "medical-product",
   "metadata": {},
   "source": [
    "# 3 - Easy Wins (2 / 2)\n",
    "##### **Author: Adam Gatt**"
   ]
  },
  {
   "cell_type": "markdown",
   "id": "fiscal-romantic",
   "metadata": {},
   "source": [
    "## explicit (pre 11)"
   ]
  },
  {
   "cell_type": "markdown",
   "id": "comic-title",
   "metadata": {},
   "source": [
    "Here we have a class representing a scaling factor that you can multiply other numbers with."
   ]
  },
  {
   "cell_type": "code",
   "execution_count": 1,
   "id": "identified-distributor",
   "metadata": {},
   "outputs": [],
   "source": [
    "class Factor {\n",
    "    public:\n",
    "    Factor(double value)\n",
    "        : value(value) { }\n",
    "    \n",
    "    double apply(double input) const {\n",
    "        return input * value;\n",
    "    }\n",
    "    \n",
    "    private:\n",
    "    double value;\n",
    "};"
   ]
  },
  {
   "cell_type": "code",
   "execution_count": 2,
   "id": "extensive-hearts",
   "metadata": {},
   "outputs": [],
   "source": [
    "double scale(double input, const Factor& factor) {\n",
    "    return factor.apply(input);\n",
    "};"
   ]
  },
  {
   "cell_type": "code",
   "execution_count": 3,
   "id": "careful-excess",
   "metadata": {
    "scrolled": true
   },
   "outputs": [
    {
     "data": {
      "text/plain": [
       "2.5000000"
      ]
     },
     "execution_count": 3,
     "metadata": {},
     "output_type": "execute_result"
    }
   ],
   "source": [
    "scale(5, 0.5)"
   ]
  },
  {
   "cell_type": "markdown",
   "id": "medical-lighting",
   "metadata": {},
   "source": [
    "How come the call to `scale()` succeeded even though the second parameter was a double instead of a Factor? It's because of the rules C++ uses when parsing a function call. If the compiler can't find a function declaration that matches the called signature, then it will attempt a process called _implicit conversion_. This involves looking around for any other functions that it can use to convert the arguments to types that will allow the original function call to succeed. It is similar to the promotion of primitives, so that you can pass an int to a function that expects a double, except broadened to apply to other types as well. The compiler will search for any user-defined conversion functions and constructors that it can use to perform the conversion process. \n",
    "\n",
    "So here:\n",
    "1. The call to `scale(int, double)` is initially unsuccessful as that signature has not been declared.\n",
    "2. The compiler notices the declaration `scale(int, const Factor&)` and determines if it can convert the arguments to match it.\n",
    "3. The compiler notices that `Factor(double value)` is available for creating a Factor out of a double.\n",
    "4. The compiler inserts the implicit conversion, effectively turning the function call into `scale(5, Factor(0.5))`, and creating a temporary Factor object to submit to the scale function.\n",
    "\n",
    "C++ performs implicit conversion not only when calling functions, [but in a range of scenarios](https://en.cppreference.com/w/cpp/language/implicit_conversion) where one type is provided where another is needed.\n",
    "\n",
    "Initially this might seem like a benefit, for getting code to work that otherwise wouldn't. But remember that this all happens implicitly behind the scenes, without evidence in the source code itself. As a general rule, you want your application logic to be explicitly laid out to make the code more readable and verifiable.\n",
    "\n",
    "What are the costs or risks of implicit conversion? They might include:\n",
    " * Function arguments being open to a far greater range of types than intended\n",
    " * An API that is open to guesswork rather than understanding proper usage\n",
    " * Creation of unintended temporary objects\n",
    " * Creation of objects at all that shouldn't be allowed (e.g. if the class is intended Singleton)\n",
    " * Reducing clarity of the intent of the codebase\n",
    " \n",
    "How do we crack down on implicit conversion, assuming we intend to? Remember that the implicit conversion comes about due to three factors:\n",
    "1. A function call with a signature that hasn't been declared\n",
    "2. A candidate signature that could be matched with some conversion\n",
    "3. A conversion function or constructor that can perform the conversion\n",
    "\n",
    "Here the `explicit` keyword is provided to solve our problem by addressing factor 3. A conversion function or constructor that is marked explicit will only be used by the compiler if explicitly called in the codebase. It will not be considered during the implicit conversion process as a way of performing a needed conversion."
   ]
  },
  {
   "cell_type": "code",
   "execution_count": 4,
   "id": "handy-earthquake",
   "metadata": {},
   "outputs": [],
   "source": [
    "class Factor2 {\n",
    "    public:\n",
    "    // Now explicit, no type conversion for arguments\n",
    "    explicit Factor2(int value)\n",
    "        : value(value) { }\n",
    "    \n",
    "    int apply(int input) const {\n",
    "        return input * value;\n",
    "    }\n",
    "    \n",
    "    private:\n",
    "    int value;\n",
    "}"
   ]
  },
  {
   "cell_type": "code",
   "execution_count": 5,
   "id": "empirical-arctic",
   "metadata": {},
   "outputs": [],
   "source": [
    "double scale2(double input, const Factor2& factor) {\n",
    "    return factor.apply(input);\n",
    "};"
   ]
  },
  {
   "cell_type": "code",
   "execution_count": 6,
   "id": "pediatric-sister",
   "metadata": {},
   "outputs": [
    {
     "name": "stderr",
     "output_type": "stream",
     "text": [
      "\u001b[1minput_line_15:2:2: \u001b[0m\u001b[0;1;31merror: \u001b[0m\u001b[1mno matching function for call to 'scale2'\u001b[0m\n",
      " scale2(5, 0.5)\n",
      "\u001b[0;1;32m ^~~~~~\n",
      "\u001b[0m\u001b[1minput_line_14:1:8: \u001b[0m\u001b[0;1;30mnote: \u001b[0mcandidate function not viable: no known conversion from 'double' to 'const __cling_N56::Factor2' for 2nd argument\u001b[0m\n",
      "double scale2(double input, const Factor2& factor) {\n",
      "\u001b[0;1;32m       ^\n",
      "\u001b[0m"
     ]
    },
    {
     "ename": "Interpreter Error",
     "evalue": "",
     "output_type": "error",
     "traceback": [
      "Interpreter Error: "
     ]
    }
   ],
   "source": [
    "scale2(5, 0.5)"
   ]
  },
  {
   "cell_type": "markdown",
   "id": "brave-gibraltar",
   "metadata": {},
   "source": [
    "Here is another use for `explicit`. In the previous notebook we had `Line myLine = NULL` (missing the `*`) and the code not only compiled, but called the constructor `Line (int thickness)`. What happened here?\n",
    "\n",
    "The issue is that the Line class, like our original Factor class, has a constructor that the compiler considers to be a [converting constructor](https://en.cppreference.com/w/cpp/language/converting_constructor). Pre C++11 this was any constructor that accepts only a single parameter. For '11 and later, any constructor is treated as a converting constructor (due to the introduction of initializer lists).\n",
    "\n",
    "The example below demonstrates this. The important point to know here is that despite the `=` character, the operation below is not an assignment. Instead it follows the _copy initialisation_ process, which will end up calling the constructor. _(The next section will touch briefly on copy initialisation vs direct initialisation)._"
   ]
  },
  {
   "cell_type": "code",
   "execution_count": 7,
   "id": "collectible-player",
   "metadata": {},
   "outputs": [
    {
     "data": {
      "text/plain": [
       "5.0000000"
      ]
     },
     "execution_count": 7,
     "metadata": {},
     "output_type": "execute_result"
    }
   ],
   "source": [
    "Factor myFactor = 0.5; // Compiles to \"Factor myFactor(0.5)\"\n",
    "myFactor.apply(10)"
   ]
  },
  {
   "cell_type": "markdown",
   "id": "bizarre-tutorial",
   "metadata": {},
   "source": [
    "Declaring a constructor `explicit` will prevent it from being a converting constructor, and the statement returns to attempting to assign a double to our user-defined type."
   ]
  },
  {
   "cell_type": "code",
   "execution_count": 8,
   "id": "legendary-iceland",
   "metadata": {},
   "outputs": [
    {
     "name": "stderr",
     "output_type": "stream",
     "text": [
      "\u001b[1minput_line_18:2:10: \u001b[0m\u001b[0;1;31merror: \u001b[0m\u001b[1mno viable conversion from 'double' to '__cling_N56::Factor2'\u001b[0m\n",
      " Factor2 myFactor2 = 0.5;\n",
      "\u001b[0;1;32m         ^           ~~~\n",
      "\u001b[0m\u001b[1minput_line_13:1:7: \u001b[0m\u001b[0;1;30mnote: \u001b[0mcandidate constructor (the implicit copy constructor) not viable: no known conversion from 'double' to 'const __cling_N56::Factor2 &' for 1st argument\u001b[0m\n",
      "class Factor2 {\n",
      "\u001b[0;1;32m      ^\n",
      "\u001b[0m\u001b[1minput_line_13:1:7: \u001b[0m\u001b[0;1;30mnote: \u001b[0mcandidate constructor (the implicit move constructor) not viable: no known conversion from 'double' to '__cling_N56::Factor2 &&' for 1st argument\u001b[0m\n"
     ]
    },
    {
     "ename": "Interpreter Error",
     "evalue": "",
     "output_type": "error",
     "traceback": [
      "Interpreter Error: "
     ]
    }
   ],
   "source": [
    "Factor2 myFactor2 = 0.5;\n",
    "myFactor2.apply(100)"
   ]
  },
  {
   "cell_type": "markdown",
   "id": "wrapped-atlanta",
   "metadata": {},
   "source": [
    "For extra reading, here is a 2006 (pre-11) article on this topic on [The Old New Thing](https://devblogs.microsoft.com/oldnewthing/20060524-12/?p=31083)."
   ]
  },
  {
   "cell_type": "markdown",
   "id": "delayed-flavor",
   "metadata": {},
   "source": [
    "## Uniform Initialisation Syntax"
   ]
  },
  {
   "cell_type": "markdown",
   "id": "metallic-obligation",
   "metadata": {},
   "source": [
    "The simple initialisation of a variable might be one of the most complicated things in C++:\n",
    "\n",
    "![initialisation_gif](http://mikelui.io/img/c++_init_forest.gif)"
   ]
  },
  {
   "cell_type": "markdown",
   "id": "compliant-vision",
   "metadata": {},
   "source": [
    "More than this, the different methods of initialisation come with different rules and levels of strictness. [This is a very useful chart](https://josuttis.com/cpp/c++initialization.pdf) to help make the differences easy to compare. One notable entry is the `Type i{x};` row (and the related `Type i = {x};` that are supported by pretty much all of the listed criteria. This makes it a strong choice if those criteria seem useful or important to you, such as enforcing that narrowing operations should result in errors."
   ]
  },
  {
   "cell_type": "code",
   "execution_count": 5,
   "id": "dimensional-giant",
   "metadata": {},
   "outputs": [
    {
     "name": "stderr",
     "output_type": "stream",
     "text": [
      "\u001b[1minput_line_11:2:8: \u001b[0m\u001b[0;1;35mwarning: \u001b[0m\u001b[1mimplicit conversion from 'double' to 'int' changes value from 4.5 to 4 [-Wliteral-conversion]\u001b[0m\n",
      " int x(4.5); // Warning, but still allowed\n",
      "\u001b[0;1;32m     ~ ^~~\n",
      "\u001b[0m\u001b[1minput_line_11:3:7: \u001b[0m\u001b[0;1;31merror: \u001b[0m\u001b[1mtype 'double' cannot be narrowed to 'int' in initializer list [-Wc++11-narrowing]\u001b[0m\n",
      "int y{4.5}; // Narrowing is error\n",
      "\u001b[0;1;32m      ^~~\n",
      "\u001b[0m\u001b[1minput_line_11:3:7: \u001b[0m\u001b[0;1;30mnote: \u001b[0minsert an explicit cast to silence this issue\u001b[0m\n",
      "int y{4.5}; // Narrowing is error\n",
      "\u001b[0;1;32m      ^~~\n",
      "\u001b[0m\u001b[0;32m      static_cast<int>( )\n",
      "\u001b[0m\u001b[1minput_line_11:3:7: \u001b[0m\u001b[0;1;35mwarning: \u001b[0m\u001b[1mimplicit conversion from 'double' to 'int' changes value from 4.5 to 4 [-Wliteral-conversion]\u001b[0m\n",
      "int y{4.5}; // Narrowing is error\n",
      "\u001b[0;1;32m     ~^~~\n",
      "\u001b[0m"
     ]
    },
    {
     "ename": "Interpreter Error",
     "evalue": "",
     "output_type": "error",
     "traceback": [
      "Interpreter Error: "
     ]
    }
   ],
   "source": [
    "int x(4.5); // Warning, but still allowed\n",
    "\n",
    "int y{4.5}; // Narrowing is error"
   ]
  },
  {
   "cell_type": "markdown",
   "id": "casual-stewart",
   "metadata": {},
   "source": [
    "The curly-braced approach is the [Uniform Initialisation Syntax](https://www.learncpp.com/cpp-tutorial/b-4-initializer-lists-and-uniform-initialization/) introduced with C++11 to make initialisation safer and more predictable."
   ]
  },
  {
   "cell_type": "markdown",
   "id": "ambient-month",
   "metadata": {},
   "source": [
    "Scott Meyers in Effective Modern C++:\n",
    "\n",
    "> Most developers end up choosing one kind of delimiter as a default, using the other only when they have to. Braces-by-default folks are attracted by their unrivaled breadth of applicability, their prohibition of narrowing conversions, and their immunity to C++’s most vexing parse. Such folks understand that in some cases (e.g., creation of a std::vector with a given size and initial element value), parentheses are required. On the other hand, the go-parentheses-go crowd embraces parentheses as their default argument delimiter. They’re attracted to its consistency with the C++98 syntactic tradition, its avoidance of the auto-deduced-a-std::initializer_list problem, and the knowledge that their object creation calls won’t be inadvertently waylaid by std::initializer_list constructors. They concede that sometimes only braces will do (e.g., when creating a container with particular values). There’s no consensus that either approach is better than the other, so my advice is to pick one and apply it consistently."
   ]
  },
  {
   "cell_type": "markdown",
   "id": "hollow-brother",
   "metadata": {},
   "source": [
    "## auto (in some situations)"
   ]
  },
  {
   "cell_type": "markdown",
   "id": "empirical-torture",
   "metadata": {},
   "source": [
    "## Newer cast syntax"
   ]
  },
  {
   "cell_type": "markdown",
   "id": "adaptive-asset",
   "metadata": {},
   "source": [
    "![initialisation_gif](http://mikelui.io/img/c++_init_forest.gif)"
   ]
  },
  {
   "cell_type": "code",
   "execution_count": null,
   "id": "interior-dietary",
   "metadata": {},
   "outputs": [],
   "source": []
  }
 ],
 "metadata": {
  "kernelspec": {
   "display_name": "C++17",
   "language": "C++17",
   "name": "xcpp17"
  },
  "language_info": {
   "codemirror_mode": "text/x-c++src",
   "file_extension": ".cpp",
   "mimetype": "text/x-c++src",
   "name": "c++",
   "version": "17"
  }
 },
 "nbformat": 4,
 "nbformat_minor": 5
}
