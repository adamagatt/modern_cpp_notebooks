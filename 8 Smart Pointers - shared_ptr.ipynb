{
 "cells": [
  {
   "cell_type": "markdown",
   "id": "pending-hampshire",
   "metadata": {},
   "source": [
    "## 8 - Smart Pointers: `shared_ptr`\n",
    "##### **Author: Adam Gatt**\n",
    "\n",
    "The second type of smart pointer is `shared_ptr` which allows for multiple \"owning\" references, and the dynamic data will be deleted when the last owning reference falls out of scope. This is achieved by a reference-counting approach (much like garbage collection in the JVM). It is useful when:\n",
    "\n",
    "* It cannot be made clear who the single authoritative owner should be\n",
    "* There is a need for multiple references but no guarantees on which of them will be finalised last (e.g. a multi-threaded environment)\n",
    "\n",
    "The behaviour of `shared_ptr` is achieved by a reference-counting approach, much like garbage collection in the JVM. This comes at a cost compared to its unique counterpart:\n",
    "\n",
    "* The reference counter requires extra memory and prevents the smart pointer from being fully optimised away\n",
    "* It is possible to create \"reference cycles\" of two shared_ptrs with (perhaps indirect) references to each other, preventing either of them from being cleaned up\n",
    "\n",
    "As such, `shared_ptr` should not be used as a default approach where a `unique_ptr` would do instead. "
   ]
  },
  {
   "cell_type": "code",
   "execution_count": 1,
   "id": "distributed-deputy",
   "metadata": {},
   "outputs": [],
   "source": [
    "#include <memory>\n",
    "#include <iostream>\n",
    "\n",
    "class DynamicData {\n",
    "    public:\n",
    "    DynamicData() {\n",
    "        std::cout << \"Data created\" << std::endl;\n",
    "    }\n",
    "    \n",
    "    ~DynamicData() {\n",
    "        std::cout << \"Data cleaned up\" << std::endl;\n",
    "    }\n",
    "}"
   ]
  },
  {
   "cell_type": "code",
   "execution_count": 2,
   "id": "minute-hearing",
   "metadata": {},
   "outputs": [
    {
     "name": "stdout",
     "output_type": "stream",
     "text": [
      "> outer scope\n",
      "> inner scope\n",
      "Data created\n",
      "< inner scope\n",
      "< outer scope\n",
      "Data cleaned up\n"
     ]
    }
   ],
   "source": [
    "{\n",
    "    std::cout << \"> outer scope\" << std::endl;\n",
    "    \n",
    "    // First shared pointer, but contains no data yet\n",
    "    std::shared_ptr<DynamicData> ptr1;\n",
    "    \n",
    "    {\n",
    "        std::cout << \"> inner scope\" << std::endl;\n",
    "        \n",
    "        // Shared pointer, creating dynamic data\n",
    "        std::shared_ptr<DynamicData> ptr2 = std::make_shared<DynamicData>();\n",
    "    \n",
    "        // Share ptr2 reference with ptr1 (via copy assignment operator)\n",
    "        ptr1 = ptr2;\n",
    "        std::cout << \"< inner scope\" << std::endl;\n",
    "    }\n",
    "    \n",
    "    std::cout << \"< outer scope\" << std::endl;\n",
    "}"
   ]
  },
  {
   "cell_type": "markdown",
   "id": "allied-vessel",
   "metadata": {},
   "source": [
    "We can call `use_count()` to determine how many shared_ptrs are currently pointing to the same data."
   ]
  },
  {
   "cell_type": "code",
   "execution_count": 4,
   "id": "popular-tampa",
   "metadata": {},
   "outputs": [
    {
     "name": "stdout",
     "output_type": "stream",
     "text": [
      "Data created\n",
      "4\n",
      "Data cleaned up\n"
     ]
    }
   ],
   "source": [
    "{\n",
    "    std::shared_ptr<DynamicData> ptr1 = std::make_shared<DynamicData>();\n",
    "    std::shared_ptr<DynamicData> ptr2 = ptr1;\n",
    "    std::shared_ptr<DynamicData> ptr3 = ptr1;\n",
    "    std::shared_ptr<DynamicData> ptr4 = ptr1;\n",
    "\n",
    "    std::cout << ptr1.use_count() << std::endl;\n",
    "}"
   ]
  },
  {
   "cell_type": "markdown",
   "id": "sufficient-accessory",
   "metadata": {},
   "source": [
    "### Optional: Smart pointer creation, `new` vs `make_*`\n",
    "In the examples above I often used the `std::make_unique` function to create unique_ptrs. If I wanted to, there is no reason why I can't create a unique_ptr with [its standard constructor](https://en.cppreference.com/w/cpp/memory/unique_ptr/unique_ptr), passing it a pointer to the dynamic data that I create manually with the usual `new` keyword."
   ]
  },
  {
   "cell_type": "code",
   "execution_count": null,
   "id": "empty-maryland",
   "metadata": {},
   "outputs": [],
   "source": [
    "#include <memory>\n",
    "#include <string>\n",
    "\n",
    "std::unique_ptr<std::string> dynamicStringManager(new std::string(\"Hello, World!\"));\n",
    "\n",
    "*dynamicStringManager"
   ]
  },
  {
   "cell_type": "markdown",
   "id": "decreased-raise",
   "metadata": {},
   "source": [
    "However, in C++14 the functions `make_unique` and `make_shared` were introduced as it was realised that there was a subtle bug that may result in a memory leak. In short, if a smart pointer was created as a temporary object (e.g. such as in a function call) and then an exception occurs before the temporary object is used and resolved, there is a chance that the dynamic data would be successfully created but the creation of the owning smart pointer would fail. With no smart pointer to clean it up, the dynamic data would leak."
   ]
  },
  {
   "cell_type": "code",
   "execution_count": null,
   "id": "expensive-satin",
   "metadata": {},
   "outputs": [],
   "source": [
    "func1(std::unique_ptr<A>(new A(\"Hello\", 50)), func2())"
   ]
  },
  {
   "cell_type": "markdown",
   "id": "frank-julian",
   "metadata": {},
   "source": [
    "Consider the (contrived) example above, with a function \"func1\" that requires a smart pointer and the results of a second function \"func2\". In the C++ standard, the execution order of the statement is not strongly defined. It is very possible for the dynamic object `new A()` to be created first, and then for `func2` to execute and cause an exception. The temporary unique_ptr never gets created, and there is nothing responsible for deleting our dynamic object.\n",
    "\n",
    "In the alternative syntax below, the `make_unique()` call is atomic. The unique_ptr may already have been created when func2 throws an exception, but it is firmly an existing _temporary object_ by then. When the exception occurs the stack will be unwound and the smart pointer's destructor will be called, cleaning up the data. "
   ]
  },
  {
   "cell_type": "code",
   "execution_count": null,
   "id": "variable-pitch",
   "metadata": {},
   "outputs": [],
   "source": [
    "func1(std::make_unique<A>(\"Hello\", 50), func2())"
   ]
  },
  {
   "cell_type": "markdown",
   "id": "ambient-module",
   "metadata": {},
   "source": [
    "But then when C++17 was released, the standard was changed to include additional guarantees, including that all side-effects of a function argument must be evaluated before moving on to the next argument. This rule fixes the above example and obviates the safety-based argument for using make_unique. However, if you cannot guarantee that your code will only be compiled with C++17, it may be good to make a habit of using make_unique (and make_shared) to avoid being caught out.\n",
    "\n",
    "In addition to the safety argument, there are two other arguments commonly made for using the make_* creation functions:\n",
    "* You only need to write the underlying type name once, improving readability when the type name is especially long\n",
    "* You can arguably avoid the need to write `new` completely, making the new/delete semantics effectively obsolete."
   ]
  },
  {
   "cell_type": "markdown",
   "id": "behavioral-comparison",
   "metadata": {},
   "source": [
    "\n",
    "\n",
    "### Shared_ptr\n",
    "Reference counted\n",
    "#### Creation (Manual/make_shared)\n",
    "#### Create extra reference\n",
    "#### Drop reference\n",
    "#### weak_ptr\n",
    "Non-owning reference - check for null and expect to lose at any time\n",
    "    Breaks cycles of shared_ptrs\n",
    "Example of object cache\n",
    "\n",
    "\n",
    "### Rules for smart pointers\n",
    "* create smart pointers with their std::make_* functions\n",
    "* return smart pointers by value\n",
    "* Accept unique_ptr as parameter if you intend to claim ownership\n",
    "* Accept shared_ptr as parameter if you intend to add to ownership\n",
    "* Accept raw pointer if you intend to use but not claim ownership"
   ]
  },
  {
   "cell_type": "code",
   "execution_count": null,
   "id": "incomplete-somerset",
   "metadata": {},
   "outputs": [],
   "source": []
  },
  {
   "cell_type": "code",
   "execution_count": null,
   "id": "hydraulic-stephen",
   "metadata": {},
   "outputs": [],
   "source": []
  }
 ],
 "metadata": {
  "kernelspec": {
   "display_name": "C++17",
   "language": "C++17",
   "name": "xcpp17"
  },
  "language_info": {
   "codemirror_mode": "text/x-c++src",
   "file_extension": ".cpp",
   "mimetype": "text/x-c++src",
   "name": "c++",
   "version": "17"
  }
 },
 "nbformat": 4,
 "nbformat_minor": 5
}
