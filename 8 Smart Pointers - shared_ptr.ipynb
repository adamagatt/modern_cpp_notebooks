{
 "cells": [
  {
   "cell_type": "markdown",
   "id": "pending-hampshire",
   "metadata": {},
   "source": [
    "## 8 - Smart Pointers: `shared_ptr`\n",
    "##### **Author: Adam Gatt**\n",
    "\n",
    "The second type of smart pointer is `shared_ptr` which allows for multiple \"owning\" references, and the dynamic data will be deleted when the last owning reference falls out of scope. This is achieved by a reference-counting approach (much like garbage collection in the JVM). It is useful when:\n",
    "\n",
    "* It cannot be made clear who the single authoritative owner should be\n",
    "* There is a need for multiple references but no guarantees on which of them will be finalised last (e.g. a multi-threaded environment)\n",
    "\n",
    "The behaviour of `shared_ptr` is achieved by a reference-counting approach, much like garbage collection in the JVM. This comes at a cost compared to its unique counterpart:\n",
    "\n",
    "* The reference counter requires extra memory and prevents the smart pointer from being fully optimised away\n",
    "* It is possible to create \"reference cycles\" of two shared_ptrs with (perhaps indirect) references to each other, preventing either of them from being cleaned up\n",
    "\n",
    "As such, `shared_ptr` should not be used as a default approach where a `unique_ptr` would do instead. "
   ]
  },
  {
   "cell_type": "code",
   "execution_count": 1,
   "id": "distributed-deputy",
   "metadata": {},
   "outputs": [],
   "source": [
    "#include <memory>\n",
    "#include <iostream>\n",
    "\n",
    "class DynamicData {\n",
    "    public:\n",
    "    DynamicData() {\n",
    "        std::cout << \"Data created\" << std::endl;\n",
    "    }\n",
    "    \n",
    "    ~DynamicData() {\n",
    "        std::cout << \"Data cleaned up\" << std::endl;\n",
    "    }\n",
    "}"
   ]
  },
  {
   "cell_type": "code",
   "execution_count": 2,
   "id": "minute-hearing",
   "metadata": {
    "scrolled": true
   },
   "outputs": [
    {
     "name": "stdout",
     "output_type": "stream",
     "text": [
      "> outer scope\n",
      "> inner scope\n",
      "Data created\n",
      "< inner scope\n",
      "< outer scope\n",
      "Data cleaned up\n"
     ]
    }
   ],
   "source": [
    "{\n",
    "    std::cout << \"> outer scope\" << std::endl;\n",
    "    \n",
    "    // First shared pointer, but contains no data yet\n",
    "    std::shared_ptr<DynamicData> ptr1;\n",
    "    \n",
    "    {\n",
    "        std::cout << \"> inner scope\" << std::endl;\n",
    "        \n",
    "        // Shared pointer, creating dynamic data\n",
    "        std::shared_ptr<DynamicData> ptr2 = std::make_shared<DynamicData>();\n",
    "    \n",
    "        // Share ptr2 reference with ptr1 (via copy assignment operator)\n",
    "        ptr1 = ptr2;\n",
    "        std::cout << \"< inner scope\" << std::endl;\n",
    "    }\n",
    "    \n",
    "    std::cout << \"< outer scope\" << std::endl;\n",
    "}"
   ]
  },
  {
   "cell_type": "markdown",
   "id": "placed-slovenia",
   "metadata": {},
   "source": [
    "#### Copy and move assignment \n",
    "As we can see, the copy constructor of a `shared_ptr` is not deleted like it is for `unique_ptr`. This allows us to write an assignment operation like\n",
    " * `mySharedPtr2 = mySharedPtr1`, or\n",
    " * `std::shared_ptr<Widget> newPtr{oldPtr}`\n",
    " \n",
    "This operation creates a an additional reference to an existing `shared_ptr`, calling either the copy-assignment operator or copy constructor.\n",
    "\n",
    "We do not have to call `std::move` when assigning our new `shared_ptr`. In fact, if we do then it is a different operation, a _\"move assignment\"_, instructing the new pointer to replace the old one. In this case, the previous `shared_ptr` has had its ownership of the data taken over by the new pointer, and the old pointer enters a \"valid but unspecified state\". "
   ]
  },
  {
   "cell_type": "code",
   "execution_count": null,
   "id": "destroyed-thought",
   "metadata": {},
   "outputs": [],
   "source": [
    "std::shared_ptr<Widget> newPointer = std::move(oldPointer);\n",
    "\n",
    "// 1) newPointer has taken over oldPointer's ownership of the dynamic Widget object\n",
    "// 2) The reference count is not increased\n",
    "// 3) We must not use oldPointer again after this statement"
   ]
  },
  {
   "cell_type": "markdown",
   "id": "imposed-protein",
   "metadata": {},
   "source": [
    "#### Creation\n",
    "`std::make_shared` is the preferred way to create a (rvalued) `shared_ptr`, just like `make_unique` for `unique_ptr`.\n",
    "> `std::shared_ptr<Widget> myPointer = std::make_shared<Widget>(params);`\n",
    "\n",
    "Some coders prefer to save on the redundant typing by making use of `auto` for the variable declaration. I can understand this and can see little risk in doing so, even if I personally prefer to type it out.\n",
    "> `auto myPointer = std::make_shared<Widget>(params);`\n",
    "\n",
    "An alternative syntax is to create the dynamic object ourselves and pass it to the constructor of the `shared_ptr`. Although it is an option, it is generally accepted as the less-preferred option for a reason that is explored at the end of this notebook.\n",
    "> `std::shared_ptr<Widget> myPointer{new Widget()};`"
   ]
  },
  {
   "cell_type": "markdown",
   "id": "allied-vessel",
   "metadata": {},
   "source": [
    "#### Counting references\n",
    "We can call `use_count()` to determine how many shared_ptrs are currently pointing to the same data. Note that only one constructor and one destructor has been called; the lines below don't show four instances of the dynamic data but four references to the same single instance."
   ]
  },
  {
   "cell_type": "code",
   "execution_count": 4,
   "id": "popular-tampa",
   "metadata": {
    "scrolled": true
   },
   "outputs": [
    {
     "name": "stdout",
     "output_type": "stream",
     "text": [
      "Data created\n",
      "4\n",
      "Data cleaned up\n"
     ]
    }
   ],
   "source": [
    "{\n",
    "    std::shared_ptr<DynamicData> ptr1 = std::make_shared<DynamicData>();\n",
    "    std::shared_ptr<DynamicData> ptr2 = ptr1;\n",
    "    std::shared_ptr<DynamicData> ptr3 = ptr1;\n",
    "    std::shared_ptr<DynamicData> ptr4 = ptr1;\n",
    "\n",
    "    std::cout << ptr1.use_count() << std::endl;\n",
    "}"
   ]
  },
  {
   "cell_type": "markdown",
   "id": "elder-framing",
   "metadata": {},
   "source": [
    "#### Dropping a reference\n",
    "If ever we need to manually release ownership of the dynamic data we can call the `reset()` operation, which also offers overloads to [replace the ownership with a new dynamic object](https://en.cppreference.com/w/cpp/memory/shared_ptr/reset). This should probably only be used in extreme edge cases, as this would arguably run against the RAII philosophy of smart pointers employing a scope-based management of data ownership rather than having to write manual statements for releasing memory. "
   ]
  },
  {
   "cell_type": "code",
   "execution_count": 3,
   "id": "external-broad",
   "metadata": {},
   "outputs": [
    {
     "name": "stdout",
     "output_type": "stream",
     "text": [
      "Data created\n",
      "Data cleaned up\n",
      "Before the end of the scope block\n"
     ]
    }
   ],
   "source": [
    "{\n",
    "    std::shared_ptr<DynamicData> myPointer = std::make_shared<DynamicData>();\n",
    "    // I want to release ownership early\n",
    "    myPointer.reset();\n",
    "    std::cout << \"Before the end of the scope block\" << std::endl;\n",
    "}"
   ]
  },
  {
   "cell_type": "markdown",
   "id": "boolean-medline",
   "metadata": {},
   "source": [
    "_Note that the `shared_ptr` will have its destructor called at the end of the scope block as usual, but as it has released its ownership and is now pointing at nothing, no operation will happen. It is always safe to have an \"empty\" smart pointer reach the end of its scope and get deleted._"
   ]
  },
  {
   "cell_type": "markdown",
   "id": "injured-mining",
   "metadata": {},
   "source": [
    "### `weak_ptr` - a non-owning reference\n",
    "\n",
    "Below is an example of a reference cycle that prevents two shared_ptrs from being deleted:"
   ]
  },
  {
   "cell_type": "code",
   "execution_count": 1,
   "id": "soviet-worry",
   "metadata": {},
   "outputs": [],
   "source": [
    "#include <memory>\n",
    "#include <iostream>\n",
    "\n",
    "class Manager;\n",
    "\n",
    "class Employee {\n",
    "    private:\n",
    "    std::shared_ptr<Manager> manager;\n",
    "    \n",
    "    public:\n",
    "    Employee(std::shared_ptr<Manager> manager) : manager(manager) {\n",
    "        std::cout << \"Employee created\" << std::endl;\n",
    "    }\n",
    "    \n",
    "    ~Employee() {\n",
    "        std::cout << \"Employee destroyed\" << std::endl;\n",
    "    }\n",
    "}"
   ]
  },
  {
   "cell_type": "code",
   "execution_count": 2,
   "id": "juvenile-contact",
   "metadata": {},
   "outputs": [],
   "source": [
    "class Manager {\n",
    "    private:\n",
    "    std::vector<std::shared_ptr<Employee>> employees;\n",
    "    \n",
    "    public:\n",
    "    Manager(){\n",
    "        std::cout << \"Manager created\" << std::endl;\n",
    "    }\n",
    "    \n",
    "    ~Manager() {\n",
    "        std::cout << \"Manager destroyed\" << std::endl;\n",
    "    }\n",
    "    \n",
    "    void addEmployee(const std::shared_ptr<Employee>& newEmployee) {\n",
    "        this->employees.push_back(newEmployee);\n",
    "    }\n",
    "}"
   ]
  },
  {
   "cell_type": "code",
   "execution_count": 3,
   "id": "eastern-fabric",
   "metadata": {},
   "outputs": [
    {
     "name": "stdout",
     "output_type": "stream",
     "text": [
      "Manager created\n",
      "Employee created\n"
     ]
    }
   ],
   "source": [
    "{\n",
    "    std::shared_ptr<Manager> manager = std::make_unique<Manager>();\n",
    "    std::shared_ptr<Employee> employee = std::make_unique<Employee>(manager);\n",
    "    manager->addEmployee(employee);\n",
    "}"
   ]
  },
  {
   "cell_type": "markdown",
   "id": "under-nigeria",
   "metadata": {},
   "source": [
    "Both smart pointers have left the scope but the destructors are never called. To be clear, the _shared_ptr objects_ themselves are deleted, but the dynamic objects they point to persist. The shared_ptrs check their reference counts and see that it will not reach zero and so the dynamic data should not be deleted as other shared pointers may be depending on it. For each dynamic object, the two references are:\n",
    " - The shared_ptr object within the scope block, and\n",
    " - The shared_ptr in the other dynamic object that also refers to it\n",
    " \n",
    "`std::weak_ptr` is a tool designed to hold a shared reference to dynamic memory without adding to the reference count. This makes it useful for breaking the reference cycle problem:"
   ]
  },
  {
   "cell_type": "code",
   "execution_count": 2,
   "id": "forbidden-toronto",
   "metadata": {},
   "outputs": [],
   "source": [
    "class Manager {\n",
    "    private:\n",
    "    // We now only want non-counted references to our employees\n",
    "    std::vector<std::weak_ptr<Employee>> employees;\n",
    "    \n",
    "    public:\n",
    "    Manager(){\n",
    "        std::cout << \"Manager created\" << std::endl;\n",
    "    }\n",
    "    \n",
    "    ~Manager() {\n",
    "        std::cout << \"Manager destroyed\" << std::endl;\n",
    "    }\n",
    "    \n",
    "    void addEmployee(const std::shared_ptr<Employee>& newEmployee) {\n",
    "        // We receive a shared_ptr but want to add it to a vector of weak_ptrs. This is allowed\n",
    "        // as there is an implicit assignment conversion between the two.\n",
    "        this->employees.push_back(newEmployee);\n",
    "    }\n",
    "}"
   ]
  },
  {
   "cell_type": "code",
   "execution_count": 3,
   "id": "fancy-backing",
   "metadata": {
    "scrolled": false
   },
   "outputs": [
    {
     "name": "stdout",
     "output_type": "stream",
     "text": [
      "Manager created\n",
      "Employee created\n",
      "Employee destroyed\n",
      "Manager destroyed\n"
     ]
    }
   ],
   "source": [
    "{\n",
    "    std::shared_ptr<Manager> manager = std::make_unique<Manager>();\n",
    "    std::shared_ptr<Employee> employee = std::make_unique<Employee>(manager);\n",
    "    manager->addEmployee(employee);\n",
    "}"
   ]
  },
  {
   "cell_type": "markdown",
   "id": "endless-tuning",
   "metadata": {},
   "source": [
    "`weak_ptr`s are also useful for references that are intended to be temporary by design, such as a cache, or an [Observer Pattern](https://en.wikipedia.org/wiki/Observer_pattern) list of subscribers."
   ]
  },
  {
   "cell_type": "code",
   "execution_count": null,
   "id": "advanced-craps",
   "metadata": {},
   "outputs": [],
   "source": [
    "#include <unordered_map>\n",
    "using Cache_t = std::unordered_map<Parameters, std::weak_ptr<Solution>>;\n",
    "Cache_t cache;\n",
    "\n",
    "std::shared_ptr<Solution> calculateSolution(const Parameters& params, Cache_t& cache) {\n",
    "    \n",
    "    // If we already calculated a solution ...\n",
    "    if (cache.count(params) > 0) {\n",
    "        \n",
    "        std::weak_ptr<Solution>& existingSolution = cache[params];\n",
    "        // ... and if the solution object still exists\n",
    "        if (!existingSolution.expired()) {\n",
    "            return existingSolution.lock();\n",
    "        }\n",
    "    }\n",
    "    \n",
    "    std::shared_ptr<Solution> newSolution = costlyCalculation(params);\n",
    "    cache[params] = newSolution;\n",
    "    return newSolution;\n",
    "}"
   ]
  },
  {
   "cell_type": "markdown",
   "id": "announced-liberal",
   "metadata": {},
   "source": [
    "Because a `weak_ptr` does not add to the reference counter, there is the possibility that its underlying dynamic data has been deleted, if all of the owning shared_ptrs are gone. For full safety, `weak_ptr` has access to the [`expired()`](https://en.cppreference.com/w/cpp/memory/weak_ptr/expired) method to determine if the dynamic data still exists and is safe to use. Alternatively, it has access to the same `use_count()` method, being careful to specify that this still reports on the number of `shared_ptr`s referencing the object and not the number of `weak_ptr`s.\n",
    "\n",
    "But note that [`std::weak_ptr`](https://en.cppreference.com/w/cpp/memory/weak_ptr) doesn't have an implementation of `get()`, `operator*` or `operator->` (or `operator[]`). In order to access the dynamic data we need to call [`lock()`](https://en.cppreference.com/w/cpp/memory/weak_ptr/lock) to create a new `shared_ptr` instance to make use of."
   ]
  },
  {
   "cell_type": "markdown",
   "id": "alternative-cycling",
   "metadata": {},
   "source": [
    "### Rules for using shared / weak pointers\n",
    "* Create shared_ptrs with the `std::make_shared` function\n",
    "* Assign to another shared_ptr or pass to function to add to shared ownership\n",
    "* Use `std::move` when assigning or passing to function to transfer ownership without increasing reference count\n",
    "* Similar same rules for function parameters as `unique_ptr`:\n",
    "  * `std::shared_ptr<Data>` if we want the function to add to the ownership of the data\n",
    "  * `std::shared_ptr<Data>&` if we want to make changes with the ownership of the provided shared_ptr\n",
    "  * `Data&` / `Data*` / `Data` if we want access to the underlying data (or a copy) without adding to ownership\n",
    "\n",
    "\n",
    "* Use `std::weak_ptr` for temporary, non-owning reference, or to break reference cycles\n",
    "* Promote weak_ptr to shared_ptr with `lock()` in order to safely use dynamic data\n",
    "* Check if the dynamic object still exists with `expired()`, or by inspecting the contents of the `std::shared_ptr` created when calling `lock()`"
   ]
  },
  {
   "cell_type": "markdown",
   "id": "sufficient-accessory",
   "metadata": {},
   "source": [
    "### Optional: Smart pointer creation, `new` vs `make_*`\n",
    "In the examples above I often used the `std::make_unique` function to create unique_ptrs. If I wanted to, there is no reason why I can't create a unique_ptr with [its standard constructor](https://en.cppreference.com/w/cpp/memory/unique_ptr/unique_ptr), passing it a pointer to the dynamic data that I create manually with the usual `new` keyword."
   ]
  },
  {
   "cell_type": "code",
   "execution_count": null,
   "id": "empty-maryland",
   "metadata": {},
   "outputs": [],
   "source": [
    "#include <memory>\n",
    "#include <string>\n",
    "\n",
    "std::unique_ptr<std::string> dynamicStringManager(new std::string(\"Hello, World!\"));\n",
    "\n",
    "*dynamicStringManager"
   ]
  },
  {
   "cell_type": "markdown",
   "id": "decreased-raise",
   "metadata": {},
   "source": [
    "However, in C++14 the functions `make_unique` and `make_shared` were introduced as it was realised that there was a subtle bug that may result in a memory leak. In short, if a smart pointer was created as a temporary object (e.g. such as in a function call) and then an exception occurs before the temporary object is used and resolved, there is a chance that the dynamic data would be successfully created but the creation of the owning smart pointer would fail. With no smart pointer to clean it up, the dynamic data would leak."
   ]
  },
  {
   "cell_type": "code",
   "execution_count": null,
   "id": "expensive-satin",
   "metadata": {},
   "outputs": [],
   "source": [
    "func1(std::unique_ptr<A>(new A(\"Hello\", 50)), func2())"
   ]
  },
  {
   "cell_type": "markdown",
   "id": "frank-julian",
   "metadata": {},
   "source": [
    "Consider the (contrived) example above, with a function \"func1\" that requires a smart pointer and the results of a second function \"func2\". In the C++ standard, the execution order of the statement is not strongly defined. It is very possible for the dynamic object `new A()` to be created first, and then for `func2` to execute and cause an exception. The temporary unique_ptr never gets created, and there is nothing responsible for deleting our dynamic object.\n",
    "\n",
    "In the alternative syntax below, the `make_unique()` call is atomic. The unique_ptr may already have been created when func2 throws an exception, but it is firmly an existing _temporary object_ by then. When the exception occurs the stack will be unwound and the smart pointer's destructor will be called, cleaning up the data. "
   ]
  },
  {
   "cell_type": "code",
   "execution_count": null,
   "id": "variable-pitch",
   "metadata": {},
   "outputs": [],
   "source": [
    "func1(std::make_unique<A>(\"Hello\", 50), func2())"
   ]
  },
  {
   "cell_type": "markdown",
   "id": "ambient-module",
   "metadata": {},
   "source": [
    "But then when C++17 was released, the standard was changed to include additional guarantees, including that all side-effects of a function argument must be evaluated before moving on to the next argument. This rule fixes the above example and obviates the safety-based argument for using make_unique. However, if you cannot guarantee that your code will only be compiled with C++17, it may be good to make a habit of using make_unique (and make_shared) to avoid being caught out.\n",
    "\n",
    "In addition to the safety argument, there are two other arguments commonly made for using the `make_*()` creation functions:\n",
    "* You only need to write the underlying type name once, improving readability when the type name is especially long\n",
    "* You can arguably avoid the need to write `new` completely, making the new/delete semantics effectively obsolete."
   ]
  },
  {
   "cell_type": "code",
   "execution_count": null,
   "id": "rapid-exception",
   "metadata": {},
   "outputs": [],
   "source": []
  }
 ],
 "metadata": {
  "kernelspec": {
   "display_name": "C++17",
   "language": "C++17",
   "name": "xcpp17"
  },
  "language_info": {
   "codemirror_mode": "text/x-c++src",
   "file_extension": ".cpp",
   "mimetype": "text/x-c++src",
   "name": "c++",
   "version": "17"
  }
 },
 "nbformat": 4,
 "nbformat_minor": 5
}
