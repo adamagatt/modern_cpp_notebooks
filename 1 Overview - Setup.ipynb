{
 "cells": [
  {
   "cell_type": "markdown",
   "id": "colored-commission",
   "metadata": {},
   "source": [
    "# 1 Overview / Setup\n",
    "##### **Author: Adam Gatt**"
   ]
  },
  {
   "cell_type": "markdown",
   "id": "expanded-springfield",
   "metadata": {},
   "source": [
    "## About this course\n",
    "* As software developers, professional development involves learning new language developments and being exposed to different ideas.\n",
    "* We also all benefit from being a development community that shares knowledge between practitioners. Not only would I like to share what I know, but I would like to learn what you know that I don't. Feel free to pipe up with suggestions, improvements and tips at any time. \n",
    "* Assumed knowledge is just the basics about C++. Basic syntax, header/source files, Object Orientation, memory management.\n",
    "* Not everything here will strictly be from C++11 onwards. Some will be good ideas and approaches that were discovered by the community and put into practice with C++98/03.\n",
    "* My aim is to use examples to demonstrate the usefulness of these concepts and show rather than just tell."
   ]
  },
  {
   "cell_type": "markdown",
   "id": "comparative-display",
   "metadata": {},
   "source": [
    "## Jupyter Notebooks\n",
    "Jupyter Notebooks is a very useful tool for data science work and for learning materials. You can present text and code snippets together in a structured way, and then you can run the code snippets and show the results in the notebook. These results can persist between sessions. Notebooks can be distributed as a single file with a description of your work and actual code with results, and that code can be run again to verify its output. People can make copies of the notebook and see what happens when they play around and make changes with the code.\n",
    "* Jupyter notebooks traditionally run Python code but a wide range of kernels are available. These notebooks will run a kernel based on Cling, an interpreter for C++ based on Clang.\n",
    "* The traditional way to use them is to start a Notebooks server or have access to one already set up. Free online services for hosting a Notebooks server include [Binder](https://mybinder.org/) and [Google Colaboratory](https://colab.research.google.com/) . You can also run a notebook server locally on your own computer, or out of a Docker image.\n",
    "* These sessions will be published as a series of notebook files. You are very welcome to save a copy for your own learning. You can then practice with the notebook during these sessions or afterwards in your own time.\n",
    "* The Cling kernel will execute the contents of the cells rather than the traditional header/source file split. The examples in these notebooks will thus have a focus on providing complete definitions where possible. This is an artefact of this notebook approach rather than anything to do with Modern C++."
   ]
  },
  {
   "cell_type": "code",
   "execution_count": 1,
   "id": "banned-blowing",
   "metadata": {},
   "outputs": [
    {
     "data": {
      "text/plain": [
       "@0x7c2eebcd6030"
      ]
     },
     "execution_count": 1,
     "metadata": {},
     "output_type": "execute_result"
    }
   ],
   "source": [
    "#include <iostream>\n",
    "#include <string>\n",
    "\n",
    "class Greeter {\n",
    "    private:\n",
    "    std::string greeting;\n",
    "    \n",
    "    public:\n",
    "    Greeter(std::string greeting)\n",
    "     : greeting(greeting) { }\n",
    "    \n",
    "    void greet(std::string name) {\n",
    "        std::cout << greeting << \" \" << name << \"!\" << std::endl;\n",
    "    }\n",
    "};\n",
    "\n",
    "Greeter myGreeter{\"Bonjour\"};\n",
    "myGreeter"
   ]
  },
  {
   "cell_type": "markdown",
   "id": "exposed-methodology",
   "metadata": {},
   "source": [
    "If you end the cell with an expression without a semicolon then the interpreter will provide it as output. Variables will persist between cells."
   ]
  },
  {
   "cell_type": "code",
   "execution_count": 2,
   "id": "following-inquiry",
   "metadata": {},
   "outputs": [
    {
     "name": "stdout",
     "output_type": "stream",
     "text": [
      "Bonjour Adam!\n"
     ]
    }
   ],
   "source": [
    "myGreeter.greet(\"Adam\");"
   ]
  },
  {
   "cell_type": "markdown",
   "id": "spanish-hawaiian",
   "metadata": {},
   "source": [
    "Some outputs, like instances, aren't too useful to look at. Others, like simple containers or the results of calculations, are useful to output at the end of cells. This can support an investigative, MATLAB-like workflow where you process some data, view the results, make a decision and then do some more processing. The culmination of this approach is the data scientist who intersperses their notes with performed calculations, creating a notebook that acts as a sort of lab journal."
   ]
  },
  {
   "cell_type": "code",
   "execution_count": 3,
   "id": "preceding-alexandria",
   "metadata": {},
   "outputs": [
    {
     "data": {
      "text/plain": [
       "{ \"John\", \"Saxon\", \"Matthew\", \"Kirenpal\" }"
      ]
     },
     "execution_count": 3,
     "metadata": {},
     "output_type": "execute_result"
    }
   ],
   "source": [
    "#include <vector>\n",
    "#include <string>\n",
    "#include <algorithm>\n",
    "\n",
    "std::vector<std::string> attendees{\"Saxon\", \"Kirenpal\", \"Matthew\", \"John\"};\n",
    "std::sort(attendees.begin(), attendees.end(), [](auto a, auto b){return a.length() < b.length();});\n",
    "\n",
    "attendees"
   ]
  },
  {
   "cell_type": "markdown",
   "id": "roman-quantum",
   "metadata": {},
   "source": [
    "## What is \"Modern\" C++?\n",
    "C++ underwent a long hiatus between standards releases, 13 years between 1998 (or 03) and 2011. During this time other languages were springing up and exploring exciting new language developments. What was anticipated as C++0x during this time was finally released as C++11 and did much to catch up with these. Although now over a decade ago, this is what is referred to as the first release of \"Modern C++\", with further incremental releases in '14, '17, '20 and planned for every three years. These new developments involve:\n",
    "\n",
    "* Revised language features to enforce correctness at compile time and eliminate known sources of bugs before they have a chance to occur.\n",
    "* Support for higher-level abstractions that are easier to reason about but efficiently optimise at compile time to come at little/no cost to performance (the ideal of Zero-Cost Abstractions).\n",
    "* Standard libraries for previously-unsupported functionality that would normally require 3rd-party libraries.\n",
    "* Efficiencies in syntax that cut out a lot of boilerplate from previous solutions.\n",
    "\n",
    "Some of these new features are easy wins you can simply drop in to your code for immediate benefit. Some present alternative, cleaner syntax for doing existing operations, improving readability. Some present trade-offs that you can decide for yourself whether they are worth using or not, but are worth knowing about at least. Some promise powerful benefits but will require changes in coding style that may look very unfamiliar and even suspicious from what you know about C++. Modern C++ moves even further away from pre-98 \"C with Classes\" and settles further into its own style that remains unique even compared to other modern languages."
   ]
  },
  {
   "cell_type": "markdown",
   "id": "digital-board",
   "metadata": {},
   "source": [
    "## General useful resources\n",
    "Other languages such as Python and Rust began from the start with an understanding of a community and ecosystem, not only taking a \"batteries included\" approach to language design, but quickly developing package managers, unit testing frameworks, build systems, communities, conferences, podcasts, etc. With the momentum of Modern, C++ has had a kick up the pants and is making up the gap with a wealth of resources. Here are some of the resources I make use of or know about:\n",
    "- [Compiler Explorer](https://godbolt.org/) for examining dissasembly\n",
    "- [Clang-tidy](https://clang.llvm.org/extra/clang-tidy/) powerful linter\n",
    "- [CMake](https://cmake.org/) build system\n",
    "- [C++ subreddit](https://www.reddit.com/r/cpp) for learning about new developments\n",
    "- [CppCast](https://cppcast.com/) and [cpp.chat](https://cpp.chat/) podcasts\n",
    "- [CppCon](https://cppcon.org/) (Oct 24-29) and [C++ On Sea](https://cpponsea.uk/) conferences (with previous talks up on their YouTube channels)\n",
    "- [TheCherno C++ playlist](https://www.youtube.com/watch?v=18c3MTX0PK0&list=PLlrATfBNZ98dudnM48yfGUldqGD0S4FFb) on YouTube is a good and comprehensive tutorial series (nearly 100 videos on individual topics)"
   ]
  },
  {
   "cell_type": "code",
   "execution_count": null,
   "id": "fifty-factory",
   "metadata": {},
   "outputs": [],
   "source": []
  }
 ],
 "metadata": {
  "kernelspec": {
   "display_name": "C++17",
   "language": "C++17",
   "name": "xcpp17"
  },
  "language_info": {
   "codemirror_mode": "text/x-c++src",
   "file_extension": ".cpp",
   "mimetype": "text/x-c++src",
   "name": "c++",
   "version": "17"
  }
 },
 "nbformat": 4,
 "nbformat_minor": 5
}
