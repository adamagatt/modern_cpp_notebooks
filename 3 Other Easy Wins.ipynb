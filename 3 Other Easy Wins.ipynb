{
 "cells": [
  {
   "cell_type": "markdown",
   "id": "medical-product",
   "metadata": {},
   "source": [
    "# 3 - Other Easy Wins\n",
    "##### **Author: Adam Gatt**"
   ]
  },
  {
   "cell_type": "markdown",
   "id": "fiscal-romantic",
   "metadata": {},
   "source": [
    "## explicit (pre 11)"
   ]
  },
  {
   "cell_type": "markdown",
   "id": "comic-title",
   "metadata": {},
   "source": [
    "Here we have a class representing a scaling factor that you can multiply other numbers with."
   ]
  },
  {
   "cell_type": "code",
   "execution_count": 1,
   "id": "identified-distributor",
   "metadata": {},
   "outputs": [],
   "source": [
    "class Factor {\n",
    "    public:\n",
    "    Factor(double value)\n",
    "        : value(value) { }\n",
    "    \n",
    "    double apply(double input) const {\n",
    "        return input * value;\n",
    "    }\n",
    "    \n",
    "    private:\n",
    "    double value;\n",
    "};"
   ]
  },
  {
   "cell_type": "code",
   "execution_count": 2,
   "id": "extensive-hearts",
   "metadata": {},
   "outputs": [],
   "source": [
    "double scale(double input, const Factor& factor) {\n",
    "    return factor.apply(input);\n",
    "};"
   ]
  },
  {
   "cell_type": "code",
   "execution_count": 3,
   "id": "careful-excess",
   "metadata": {
    "scrolled": true
   },
   "outputs": [
    {
     "data": {
      "text/plain": [
       "2.5000000"
      ]
     },
     "execution_count": 3,
     "metadata": {},
     "output_type": "execute_result"
    }
   ],
   "source": [
    "scale(5, 0.5)"
   ]
  },
  {
   "cell_type": "markdown",
   "id": "medical-lighting",
   "metadata": {},
   "source": [
    "How come the call to `scale()` succeeded even though the second parameter was a double instead of a Factor? It's because of the rules C++ uses when parsing a function call. If the compiler can't find a function declaration that matches the called signature, then it will attempt a process called _implicit conversion_. This involves looking around for any other functions that it can use to convert the arguments to types that will allow the original function call to succeed. It is similar to the promotion of primitives, so that you can pass an int to a function that expects a double, except broadened to apply to other types as well. The compiler will search for any user-defined conversion functions and constructors that it can use to perform the conversion process. \n",
    "\n",
    "So here:\n",
    "1. The call to `scale(int, double)` is initially unsuccessful as that signature has not been declared.\n",
    "2. The compiler notices the declaration `scale(int, const Factor&)` and determines if it can convert the arguments to match it.\n",
    "3. The compiler notices that `Factor(double value)` is available for creating a Factor out of a double.\n",
    "4. The compiler inserts the implicit conversion, effectively turning the function call into `scale(5, Factor(0.5))`, and creating a temporary Factor object to submit to the scale function.\n",
    "\n",
    "C++ performs implicit conversion not only when calling functions, [but in a range of scenarios](https://en.cppreference.com/w/cpp/language/implicit_conversion) where one type is provided where another is needed.\n",
    "\n",
    "Initially this might seem like a benefit, for getting code to work that otherwise wouldn't. But remember that this all happens implicitly behind the scenes, without evidence in the source code itself. As a general rule, you want your application logic to be explicitly laid out to make the code more readable and verifiable.\n",
    "\n",
    "What are the costs or risks of implicit conversion? They might include:\n",
    " * Function arguments being open to a far greater range of types than intended\n",
    " * An API that is open to guesswork rather than understanding proper usage\n",
    " * Creation of unintended temporary objects\n",
    " * Creation of objects at all that shouldn't be allowed (e.g. if the class is intended Singleton)\n",
    " * Reducing clarity of the intent of the codebase\n",
    " \n",
    "How do we crack down on implicit conversion, assuming we intend to? Remember that the implicit conversion comes about due to three factors:\n",
    "1. A function call with a signature that hasn't been declared\n",
    "2. A candidate signature that could be matched with some conversion\n",
    "3. A conversion function or constructor that can perform the conversion\n",
    "\n",
    "Here the `explicit` keyword is provided to solve our problem by addressing factor 3. A conversion function or constructor that is marked explicit will only be used by the compiler if explicitly called in the codebase. It will not be considered during the implicit conversion process as a way of performing a needed conversion."
   ]
  },
  {
   "cell_type": "code",
   "execution_count": 4,
   "id": "handy-earthquake",
   "metadata": {},
   "outputs": [],
   "source": [
    "class Factor2 {\n",
    "    public:\n",
    "    // Now explicit, no type conversion for arguments\n",
    "    explicit Factor2(int value)\n",
    "        : value(value) { }\n",
    "    \n",
    "    int apply(int input) const {\n",
    "        return input * value;\n",
    "    }\n",
    "    \n",
    "    private:\n",
    "    int value;\n",
    "}"
   ]
  },
  {
   "cell_type": "code",
   "execution_count": 5,
   "id": "empirical-arctic",
   "metadata": {},
   "outputs": [],
   "source": [
    "double scale2(double input, const Factor2& factor) {\n",
    "    return factor.apply(input);\n",
    "};"
   ]
  },
  {
   "cell_type": "code",
   "execution_count": 6,
   "id": "pediatric-sister",
   "metadata": {},
   "outputs": [
    {
     "name": "stderr",
     "output_type": "stream",
     "text": [
      "\u001b[1minput_line_15:2:2: \u001b[0m\u001b[0;1;31merror: \u001b[0m\u001b[1mno matching function for call to 'scale2'\u001b[0m\n",
      " scale2(5, 0.5)\n",
      "\u001b[0;1;32m ^~~~~~\n",
      "\u001b[0m\u001b[1minput_line_14:1:8: \u001b[0m\u001b[0;1;30mnote: \u001b[0mcandidate function not viable: no known conversion from 'double' to 'const __cling_N56::Factor2' for 2nd argument\u001b[0m\n",
      "double scale2(double input, const Factor2& factor) {\n",
      "\u001b[0;1;32m       ^\n",
      "\u001b[0m"
     ]
    },
    {
     "ename": "Interpreter Error",
     "evalue": "",
     "output_type": "error",
     "traceback": [
      "Interpreter Error: "
     ]
    }
   ],
   "source": [
    "scale2(5, 0.5)"
   ]
  },
  {
   "cell_type": "markdown",
   "id": "brave-gibraltar",
   "metadata": {},
   "source": [
    "Here is another use for `explicit`. In the previous notebook we had `Line myLine = NULL` (missing the `*`) and the code not only compiled, but called the constructor `Line (int thickness)`. What happened here?\n",
    "\n",
    "The issue is that the Line class, like our original Factor class, has a constructor that the compiler considers to be a [converting constructor](https://en.cppreference.com/w/cpp/language/converting_constructor). Pre C++11 this was any constructor that accepts only a single parameter. For '11 and later, any constructor is treated as a converting constructor (due to the introduction of initializer lists).\n",
    "\n",
    "The example below demonstrates this. The important point to know here is that despite the `=` character, the operation below is not an assignment. Instead it follows the _copy initialisation_ process, which will end up calling the constructor. _(The next section will touch briefly on copy initialisation vs direct initialisation)._"
   ]
  },
  {
   "cell_type": "code",
   "execution_count": 7,
   "id": "collectible-player",
   "metadata": {},
   "outputs": [
    {
     "data": {
      "text/plain": [
       "5.0000000"
      ]
     },
     "execution_count": 7,
     "metadata": {},
     "output_type": "execute_result"
    }
   ],
   "source": [
    "Factor myFactor = 0.5; // Compiles to \"Factor myFactor(0.5)\"\n",
    "myFactor.apply(10)"
   ]
  },
  {
   "cell_type": "markdown",
   "id": "bizarre-tutorial",
   "metadata": {},
   "source": [
    "Declaring a constructor `explicit` will prevent it from being a converting constructor, and the statement returns to attempting to assign a double to our user-defined type."
   ]
  },
  {
   "cell_type": "code",
   "execution_count": 8,
   "id": "legendary-iceland",
   "metadata": {},
   "outputs": [
    {
     "name": "stderr",
     "output_type": "stream",
     "text": [
      "\u001b[1minput_line_18:2:10: \u001b[0m\u001b[0;1;31merror: \u001b[0m\u001b[1mno viable conversion from 'double' to '__cling_N56::Factor2'\u001b[0m\n",
      " Factor2 myFactor2 = 0.5;\n",
      "\u001b[0;1;32m         ^           ~~~\n",
      "\u001b[0m\u001b[1minput_line_13:1:7: \u001b[0m\u001b[0;1;30mnote: \u001b[0mcandidate constructor (the implicit copy constructor) not viable: no known conversion from 'double' to 'const __cling_N56::Factor2 &' for 1st argument\u001b[0m\n",
      "class Factor2 {\n",
      "\u001b[0;1;32m      ^\n",
      "\u001b[0m\u001b[1minput_line_13:1:7: \u001b[0m\u001b[0;1;30mnote: \u001b[0mcandidate constructor (the implicit move constructor) not viable: no known conversion from 'double' to '__cling_N56::Factor2 &&' for 1st argument\u001b[0m\n"
     ]
    },
    {
     "ename": "Interpreter Error",
     "evalue": "",
     "output_type": "error",
     "traceback": [
      "Interpreter Error: "
     ]
    }
   ],
   "source": [
    "Factor2 myFactor2 = 0.5;\n",
    "myFactor2.apply(100)"
   ]
  },
  {
   "cell_type": "markdown",
   "id": "wrapped-atlanta",
   "metadata": {},
   "source": [
    "For extra reading, here is a 2006 (pre-11) article on this topic on [The Old New Thing](https://devblogs.microsoft.com/oldnewthing/20060524-12/?p=31083)."
   ]
  },
  {
   "cell_type": "markdown",
   "id": "1f091af6-ac0c-402e-92f1-9f7cf0a18868",
   "metadata": {},
   "source": [
    "## Scoped enumerations"
   ]
  },
  {
   "cell_type": "markdown",
   "id": "f7d2f853-7f1e-4c30-a177-08112a93d689",
   "metadata": {},
   "source": [
    "C++11 introduced \"scoped\" enumerations, an alternative enum syntax that can be simply achieved by adding just the one keyword \"class\" in the definition. Scoped enums are called so because their enum values (the \"enumerants\") are scoped to the enum itself rather than the class/namespace outside of it."
   ]
  },
  {
   "cell_type": "code",
   "execution_count": 3,
   "id": "2d181429-2a06-4ef0-b09c-ea3da6c3ee66",
   "metadata": {},
   "outputs": [],
   "source": [
    "// Traditional enum declaration\n",
    "enum Colour{\n",
    "    RED,\n",
    "    BLUE,\n",
    "    GREEN\n",
    "};\n",
    "\n",
    "// New-style \"scoped\" enum declaration\n",
    "enum class Flavour {\n",
    "    VANILLA,\n",
    "    CHOCOLATE,\n",
    "    STRAWBERRY\n",
    "};"
   ]
  },
  {
   "cell_type": "markdown",
   "id": "8ab7dde1-f84d-4f08-97e2-14f31d04e827",
   "metadata": {},
   "source": [
    "Essentially this is a re-implementation of the enum concept with stricter rules to prevent potential errors. The new syntax is needed as previous-style enums must be left unchanged for compatibility purposes.\n",
    "### Benefit: stronger type safety\n",
    "Traditional \"unscoped\" enums map their values to some compiler-defined integral type indexed from 0, so the `GREEN` above will essentially be represented by the value 2. Traditional enums enforce no type checks when treated as (or implicitly converted to) an int. Type safety will be enforced in the other direction, however, so that the compiler won't implicitly cast an int to an enum value."
   ]
  },
  {
   "cell_type": "code",
   "execution_count": 4,
   "id": "da4a6991-a3c2-431e-a0f6-ec1ca1df458d",
   "metadata": {},
   "outputs": [],
   "source": [
    "double calculateGST(double price) {\n",
    "    return price * 1.1;\n",
    "};"
   ]
  },
  {
   "cell_type": "code",
   "execution_count": 5,
   "id": "2991e078-c8e5-4f8f-ac0d-9592f200c11f",
   "metadata": {
    "scrolled": true
   },
   "outputs": [
    {
     "data": {
      "text/plain": [
       "2.2000000"
      ]
     },
     "execution_count": 5,
     "metadata": {},
     "output_type": "execute_result"
    }
   ],
   "source": [
    "// Not even an compiler warning\n",
    "calculateGST(Colour::GREEN)"
   ]
  },
  {
   "cell_type": "markdown",
   "id": "ea3e17ae-6f58-485f-82b2-7412f271fc28",
   "metadata": {},
   "source": [
    "In comparison, scoped enums are explicitly their own type and so this bug will be rejected by the compiler before it has a chance to occur."
   ]
  },
  {
   "cell_type": "code",
   "execution_count": 6,
   "id": "5dc6e25d-9b7d-42ad-bf29-1b00df353b17",
   "metadata": {},
   "outputs": [
    {
     "name": "stderr",
     "output_type": "stream",
     "text": [
      "\u001b[1minput_line_17:2:2: \u001b[0m\u001b[0;1;31merror: \u001b[0m\u001b[1mno matching function for call to 'calculateGST'\u001b[0m\n",
      " calculateGST(Flavour::STRAWBERRY)\n",
      "\u001b[0;1;32m ^~~~~~~~~~~~\n",
      "\u001b[0m\u001b[1minput_line_14:1:8: \u001b[0m\u001b[0;1;30mnote: \u001b[0mcandidate function not viable: no known conversion from 'Flavour' to 'double' for 1st argument\u001b[0m\n",
      "double calculateGST(double price) {\n",
      "\u001b[0;1;32m       ^\n",
      "\u001b[0m"
     ]
    },
    {
     "ename": "Interpreter Error",
     "evalue": "",
     "output_type": "error",
     "traceback": [
      "Interpreter Error: "
     ]
    }
   ],
   "source": [
    "calculateGST(Flavour::STRAWBERRY)"
   ]
  },
  {
   "cell_type": "markdown",
   "id": "eb315ff7-b631-41b5-ae91-45409675e6a4",
   "metadata": {},
   "source": [
    "### Benefit: explicit choice of underlying data type \n",
    "\n",
    "If we want the enum to have an underlying type then we can specify it (as long as it is an integral type). We can then proceed to assign values to each individual enumerant as per usual."
   ]
  },
  {
   "cell_type": "code",
   "execution_count": 7,
   "id": "c4443afe-2b4d-45bf-ad68-e80ece885a9c",
   "metadata": {
    "scrolled": true
   },
   "outputs": [],
   "source": [
    "enum class ChessPiece : short {\n",
    "    PAWN = 1,\n",
    "    KNIGHT = 3,\n",
    "    ROOK = 5\n",
    "};"
   ]
  },
  {
   "cell_type": "code",
   "execution_count": 8,
   "id": "9b3a4a80-bce4-40ee-847f-1358b53cec19",
   "metadata": {},
   "outputs": [
    {
     "data": {
      "text/plain": [
       "11"
      ]
     },
     "execution_count": 8,
     "metadata": {},
     "output_type": "execute_result"
    }
   ],
   "source": [
    "short withCapture(short boardValue, ChessPiece piece) {\n",
    "    return boardValue + static_cast<int>(piece);\n",
    "}\n",
    "\n",
    "withCapture(6, ChessPiece::ROOK)"
   ]
  },
  {
   "cell_type": "markdown",
   "id": "6682dea7-6abe-428d-9d21-1990b5b36faa",
   "metadata": {},
   "source": [
    "### Benefit: tighter scope"
   ]
  },
  {
   "cell_type": "markdown",
   "id": "1cac1ec8-525b-43e9-887c-1f0c997aeb92",
   "metadata": {},
   "source": [
    "Traditional enums are scoped to the environment surrounding the enum, so that `WRITE` below leaks its scope to `ConfigFile` and can be referenced with `ConfigFile::WRITE`. This allows the possibility of conflicts between different enums, like with the ambiguous `ConfigFile::READ`."
   ]
  },
  {
   "cell_type": "code",
   "execution_count": 9,
   "id": "f5974e43-c006-4edf-9799-95daa64a6b28",
   "metadata": {},
   "outputs": [
    {
     "name": "stderr",
     "output_type": "stream",
     "text": [
      "\u001b[1minput_line_21:4:31: \u001b[0m\u001b[0;1;31merror: \u001b[0m\u001b[1mredefinition of enumerator 'READ'\u001b[0m\n",
      "    enum State{FOUND, OPENED, READ, FINALISED};\n",
      "\u001b[0;1;32m                              ^\n",
      "\u001b[0m\u001b[1minput_line_21:3:20: \u001b[0m\u001b[0;1;30mnote: \u001b[0mprevious definition is here\u001b[0m\n",
      "    enum Operation{READ, WRITE};\n",
      "\u001b[0;1;32m                   ^\n",
      "\u001b[0m"
     ]
    },
    {
     "ename": "Interpreter Error",
     "evalue": "",
     "output_type": "error",
     "traceback": [
      "Interpreter Error: "
     ]
    }
   ],
   "source": [
    "class ConfigFile {\n",
    "    public:\n",
    "    enum Operation{READ, WRITE};\n",
    "    enum State{FOUND, OPENED, READ, FINALISED};\n",
    "}"
   ]
  },
  {
   "cell_type": "markdown",
   "id": "ca78d908-08b4-4d66-86d0-623b0e08330c",
   "metadata": {},
   "source": [
    "Scoped enums do not leak their scope to the surrounding context. Here the two `READ` enums are `Operation::READ` and `State::READ` and cannot be confused. You can still use the class/namespace name to reference the enum value externally.  "
   ]
  },
  {
   "cell_type": "code",
   "execution_count": 10,
   "id": "3c32fe5d-fd81-430d-b235-17712ada1f0f",
   "metadata": {},
   "outputs": [
    {
     "data": {
      "text/plain": [
       "false"
      ]
     },
     "execution_count": 10,
     "metadata": {},
     "output_type": "execute_result"
    }
   ],
   "source": [
    "class ConfigFile {\n",
    "    public:\n",
    "    enum class Operation{READ, WRITE};\n",
    "    enum class State{FOUND, OPENED, READ, FINALISED};\n",
    "};\n",
    "\n",
    "ConfigFile::State::FOUND == ConfigFile::State::READ"
   ]
  },
  {
   "cell_type": "code",
   "execution_count": 11,
   "id": "eb631df0-2963-48b8-b00f-aa996861217b",
   "metadata": {
    "scrolled": true
   },
   "outputs": [
    {
     "name": "stderr",
     "output_type": "stream",
     "text": [
      "\u001b[1minput_line_24:3:29: \u001b[0m\u001b[0;1;35mwarning: \u001b[0m\u001b[1mcomparison of two values with different enumeration types ('__cling_N514::ConfigFile::Operation' and '__cling_N514::ConfigFile::State') [-Wenum-compare]\u001b[0m\n",
      "ConfigFile::Operation::READ == ConfigFile::State::READ\n",
      "\u001b[0;1;32m~~~~~~~~~~~~~~~~~~~~~~~~~~~ ^  ~~~~~~~~~~~~~~~~~~~~~~~\n",
      "\u001b[0m\u001b[1minput_line_24:3:29: \u001b[0m\u001b[0;1;31merror: \u001b[0m\u001b[1minvalid operands to binary expression ('__cling_N514::ConfigFile::Operation' and '__cling_N514::ConfigFile::State')\u001b[0m\n",
      "ConfigFile::Operation::READ == ConfigFile::State::READ\n",
      "\u001b[0;1;32m~~~~~~~~~~~~~~~~~~~~~~~~~~~ ^  ~~~~~~~~~~~~~~~~~~~~~~~\n",
      "\u001b[0m"
     ]
    },
    {
     "ename": "Interpreter Error",
     "evalue": "",
     "output_type": "error",
     "traceback": [
      "Interpreter Error: "
     ]
    }
   ],
   "source": [
    "// Same enum value name but strictly different values belonging to different enums.\n",
    "ConfigFile::Operation::READ == ConfigFile::State::READ"
   ]
  },
  {
   "cell_type": "markdown",
   "id": "09d54442-74e7-4a67-8776-92daa1d04fb5",
   "metadata": {},
   "source": [
    "An additional benefit comes from forcing external references to specify the full \"path\" to any enum value, and so the enum name itself is always there to provide context for the value. This is not the case for unscoped enums unless each enum value is named in a way that the context is unmistakeable. "
   ]
  },
  {
   "cell_type": "code",
   "execution_count": 12,
   "id": "950770da-f498-40bb-bcc7-788ba9152238",
   "metadata": {},
   "outputs": [],
   "source": [
    "class Cat {\n",
    "    public:\n",
    "    enum EyeColour{GREEN, GREY, BLUE, BROWN};\n",
    "};\n",
    "\n",
    "// What did BROWN belong to? Is it the cat's fur colour, eye colour or something else?\n",
    "int x = Cat::BROWN;"
   ]
  },
  {
   "cell_type": "markdown",
   "id": "8b2a387d-8641-4368-86c7-efa5797b2a58",
   "metadata": {
    "tags": [],
    "toc-hr-collapsed": true
   },
   "source": [
    "## Specifying cast expressions (pre-11)\n",
    "C++ brings a dedicated syntax for casting variables between types via the operators:\n",
    "* `static_cast<new_type>(variable)` for compile-time conversions (where a conversion function is available)\n",
    "* `dynamic<new_type>(variable)` for runtime conversions where the type of the object is not necessarily known\n",
    "  * _often used for class inheritance hierarchies, returns null if no conversion is possible_\n",
    "* `const_cast<new_type>(variable)` for modifying the const-ness of the variable\n",
    "* `reinterpret_cast<new_type>(variable)` for simply treating the underlying bit representation as a different type\n",
    "\n",
    "But due to its backwards-compatibility with C, the language allows you to attempt legacy C-style casting:\n",
    "* `(new_type)variable`, or commonly `(new_type*)variable_ptr` for inheritance hierarchies\n",
    "\n",
    "Many who have started with C and moved into C++ continue to use C-style casting and perhaps might not know about the C++ cast expressions, but the behaviour of this is actually a little complicated behind the scenes.\n",
    "\n",
    "[As described in cppreference.com](https://en.cppreference.com/w/cpp/language/explicit_cast), \"when the C-style cast expression is encountered, the compiler attempts to interpret it as the following cast expressions, in this order\":\n",
    "1. const_cast<new_type>(expression);\n",
    "2. static_cast<new_type>(expression), with extensions: pointer or reference to a derived class is additionally allowed to be cast to pointer or reference to unambiguous base class (and vice versa) even if the base class is inaccessible (that is, this cast ignores the private inheritance specifier). Same applies to casting pointer to member to pointer to member of unambiguous non-virtual base;\n",
    "3. static_cast (with extensions) followed by const_cast;\n",
    "4. reinterpret_cast<new_type>(expression);\n",
    "5. reinterpret_cast followed by const_cast.\n",
    "\n",
    "Chances are this isn't what we want. Rather than deciding consciously to work through a list of attempts, we probably have a particular type of cast that we are intending to do. So for improved readability and clarity of our intent we should simply specify that particular cast expression. With the various potential behaviours that the C-style cast can end up becoming, the consistent use of this cast throughout our codebase results in potentially many similarly-appearing expressions that perform different behaviour under the hood."
   ]
  }
 ],
 "metadata": {
  "kernelspec": {
   "display_name": "C++17",
   "language": "C++17",
   "name": "xcpp17"
  },
  "language_info": {
   "codemirror_mode": "text/x-c++src",
   "file_extension": ".cpp",
   "mimetype": "text/x-c++src",
   "name": "c++",
   "version": "17"
  }
 },
 "nbformat": 4,
 "nbformat_minor": 5
}
