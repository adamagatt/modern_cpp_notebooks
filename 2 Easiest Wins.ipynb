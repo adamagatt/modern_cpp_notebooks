{
 "cells": [
  {
   "cell_type": "markdown",
   "id": "isolated-conservative",
   "metadata": {},
   "source": [
    "# 2 - Easiest Wins\n",
    "##### **Author: Adam Gatt**\n",
    "\n",
    "Later notebooks will cover more advance topics but the next two will aim to show off simple new language features that you should be able to immediately benefit from with little/no trade-off. Many revolve around enforcing correctness, to help remove some classes of bugs before they have a chance to happen. Additionally, they are largely compile-time features that leave no changes on the compiled code, resulting in no run-time cost. Notebook 4 will then cover a few topics that also bring coding improvements but may require a little thought to ensure you're doing what you want.\n",
    "\n",
    "The [clang-tidy](https://clang.llvm.org/extra/clang-tidy/) linter will be able to make suggestions about many of these language features, pointing out situation where they can be used. With some care and manual review, you can even run the linter over an entire existing codebase and have the suggestions applied automatically."
   ]
  },
  {
   "cell_type": "markdown",
   "id": "premium-tennessee",
   "metadata": {},
   "source": [
    "## override"
   ]
  },
  {
   "cell_type": "markdown",
   "id": "systematic-performer",
   "metadata": {},
   "source": [
    "How come the duck below fails to realise it can quack?"
   ]
  },
  {
   "cell_type": "code",
   "execution_count": 1,
   "id": "diverse-drink",
   "metadata": {},
   "outputs": [
    {
     "name": "stdout",
     "output_type": "stream",
     "text": [
      "Chirp!\n"
     ]
    }
   ],
   "source": [
    "#include <iostream>\n",
    "\n",
    "class Bird {\n",
    "    public:\n",
    "    virtual void makeNoise() const {\n",
    "        std::cout << \"Chirp!\" << std::endl;\n",
    "    }\n",
    "};\n",
    "\n",
    "class Duck : public Bird {\n",
    "    public:\n",
    "    virtual void makeNoise() {\n",
    "        std:: cout << \"Quack!\" << std::endl;\n",
    "    }\n",
    "};\n",
    "\n",
    "Bird* daffy = new Duck();\n",
    "\n",
    "daffy->makeNoise();"
   ]
  },
  {
   "cell_type": "markdown",
   "id": "wrong-focus",
   "metadata": {},
   "source": [
    "It's because the two `makeNoise()` functions aren't the same! Because one is const and the other isn't, they count as having different signatures. This means the derived class isn't overriding the makeNoise in the base class; the two methods don't occupy the same entry in the vtable. \n",
    "\n",
    "Constness is a subtle way this bug can occur, but it can also be caused by a typo in the method name or differences in parameter types.\n",
    "\n",
    "Because both the base and overridden methods use the same syntax (beginning `virtual` annotation), the compiler doesn't have a clear way to know that `Duck::makeNoise` is meant to be an overridden method instead of starting its own base virtual method. `override` is a new annotation to add to the overriding method and make it clear to the compiler. When a method is marked `override` the compiler will search for a matching base virtual method to ensure it exists, and will throw a compilation error if one cannot be found.\n",
    "\n",
    "As an added benefit it also makes the intention clear to the human reader."
   ]
  },
  {
   "cell_type": "code",
   "execution_count": 2,
   "id": "tribal-impossible",
   "metadata": {},
   "outputs": [
    {
     "name": "stderr",
     "output_type": "stream",
     "text": [
      "\u001b[1minput_line_9:3:18: \u001b[0m\u001b[0;1;31merror: \u001b[0m\u001b[1m'makeNoise' marked 'override' but does not override any member functions\u001b[0m\n",
      "    virtual void makeNoise() override {\n",
      "\u001b[0;1;32m                 ^\n",
      "\u001b[0m"
     ]
    },
    {
     "ename": "Interpreter Error",
     "evalue": "",
     "output_type": "error",
     "traceback": [
      "Interpreter Error: "
     ]
    }
   ],
   "source": [
    "class Turkey : public Bird {\n",
    "    public:\n",
    "    virtual void makeNoise() override {\n",
    "        std:: cout << \"Gobble!\" << std::endl;\n",
    "    }\n",
    "};"
   ]
  },
  {
   "cell_type": "markdown",
   "id": "magnetic-gross",
   "metadata": {},
   "source": [
    "## nullptr"
   ]
  },
  {
   "cell_type": "markdown",
   "id": "subsequent-artwork",
   "metadata": {},
   "source": [
    "`nullptr` is a Modern C++ keywork for the null reference, where in the past you might have used `0` or `NULL` (often #defined to be 0). The advantage of nullptr is that it has its own type (`std::nullptr_t`), whereas the `int` type of NULL can allow for subtle bugs or ambiguities, especially in constructors and overloaded functions. In the best-case scenario the compiler will notice the ambiguity with a warning or error, in the worst-case you may have a subtle logic error."
   ]
  },
  {
   "cell_type": "code",
   "execution_count": 3,
   "id": "available-hybrid",
   "metadata": {},
   "outputs": [],
   "source": [
    "class Colour {    \n",
    "    public:\n",
    "    int rgbCode;\n",
    "    \n",
    "    // Specify the rgb code directly\n",
    "    Colour(int rgbCode) : rgbCode(rgbCode) { }\n",
    "    \n",
    "    // Copy the rgb code from another Colour\n",
    "    Colour(const Colour* cloneSrc) {\n",
    "        if (cloneSrc != NULL) {\n",
    "            rgbCode = cloneSrc->rgbCode;\n",
    "        }\n",
    "    }\n",
    "}"
   ]
  },
  {
   "cell_type": "code",
   "execution_count": 4,
   "id": "cooked-auckland",
   "metadata": {},
   "outputs": [
    {
     "name": "stderr",
     "output_type": "stream",
     "text": [
      "\u001b[1minput_line_11:3:8: \u001b[0m\u001b[0;1;31merror: \u001b[0m\u001b[1mcall to constructor of '__cling_N54::Colour' is ambiguous\u001b[0m\n",
      "Colour col1(NULL);\n",
      "\u001b[0;1;32m       ^    ~~~~\n",
      "\u001b[0m\u001b[1minput_line_10:6:5: \u001b[0m\u001b[0;1;30mnote: \u001b[0mcandidate constructor\u001b[0m\n",
      "    Colour(int rgbCode) : rgbCode(rgbCode) { }\n",
      "\u001b[0;1;32m    ^\n",
      "\u001b[0m\u001b[1minput_line_10:9:5: \u001b[0m\u001b[0;1;30mnote: \u001b[0mcandidate constructor\u001b[0m\n",
      "    Colour(const Colour* cloneSrc) {\n",
      "\u001b[0;1;32m    ^\n",
      "\u001b[0m\u001b[1minput_line_10:1:7: \u001b[0m\u001b[0;1;30mnote: \u001b[0mcandidate is the implicit copy constructor\u001b[0m\n",
      "class Colour {    \n",
      "\u001b[0;1;32m      ^\n",
      "\u001b[0m\u001b[1minput_line_10:1:7: \u001b[0m\u001b[0;1;30mnote: \u001b[0mcandidate is the implicit move constructor\u001b[0m\n"
     ]
    },
    {
     "ename": "Interpreter Error",
     "evalue": "",
     "output_type": "error",
     "traceback": [
      "Interpreter Error: "
     ]
    }
   ],
   "source": [
    "// Which constructor will be called?\n",
    "\n",
    "Colour col1(NULL);"
   ]
  },
  {
   "cell_type": "code",
   "execution_count": 5,
   "id": "normal-personal",
   "metadata": {},
   "outputs": [],
   "source": [
    "Colour col2(nullptr);"
   ]
  },
  {
   "cell_type": "markdown",
   "id": "failing-theta",
   "metadata": {},
   "source": [
    "Notice the constructor executing correctly instead of trying to dereference nullptr. This is because the guard clause `if (cloneSrc != NULL)` still performed its job. The new keyword enjoys strong interoperability with existing legacy code as the rules for comparing nullptr and NULL have been well-defined to produce intuitive results."
   ]
  },
  {
   "cell_type": "code",
   "execution_count": 1,
   "id": "specialized-element",
   "metadata": {},
   "outputs": [
    {
     "name": "stderr",
     "output_type": "stream",
     "text": [
      "13: \u001b[0m\u001b[0;1;35mwarning: \u001b[0m\u001b[1mcomparison between NULL and non-pointer ('nullptr_t' and NULL) [-Wnull-arithmetic]\u001b[0m\n",
      "    nullptr == NULL,\n",
      "\u001b[0;1;32m    ~~~~~~~ ^  ~~~~\n",
      "\u001b[0m\u001b[1minput_line_7:6:13: \u001b[0m\u001b[0;1;35mwarning: \u001b[0m\u001b[1mcomparison between NULL and non-pointer ('nullptr_t' and NULL) [-Wnull-arithmetic]\u001b[0m\n",
      "    nullptr != NULL,\n",
      "\u001b[0;1;32m    ~~~~~~~ ^  ~~~~\n",
      "\u001b[0m\u001b[1minput_line_7:9:5: \u001b[0m\u001b[0;1;35mwarning: \u001b[0m\u001b[1mimplicit conversion of nullptr constant to 'bool' [-Wnull-conversion]\u001b[0m\n",
      "    nullptr ? true : false\n",
      "\u001b[0;1;32m    ^~~~~~~ ~\n",
      "\u001b[0m\u001b[0;32m    false\n",
      "\u001b[0m"
     ]
    },
    {
     "data": {
      "text/plain": [
       "{ true, false, true, false, true, false, false }"
      ]
     },
     "execution_count": 1,
     "metadata": {},
     "output_type": "execute_result"
    }
   ],
   "source": [
    "bool comparisons[] {\n",
    "    nullptr == nullptr,\n",
    "    nullptr != nullptr,\n",
    "    nullptr == NULL,\n",
    "    nullptr != NULL,\n",
    "    nullptr == 0,\n",
    "    nullptr != 0,\n",
    "    nullptr ? true : false\n",
    "};\n",
    "\n",
    "comparisons"
   ]
  },
  {
   "cell_type": "markdown",
   "id": "curious-heater",
   "metadata": {},
   "source": [
    "Another example: when creating a nullable reference to a _Line_ object we accidentally leave out the asterisk and get unexpected results that will throw no errors. We would think that `NULL`, an int, shouldn't be assignable to a Line object. But despite the `=` character in the bottom-most line, the operation that actually takes place here is  initialisation rather than assignment. As such the constructor is called with the argument `NULL`, which the compiler happily treats as the int that it is."
   ]
  },
  {
   "cell_type": "code",
   "execution_count": 2,
   "id": "innocent-boating",
   "metadata": {},
   "outputs": [
    {
     "name": "stdout",
     "output_type": "stream",
     "text": [
      "Created line with thickness 0"
     ]
    }
   ],
   "source": [
    "#include <iostream>\n",
    "\n",
    "class Line {\n",
    "    private:\n",
    "    int thickness;\n",
    "    \n",
    "    public:\n",
    "    Line(int thickness) : thickness(thickness) {\n",
    "        std::cout << \"Created line with thickness \" << thickness;\n",
    "    }\n",
    "};\n",
    "\n",
    "Line myLine = NULL;"
   ]
  },
  {
   "cell_type": "markdown",
   "id": "greenhouse-associate",
   "metadata": {},
   "source": [
    "Wait, _what_? Who even asked for a constructor to be called here? More on this in the next notebook with `explicit`."
   ]
  },
  {
   "cell_type": "markdown",
   "id": "050e2e19-ef09-4e32-b490-86de22f54e5d",
   "metadata": {},
   "source": [
    "## constexpr\n",
    "`constexpr` is a new keyword for setting constant values that won't change during program execution. More specifically, constexpr represents values that are known (or can be calculated) at _compile time_. Its most promising feature is to provide in-language syntax to replace and improve upon preprocessor definitions, as well as some advantages over regular `const`.\n"
   ]
  },
  {
   "cell_type": "code",
   "execution_count": 3,
   "id": "fd7919c6-3d2f-41d6-821d-dce3d272d506",
   "metadata": {
    "scrolled": true
   },
   "outputs": [],
   "source": [
    "constexpr int COLOUR_DEPTH{256}; // I like UPPER_SNAKE_CASE for constants\n",
    "std::array<int, COLOUR_DEPTH> fixedBuffer; // Can use in places that require constant values"
   ]
  },
  {
   "cell_type": "code",
   "execution_count": 4,
   "id": "07f18d6b-b33d-4bf5-9166-9d4674364b4f",
   "metadata": {
    "scrolled": true
   },
   "outputs": [],
   "source": [
    "constexpr int MAX_BUFFER_SIZE{50};\n",
    "std::vector<double> buffer;"
   ]
  },
  {
   "cell_type": "code",
   "execution_count": 5,
   "id": "4eb97ba5-68e8-4154-ad57-f24d653d655c",
   "metadata": {},
   "outputs": [],
   "source": [
    "void addToBuffer(double newValue) {\n",
    "    buffer.push_back(newValue);\n",
    "    if (buffer.size() > MAX_BUFFER_SIZE) {\n",
    "        buffer.erase(buffer.begin());\n",
    "    }\n",
    "}"
   ]
  },
  {
   "cell_type": "markdown",
   "id": "c7ccf6dd-d185-476a-a815-efacbeb3dcce",
   "metadata": {},
   "source": [
    "### Comparison to preprocessor definitions\n",
    "Like all things preprocessor, a preprocessor definition operates on a textual level, interacting with the underlying source code with no consideration of its parseable syntax. `constexpr` however is firmly a part of the C++ language semantics, and thus brings these benefits:\n",
    "* constexpr respects the use of type checking, templates, etc, and thus allows for much greater safety for implementing the concept of a compile-time value\n",
    "* constexpr variables are debuggable whereas heavy use of preprocessor can disrupt the debugger\n",
    "* constexpr variables respect scopes and namespaces whereas preprocessor definitions can pollute everything that comes after them if not #undef'd (looking at you [_windows.h_ defining _min()_ and _max()_](https://belaycpp.com/2021/05/11/windows-h-breaks-the-stl-and-my-will-to-live/))\n",
    "* Finally, constexpr expressions follow a syntax that simply reads more like standard C++ code and thus requires less context-switching when reading and is easier to deal with when on-boarding newer devs."
   ]
  },
  {
   "cell_type": "code",
   "execution_count": 6,
   "id": "transsexual-track",
   "metadata": {},
   "outputs": [
    {
     "data": {
      "text/plain": [
       "2"
      ]
     },
     "execution_count": 6,
     "metadata": {},
     "output_type": "execute_result"
    }
   ],
   "source": [
    "// What types do these variables have?\n",
    "// (Probably a trick question, as none of them will actually be variables at all)\n",
    "#define DEFAULT_EXPERIENCE 10\n",
    "#define PLAYERS 4\n",
    "#define DEFAULT_EXPERIENCE_PER_PLAYER DEFAULT_EXPERIENCE / PLAYERS\n",
    "\n",
    "DEFAULT_EXPERIENCE_PER_PLAYER"
   ]
  },
  {
   "cell_type": "markdown",
   "id": "c04b6e05-4844-4785-9db0-914c72df2f8b",
   "metadata": {},
   "source": [
    "### Comparison to const variables\n",
    "Despite the similarity in name, constexpr variables go significantly further than const:\n",
    " * const variables cannot be changed once defined, but this initial definition occurs at _run-time_ and can potentially be a good while into program execution. \n",
    " * constexpr variables **must** be completely known at _compile-time_."
   ]
  },
  {
   "cell_type": "code",
   "execution_count": 8,
   "id": "da8687af-9dda-45a0-9ab6-b7bdaddecd7b",
   "metadata": {},
   "outputs": [
    {
     "name": "stdout",
     "output_type": "stream",
     "text": [
      "Adam\n",
      "Hello, Adam :)"
     ]
    }
   ],
   "source": [
    "#include <string>\n",
    "#include <iostream>\n",
    "\n",
    "const std::string name = [](){\n",
    "    std::string input;\n",
    "    std::cin >> input;\n",
    "    return input;\n",
    "}(); // The \"Immediately invoked function expression\" idiom\n",
    "\n",
    "std::cout << \"Hello, \" << name << \" :)\";"
   ]
  },
  {
   "cell_type": "markdown",
   "id": "2dd11d6b-273d-4b61-84d3-ed427595fe1c",
   "metadata": {
    "toc-hr-collapsed": true
   },
   "source": [
    "### constexpr functions\n",
    "You can add the `constexpr` annotation to a function to indicate to the compiler that the function is expected to produce a constexpr output. The only way that this output can be constexpr (i.e. computable at compile-time) is if all inputs and other data sources are known at compile-time."
   ]
  },
  {
   "cell_type": "code",
   "execution_count": 1,
   "id": "520ee616-cef3-4333-804a-3c87a08556f3",
   "metadata": {},
   "outputs": [],
   "source": [
    "// Ideally we define our input parameter as const, but let's not for a moment\n",
    "constexpr double calcUpdatesPerDay(int updateRate_ms) {\n",
    "    return (1000.0 / updateRate_ms) * 60 * 60 * 24; \n",
    "}\n",
    "\n",
    "constexpr int UPDATE_RATE_ms = 500;\n",
    "\n",
    "// Generation of constexpr output is successful as the compiler knows that UPDATE_RATE_ms is constexpr\n",
    "constexpr double UPDATES_PER_DAY = calcUpdatesPerDay(UPDATE_RATE_ms);\n",
    "\n",
    "UPDATES_PER_DAY"
   ]
  },
  {
   "cell_type": "code",
   "execution_count": 2,
   "id": "a46dec6d-844a-4425-86b9-1205cffc1f4e",
   "metadata": {
    "tags": []
   },
   "outputs": [],
   "source": [
    "// Failed assigned from constexpr function to constexpr variable.\n",
    "// The compiler knows that userUpdateRate_ms is not constexpr and so the function will\n",
    "// not actually return a constexpr output\n",
    "\n",
    "#include <iostream>\n",
    "\n",
    "int userUpdateRate_ms{};\n",
    "\n",
    "std::cin >> userUpdateRate_ms;\n",
    "\n",
    "constexpr double NEW_UPDATES_PER_DAY = calcUpdatesPerDay(userUpdateRate_ms);"
   ]
  },
  {
   "cell_type": "code",
   "execution_count": 4,
   "id": "47fbd49f-e157-40bb-9814-2b6ab4d8b3ad",
   "metadata": {},
   "outputs": [
    {
     "name": "stdout",
     "output_type": "stream",
     "text": [
      "20\n"
     ]
    },
    {
     "data": {
      "text/plain": [
       "4320000.0"
      ]
     },
     "execution_count": 4,
     "metadata": {},
     "output_type": "execute_result"
    }
   ],
   "source": [
    "// The non-constexpr output of this function call can still be assigned to a non-constexpr variable\n",
    "\n",
    "#include <iostream>\n",
    "\n",
    "int userUpdateRate_ms;\n",
    "\n",
    "std::cin >> userUpdateRate_ms;\n",
    "\n",
    "double newUpdatesPerDay = calcUpdatesPerDay(userUpdateRate_ms);\n",
    "newUpdatesPerDay"
   ]
  },
  {
   "cell_type": "markdown",
   "id": "15c90532-6b7e-4e35-a9c2-009455678162",
   "metadata": {},
   "source": [
    "This behaviour makes the `constexpr` annotation for functions act like suggestion to the compiler (like `inline`).\n",
    " * If we expect the function to provide outputs that are known at compile-time then we should use constexpr.\n",
    " * This allows for great compiler optimisation. For example the function itself can actually be run during compilation and thus its actual bytecode can be completely excluded from the program binary.\n",
    " * But the function will not be limited to that behaviour. If it is used in any non-constexpr context it becomes callable like any regular function. "
   ]
  },
  {
   "cell_type": "markdown",
   "id": "34f5dee6-74ed-42a8-901b-42dfc63480e1",
   "metadata": {},
   "source": [
    "## using\n",
    "The `using` keyword is an improved alternative to `typedef`, used for creating aliases based on existing types. `using` comes with a cleaner syntax with better readability, and offers new functionality in that it has support for templates."
   ]
  },
  {
   "cell_type": "code",
   "execution_count": 1,
   "id": "annual-berlin",
   "metadata": {},
   "outputs": [],
   "source": [
    "constexpr int width = 100;\n",
    "constexpr int height = 150;\n",
    "\n",
    "// New type alias syntax\n",
    "using Image = std::array<std::array<unsigned int, width>, height>;\n",
    "\n",
    "// Avoid repeating the lengthy custom type\n",
    "Image backbuffer;\n",
    "Image canvas;\n",
    "Image depthMap;\n",
    "\n",
    "\n",
    "// Typedef syntax for comparison\n",
    "typedef std::array<std::array<unsigned int, width>, height> Image2;"
   ]
  },
  {
   "cell_type": "code",
   "execution_count": 2,
   "id": "frank-postage",
   "metadata": {},
   "outputs": [],
   "source": [
    "// The type alias avoids a lengthy parameter type\n",
    "unsigned int pixelAt(Image image, int column, int row) {\n",
    "        return image[row][column];\n",
    "}"
   ]
  },
  {
   "cell_type": "markdown",
   "id": "inappropriate-yield",
   "metadata": {},
   "source": [
    "### Type alias to function signature\n",
    "Whereas the `using` syntax appears somewhat cleaner for standard type declarations, it is **much** cleaner when used for types based on function signatures. This can be seen in the example below, where the typedef-style declaration requires the name to be buried in the middle of the expression, between the parameters and return type."
   ]
  },
  {
   "cell_type": "code",
   "execution_count": 4,
   "id": "legendary-transcript",
   "metadata": {
    "scrolled": true
   },
   "outputs": [],
   "source": [
    "#include <string>\n",
    "\n",
    "// We want a type for a function that accepts two strings and returns an int\n",
    "\n",
    "// Using syntax\n",
    "using StrComp = int (*) (std::string, std::string);\n",
    "\n",
    "// Typedef syntax\n",
    "typedef int (*StrComp2) (std::string, std::string);"
   ]
  },
  {
   "cell_type": "code",
   "execution_count": 7,
   "id": "occupational-tissue",
   "metadata": {},
   "outputs": [],
   "source": [
    "std::string getFirstString(std::string string1, std::string string2, StrComp comparator) {\n",
    "    return (comparator(string1, string2) < 0)\n",
    "        ? string1\n",
    "        : string2;\n",
    "}"
   ]
  },
  {
   "cell_type": "markdown",
   "id": "republican-butter",
   "metadata": {},
   "source": [
    "### Alias templates\n",
    "But the biggest benefit to the new alias syntax is the new functionality of supporting `template`s, which typedefs cannot do. This allows `using`-based definitions to becomes partially-specialised, accepting an additional parameter to fully define the type."
   ]
  },
  {
   "cell_type": "code",
   "execution_count": 9,
   "id": "detailed-hypothetical",
   "metadata": {},
   "outputs": [],
   "source": [
    "#include <utility>\n",
    "\n",
    "using Dimensions = std::pair<int, int>;"
   ]
  },
  {
   "cell_type": "code",
   "execution_count": 10,
   "id": "vocal-covering",
   "metadata": {},
   "outputs": [],
   "source": [
    "#include <array>\n",
    "\n",
    "template <size_t length>\n",
    "using ResultsList = std::array<Dimensions, length>;\n",
    "\n",
    "ResultsList<500> fullResults;\n",
    "ResultsList<10> paginatedResults;"
   ]
  },
  {
   "cell_type": "code",
   "execution_count": 11,
   "id": "dietary-twist",
   "metadata": {},
   "outputs": [],
   "source": [
    "// Or, if we want, we can complete the specialisation with an additional type that provides the template value\n",
    "using PaginatedResultsList = ResultsList<10>;"
   ]
  },
  {
   "cell_type": "code",
   "execution_count": null,
   "id": "focused-invention",
   "metadata": {},
   "outputs": [],
   "source": []
  },
  {
   "cell_type": "code",
   "execution_count": null,
   "id": "prostate-despite",
   "metadata": {},
   "outputs": [],
   "source": []
  }
 ],
 "metadata": {
  "kernelspec": {
   "display_name": "C++17",
   "language": "C++17",
   "name": "xcpp17"
  },
  "language_info": {
   "codemirror_mode": "text/x-c++src",
   "file_extension": ".cpp",
   "mimetype": "text/x-c++src",
   "name": "c++",
   "version": "17"
  }
 },
 "nbformat": 4,
 "nbformat_minor": 5
}
