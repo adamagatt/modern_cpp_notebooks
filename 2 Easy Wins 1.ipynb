{
 "cells": [
  {
   "cell_type": "markdown",
   "id": "isolated-conservative",
   "metadata": {},
   "source": [
    "# 2 - Easy Wins 1\n",
    "##### **Author: Adam Gatt**\n",
    "\n",
    "Later notebooks will cover more advance topics but the next two will aim to show off simple new language features that you should be able to immediately benefit from with little/no trade-off. Many revolve around enforcing correctness, to help remove some classes of bugs before they have a chance to happen.\n",
    "\n",
    "The [clang-tidy](https://clang.llvm.org/extra/clang-tidy/) linter will be able to make suggestions about many of these language features, pointing out situation where they can be used. With some care and manual review, you can even run the linter over an entire existing codebase and have the suggestions applied automatically."
   ]
  },
  {
   "cell_type": "markdown",
   "id": "premium-tennessee",
   "metadata": {},
   "source": [
    "## override"
   ]
  },
  {
   "cell_type": "markdown",
   "id": "systematic-performer",
   "metadata": {},
   "source": [
    "How come the duck below fails to realise it can quack?"
   ]
  },
  {
   "cell_type": "code",
   "execution_count": 1,
   "id": "diverse-drink",
   "metadata": {},
   "outputs": [
    {
     "name": "stdout",
     "output_type": "stream",
     "text": [
      "Chirp!\n"
     ]
    }
   ],
   "source": [
    "#include <iostream>\n",
    "\n",
    "class Bird {\n",
    "    public:\n",
    "    virtual void makeNoise() const {\n",
    "        std::cout << \"Chirp!\" << std::endl;\n",
    "    }\n",
    "};\n",
    "\n",
    "class Duck : public Bird {\n",
    "    public:\n",
    "    virtual void makeNoise() {\n",
    "        std:: cout << \"Quack!\" << std::endl;\n",
    "    }\n",
    "};\n",
    "\n",
    "Bird* daffy = new Duck();\n",
    "\n",
    "daffy->makeNoise();"
   ]
  },
  {
   "cell_type": "markdown",
   "id": "wrong-focus",
   "metadata": {},
   "source": [
    "It's because the two `makeNoise()` functions aren't the same! Because one is const and the other isn't, they count as having different signatures. This means the derived class isn't overriding the makeNoise in the base class; the two methods don't occupy the same entry in the vtable. \n",
    "\n",
    "Constness is a subtle way this bug can occur, but it can also be caused by a typo in the method name or differences in parameter types.\n",
    "\n",
    "Because both the base and overridden methods use the same syntax (beginning `virtual` annotation), the compiler doesn't have a clear way to know that `Duck::makeNoise` is meant to be an overridden method instead of starting its own base virtual method. `override` is a new annotation to add to the overriding method and make it clear to the compiler. When a method is marked `override` the compiler will search for a matching base virtual method to ensure it exists, and will throw a compilation error if one cannot be found.\n",
    "\n",
    "As an added benefit it also makes the intention clear to the human reader."
   ]
  },
  {
   "cell_type": "code",
   "execution_count": 2,
   "id": "tribal-impossible",
   "metadata": {},
   "outputs": [
    {
     "name": "stderr",
     "output_type": "stream",
     "text": [
      "\u001b[1minput_line_9:3:18: \u001b[0m\u001b[0;1;31merror: \u001b[0m\u001b[1m'makeNoise' marked 'override' but does not override any member functions\u001b[0m\n",
      "    virtual void makeNoise() override {\n",
      "\u001b[0;1;32m                 ^\n",
      "\u001b[0m"
     ]
    },
    {
     "ename": "Interpreter Error",
     "evalue": "",
     "output_type": "error",
     "traceback": [
      "Interpreter Error: "
     ]
    }
   ],
   "source": [
    "class Turkey : public Bird {\n",
    "    public:\n",
    "    virtual void makeNoise() override {\n",
    "        std:: cout << \"Gobble!\" << std::endl;\n",
    "    }\n",
    "};"
   ]
  },
  {
   "cell_type": "markdown",
   "id": "magnetic-gross",
   "metadata": {},
   "source": [
    "## nullptr"
   ]
  },
  {
   "cell_type": "markdown",
   "id": "subsequent-artwork",
   "metadata": {},
   "source": [
    "`nullptr` is a Modern C++ keywork for the null reference, where in the past you might have used `0` or `NULL` (often #defined to be 0). The advantage of nullptr is that it has its own type (`std::nullptr_t`), whereas the `int` type of NULL can allow for subtle bugs or ambiguities, especially in constructors and overloaded functions. In the best-case scenario the compiler will notice the ambiguity with a warning or error, in the worst-case you may have a subtle logic error."
   ]
  },
  {
   "cell_type": "code",
   "execution_count": 3,
   "id": "available-hybrid",
   "metadata": {},
   "outputs": [],
   "source": [
    "class Colour {    \n",
    "    public:\n",
    "    int rgbCode;\n",
    "    \n",
    "    // Specify the rgb code directly\n",
    "    Colour(int rgbCode) : rgbCode(rgbCode) { }\n",
    "    \n",
    "    // Copy the rgb code from another Colour\n",
    "    Colour(const Colour* cloneSrc) {\n",
    "        if (cloneSrc != NULL) {\n",
    "            rgbCode = cloneSrc->rgbCode;\n",
    "        }\n",
    "    }\n",
    "}"
   ]
  },
  {
   "cell_type": "code",
   "execution_count": 4,
   "id": "cooked-auckland",
   "metadata": {},
   "outputs": [
    {
     "name": "stderr",
     "output_type": "stream",
     "text": [
      "\u001b[1minput_line_11:3:8: \u001b[0m\u001b[0;1;31merror: \u001b[0m\u001b[1mcall to constructor of '__cling_N54::Colour' is ambiguous\u001b[0m\n",
      "Colour col1(NULL);\n",
      "\u001b[0;1;32m       ^    ~~~~\n",
      "\u001b[0m\u001b[1minput_line_10:6:5: \u001b[0m\u001b[0;1;30mnote: \u001b[0mcandidate constructor\u001b[0m\n",
      "    Colour(int rgbCode) : rgbCode(rgbCode) { }\n",
      "\u001b[0;1;32m    ^\n",
      "\u001b[0m\u001b[1minput_line_10:9:5: \u001b[0m\u001b[0;1;30mnote: \u001b[0mcandidate constructor\u001b[0m\n",
      "    Colour(const Colour* cloneSrc) {\n",
      "\u001b[0;1;32m    ^\n",
      "\u001b[0m\u001b[1minput_line_10:1:7: \u001b[0m\u001b[0;1;30mnote: \u001b[0mcandidate is the implicit copy constructor\u001b[0m\n",
      "class Colour {    \n",
      "\u001b[0;1;32m      ^\n",
      "\u001b[0m\u001b[1minput_line_10:1:7: \u001b[0m\u001b[0;1;30mnote: \u001b[0mcandidate is the implicit move constructor\u001b[0m\n"
     ]
    },
    {
     "ename": "Interpreter Error",
     "evalue": "",
     "output_type": "error",
     "traceback": [
      "Interpreter Error: "
     ]
    }
   ],
   "source": [
    "// Which constructor will be called?\n",
    "\n",
    "Colour col1(NULL);"
   ]
  },
  {
   "cell_type": "code",
   "execution_count": 5,
   "id": "normal-personal",
   "metadata": {},
   "outputs": [],
   "source": [
    "Colour col2(nullptr);"
   ]
  },
  {
   "cell_type": "markdown",
   "id": "failing-theta",
   "metadata": {},
   "source": [
    "Notice the constructor executing correctly instead of trying to dereference nullptr. This is because the guard clause `if (cloneSrc != NULL)` still performed its job. The new keyword enjoys strong interoperability with existing legacy code as the rules for comparing nullptr and NULL have been well-defined to produce intuitive results."
   ]
  },
  {
   "cell_type": "code",
   "execution_count": 1,
   "id": "specialized-element",
   "metadata": {
    "scrolled": false
   },
   "outputs": [
    {
     "name": "stderr",
     "output_type": "stream",
     "text": [
      ":13: \u001b[0m\u001b[0;1;35mwarning: \u001b[0m\u001b[1mcomparison between NULL and non-pointer ('nullptr_t' and NULL) [-Wnull-arithmetic]\u001b[0m\n",
      "    nullptr == NULL,\n",
      "\u001b[0;1;32m    ~~~~~~~ ^  ~~~~\n",
      "\u001b[0m\u001b[1minput_line_7:6:13: \u001b[0m\u001b[0;1;35mwarning: \u001b[0m\u001b[1mcomparison between NULL and non-pointer ('nullptr_t' and NULL) [-Wnull-arithmetic]\u001b[0m\n",
      "    nullptr != NULL,\n",
      "\u001b[0;1;32m    ~~~~~~~ ^  ~~~~\n",
      "\u001b[0m\u001b[1minput_line_7:9:5: \u001b[0m\u001b[0;1;35mwarning: \u001b[0m\u001b[1mimplicit conversion of nullptr constant to 'bool' [-Wnull-conversion]\u001b[0m\n",
      "    nullptr ? true : false\n",
      "\u001b[0;1;32m    ^~~~~~~ ~\n",
      "\u001b[0m\u001b[0;32m    false\n",
      "\u001b[0m"
     ]
    },
    {
     "data": {
      "text/plain": [
       "{ true, false, true, false, true, false, false }"
      ]
     },
     "execution_count": 1,
     "metadata": {},
     "output_type": "execute_result"
    }
   ],
   "source": [
    "bool comparisons[] {\n",
    "    nullptr == nullptr,\n",
    "    nullptr != nullptr,\n",
    "    nullptr == NULL,\n",
    "    nullptr != NULL,\n",
    "    nullptr == 0,\n",
    "    nullptr != 0,\n",
    "    nullptr ? true : false\n",
    "};\n",
    "\n",
    "comparisons"
   ]
  },
  {
   "cell_type": "markdown",
   "id": "curious-heater",
   "metadata": {},
   "source": [
    "Another example: when creating a nullable reference to a _Line_ object we accidentally leave out the asterisk and get unexpected results that will throw no errors. We would think that `NULL`, an int, shouldn't be assignable to a Line object. But despite the `=` character in the bottom-most line, the operation that actually takes place here is _copy initialisation_ rather than assignment. As such the constructor is called with the argument `NULL`, which the compiler happily treats as the int that it is."
   ]
  },
  {
   "cell_type": "code",
   "execution_count": 2,
   "id": "innocent-boating",
   "metadata": {},
   "outputs": [
    {
     "name": "stdout",
     "output_type": "stream",
     "text": [
      "Created line with thickness 0"
     ]
    }
   ],
   "source": [
    "#include <iostream>\n",
    "\n",
    "class Line {\n",
    "    private:\n",
    "    int thickness;\n",
    "    \n",
    "    public:\n",
    "    Line(int thickness) : thickness(thickness) {\n",
    "        std::cout << \"Created line with thickness \" << thickness;\n",
    "    }\n",
    "};\n",
    "\n",
    "Line myLine = NULL;"
   ]
  },
  {
   "cell_type": "markdown",
   "id": "linear-banner",
   "metadata": {},
   "source": [
    "## explicit (pre-11)"
   ]
  },
  {
   "cell_type": "markdown",
   "id": "finite-diameter",
   "metadata": {},
   "source": [
    "`explicit` "
   ]
  },
  {
   "cell_type": "code",
   "execution_count": null,
   "id": "involved-metabolism",
   "metadata": {},
   "outputs": [],
   "source": [
    "class Factor {\n",
    "    public:\n",
    "    Factor(double value)\n",
    "        : value(value) { }\n",
    "    \n",
    "    double apply(double input) {\n",
    "        return input * value;\n",
    "    }\n",
    "    \n",
    "    private:\n",
    "    double value;\n",
    "}"
   ]
  },
  {
   "cell_type": "code",
   "execution_count": null,
   "id": "graduate-feeling",
   "metadata": {},
   "outputs": [],
   "source": [
    "Factor myFactor = 1/5;\n",
    "\n",
    "myFactor.apply(100)"
   ]
  },
  {
   "cell_type": "code",
   "execution_count": null,
   "id": "pregnant-partner",
   "metadata": {},
   "outputs": [],
   "source": [
    "class Factor {\n",
    "    public:\n",
    "    // Explicit, no implicit type conversion for copy-initialisation\n",
    "    explicit Factor(double value)\n",
    "        : value(value) { }\n",
    "    \n",
    "    double apply(double input) {\n",
    "        return input * value;\n",
    "    }\n",
    "    \n",
    "    private:\n",
    "    double value;\n",
    "};\n",
    "\n",
    "Factor myFactor = 1/5;\n",
    "\n",
    "myFactor.apply(100)"
   ]
  },
  {
   "cell_type": "markdown",
   "id": "standing-romantic",
   "metadata": {},
   "source": [
    "## Scoped enums"
   ]
  },
  {
   "cell_type": "code",
   "execution_count": null,
   "id": "internal-thomson",
   "metadata": {},
   "outputs": [],
   "source": []
  }
 ],
 "metadata": {
  "kernelspec": {
   "display_name": "C++17",
   "language": "C++17",
   "name": "xcpp17"
  },
  "language_info": {
   "codemirror_mode": "text/x-c++src",
   "file_extension": ".cpp",
   "mimetype": "text/x-c++src",
   "name": "c++",
   "version": "17"
  }
 },
 "nbformat": 4,
 "nbformat_minor": 5
}
