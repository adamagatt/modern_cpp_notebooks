{
 "cells": [
  {
   "cell_type": "markdown",
   "id": "isolated-conservative",
   "metadata": {},
   "source": [
    "# 2 - Easy Wins (1 / 2)\n",
    "##### **Author: Adam Gatt**\n",
    "\n",
    "Later notebooks will cover more advance topics but the next two will aim to show off simple new language features that you should be able to immediately benefit from with little/no trade-off. Many revolve around enforcing correctness, to help remove some classes of bugs before they have a chance to happen. Additionally, they are largely compile-time features that leave no changes on the compiled code, resulting in no run-time cost.\n",
    "\n",
    "The [clang-tidy](https://clang.llvm.org/extra/clang-tidy/) linter will be able to make suggestions about many of these language features, pointing out situation where they can be used. With some care and manual review, you can even run the linter over an entire existing codebase and have the suggestions applied automatically."
   ]
  },
  {
   "cell_type": "markdown",
   "id": "premium-tennessee",
   "metadata": {},
   "source": [
    "## override"
   ]
  },
  {
   "cell_type": "markdown",
   "id": "systematic-performer",
   "metadata": {},
   "source": [
    "How come the duck below fails to realise it can quack?"
   ]
  },
  {
   "cell_type": "code",
   "execution_count": 1,
   "id": "diverse-drink",
   "metadata": {},
   "outputs": [
    {
     "name": "stdout",
     "output_type": "stream",
     "text": [
      "Chirp!\n"
     ]
    }
   ],
   "source": [
    "#include <iostream>\n",
    "\n",
    "class Bird {\n",
    "    public:\n",
    "    virtual void makeNoise() const {\n",
    "        std::cout << \"Chirp!\" << std::endl;\n",
    "    }\n",
    "};\n",
    "\n",
    "class Duck : public Bird {\n",
    "    public:\n",
    "    virtual void makeNoise() {\n",
    "        std:: cout << \"Quack!\" << std::endl;\n",
    "    }\n",
    "};\n",
    "\n",
    "Bird* daffy = new Duck();\n",
    "\n",
    "daffy->makeNoise();"
   ]
  },
  {
   "cell_type": "markdown",
   "id": "wrong-focus",
   "metadata": {},
   "source": [
    "It's because the two `makeNoise()` functions aren't the same! Because one is const and the other isn't, they count as having different signatures. This means the derived class isn't overriding the makeNoise in the base class; the two methods don't occupy the same entry in the vtable. \n",
    "\n",
    "Constness is a subtle way this bug can occur, but it can also be caused by a typo in the method name or differences in parameter types.\n",
    "\n",
    "Because both the base and overridden methods use the same syntax (beginning `virtual` annotation), the compiler doesn't have a clear way to know that `Duck::makeNoise` is meant to be an overridden method instead of starting its own base virtual method. `override` is a new annotation to add to the overriding method and make it clear to the compiler. When a method is marked `override` the compiler will search for a matching base virtual method to ensure it exists, and will throw a compilation error if one cannot be found.\n",
    "\n",
    "As an added benefit it also makes the intention clear to the human reader."
   ]
  },
  {
   "cell_type": "code",
   "execution_count": 2,
   "id": "tribal-impossible",
   "metadata": {},
   "outputs": [
    {
     "name": "stderr",
     "output_type": "stream",
     "text": [
      "\u001b[1minput_line_9:3:18: \u001b[0m\u001b[0;1;31merror: \u001b[0m\u001b[1m'makeNoise' marked 'override' but does not override any member functions\u001b[0m\n",
      "    virtual void makeNoise() override {\n",
      "\u001b[0;1;32m                 ^\n",
      "\u001b[0m"
     ]
    },
    {
     "ename": "Interpreter Error",
     "evalue": "",
     "output_type": "error",
     "traceback": [
      "Interpreter Error: "
     ]
    }
   ],
   "source": [
    "class Turkey : public Bird {\n",
    "    public:\n",
    "    virtual void makeNoise() override {\n",
    "        std:: cout << \"Gobble!\" << std::endl;\n",
    "    }\n",
    "};"
   ]
  },
  {
   "cell_type": "markdown",
   "id": "magnetic-gross",
   "metadata": {},
   "source": [
    "## nullptr"
   ]
  },
  {
   "cell_type": "markdown",
   "id": "subsequent-artwork",
   "metadata": {},
   "source": [
    "`nullptr` is a Modern C++ keywork for the null reference, where in the past you might have used `0` or `NULL` (often #defined to be 0). The advantage of nullptr is that it has its own type (`std::nullptr_t`), whereas the `int` type of NULL can allow for subtle bugs or ambiguities, especially in constructors and overloaded functions. In the best-case scenario the compiler will notice the ambiguity with a warning or error, in the worst-case you may have a subtle logic error."
   ]
  },
  {
   "cell_type": "code",
   "execution_count": 3,
   "id": "available-hybrid",
   "metadata": {},
   "outputs": [],
   "source": [
    "class Colour {    \n",
    "    public:\n",
    "    int rgbCode;\n",
    "    \n",
    "    // Specify the rgb code directly\n",
    "    Colour(int rgbCode) : rgbCode(rgbCode) { }\n",
    "    \n",
    "    // Copy the rgb code from another Colour\n",
    "    Colour(const Colour* cloneSrc) {\n",
    "        if (cloneSrc != NULL) {\n",
    "            rgbCode = cloneSrc->rgbCode;\n",
    "        }\n",
    "    }\n",
    "}"
   ]
  },
  {
   "cell_type": "code",
   "execution_count": 4,
   "id": "cooked-auckland",
   "metadata": {},
   "outputs": [
    {
     "name": "stderr",
     "output_type": "stream",
     "text": [
      "\u001b[1minput_line_11:3:8: \u001b[0m\u001b[0;1;31merror: \u001b[0m\u001b[1mcall to constructor of '__cling_N54::Colour' is ambiguous\u001b[0m\n",
      "Colour col1(NULL);\n",
      "\u001b[0;1;32m       ^    ~~~~\n",
      "\u001b[0m\u001b[1minput_line_10:6:5: \u001b[0m\u001b[0;1;30mnote: \u001b[0mcandidate constructor\u001b[0m\n",
      "    Colour(int rgbCode) : rgbCode(rgbCode) { }\n",
      "\u001b[0;1;32m    ^\n",
      "\u001b[0m\u001b[1minput_line_10:9:5: \u001b[0m\u001b[0;1;30mnote: \u001b[0mcandidate constructor\u001b[0m\n",
      "    Colour(const Colour* cloneSrc) {\n",
      "\u001b[0;1;32m    ^\n",
      "\u001b[0m\u001b[1minput_line_10:1:7: \u001b[0m\u001b[0;1;30mnote: \u001b[0mcandidate is the implicit copy constructor\u001b[0m\n",
      "class Colour {    \n",
      "\u001b[0;1;32m      ^\n",
      "\u001b[0m\u001b[1minput_line_10:1:7: \u001b[0m\u001b[0;1;30mnote: \u001b[0mcandidate is the implicit move constructor\u001b[0m\n"
     ]
    },
    {
     "ename": "Interpreter Error",
     "evalue": "",
     "output_type": "error",
     "traceback": [
      "Interpreter Error: "
     ]
    }
   ],
   "source": [
    "// Which constructor will be called?\n",
    "\n",
    "Colour col1(NULL);"
   ]
  },
  {
   "cell_type": "code",
   "execution_count": 5,
   "id": "normal-personal",
   "metadata": {},
   "outputs": [],
   "source": [
    "Colour col2(nullptr);"
   ]
  },
  {
   "cell_type": "markdown",
   "id": "failing-theta",
   "metadata": {},
   "source": [
    "Notice the constructor executing correctly instead of trying to dereference nullptr. This is because the guard clause `if (cloneSrc != NULL)` still performed its job. The new keyword enjoys strong interoperability with existing legacy code as the rules for comparing nullptr and NULL have been well-defined to produce intuitive results."
   ]
  },
  {
   "cell_type": "code",
   "execution_count": 1,
   "id": "specialized-element",
   "metadata": {
    "scrolled": false
   },
   "outputs": [
    {
     "name": "stderr",
     "output_type": "stream",
     "text": [
      ":13: \u001b[0m\u001b[0;1;35mwarning: \u001b[0m\u001b[1mcomparison between NULL and non-pointer ('nullptr_t' and NULL) [-Wnull-arithmetic]\u001b[0m\n",
      "    nullptr == NULL,\n",
      "\u001b[0;1;32m    ~~~~~~~ ^  ~~~~\n",
      "\u001b[0m\u001b[1minput_line_7:6:13: \u001b[0m\u001b[0;1;35mwarning: \u001b[0m\u001b[1mcomparison between NULL and non-pointer ('nullptr_t' and NULL) [-Wnull-arithmetic]\u001b[0m\n",
      "    nullptr != NULL,\n",
      "\u001b[0;1;32m    ~~~~~~~ ^  ~~~~\n",
      "\u001b[0m\u001b[1minput_line_7:9:5: \u001b[0m\u001b[0;1;35mwarning: \u001b[0m\u001b[1mimplicit conversion of nullptr constant to 'bool' [-Wnull-conversion]\u001b[0m\n",
      "    nullptr ? true : false\n",
      "\u001b[0;1;32m    ^~~~~~~ ~\n",
      "\u001b[0m\u001b[0;32m    false\n",
      "\u001b[0m"
     ]
    },
    {
     "data": {
      "text/plain": [
       "{ true, false, true, false, true, false, false }"
      ]
     },
     "execution_count": 1,
     "metadata": {},
     "output_type": "execute_result"
    }
   ],
   "source": [
    "bool comparisons[] {\n",
    "    nullptr == nullptr,\n",
    "    nullptr != nullptr,\n",
    "    nullptr == NULL,\n",
    "    nullptr != NULL,\n",
    "    nullptr == 0,\n",
    "    nullptr != 0,\n",
    "    nullptr ? true : false\n",
    "};\n",
    "\n",
    "comparisons"
   ]
  },
  {
   "cell_type": "markdown",
   "id": "curious-heater",
   "metadata": {},
   "source": [
    "Another example: when creating a nullable reference to a _Line_ object we accidentally leave out the asterisk and get unexpected results that will throw no errors. We would think that `NULL`, an int, shouldn't be assignable to a Line object. But despite the `=` character in the bottom-most line, the operation that actually takes place here is  initialisation rather than assignment. As such the constructor is called with the argument `NULL`, which the compiler happily treats as the int that it is."
   ]
  },
  {
   "cell_type": "code",
   "execution_count": 2,
   "id": "innocent-boating",
   "metadata": {},
   "outputs": [
    {
     "name": "stdout",
     "output_type": "stream",
     "text": [
      "Created line with thickness 0"
     ]
    }
   ],
   "source": [
    "#include <iostream>\n",
    "\n",
    "class Line {\n",
    "    private:\n",
    "    int thickness;\n",
    "    \n",
    "    public:\n",
    "    Line(int thickness) : thickness(thickness) {\n",
    "        std::cout << \"Created line with thickness \" << thickness;\n",
    "    }\n",
    "};\n",
    "\n",
    "Line myLine = NULL;"
   ]
  },
  {
   "cell_type": "markdown",
   "id": "greenhouse-associate",
   "metadata": {},
   "source": [
    "Wait, _what_? Who even asked for a constructor to be called here? More on this in the next notebook with `explicit`."
   ]
  },
  {
   "cell_type": "markdown",
   "id": "frequent-stroke",
   "metadata": {},
   "source": [
    "## Scoped enumerations"
   ]
  },
  {
   "cell_type": "markdown",
   "id": "solid-piece",
   "metadata": {},
   "source": [
    "C++11 introduced \"scoped\" enumerations, an alternative enum syntax that can be simply achieved by adding just the one keyword \"class\" in the definition. Scoped enums are called so because their enum values (the \"enumerants\") are scoped to the enum itself rather than the class/namespace outside of it."
   ]
  },
  {
   "cell_type": "code",
   "execution_count": 3,
   "id": "developmental-compilation",
   "metadata": {},
   "outputs": [],
   "source": [
    "// Traditional enum declaration\n",
    "enum Colour{\n",
    "    RED,\n",
    "    BLUE,\n",
    "    GREEN\n",
    "};\n",
    "\n",
    "// New-style \"scoped\" enum declaration\n",
    "enum class Flavour {\n",
    "    VANILLA,\n",
    "    CHOCOLATE,\n",
    "    STRAWBERRY\n",
    "};"
   ]
  },
  {
   "cell_type": "markdown",
   "id": "forty-viewer",
   "metadata": {},
   "source": [
    "Essentially this is a re-implementation of the enum concept with stricter rules to prevent potential errors. The new syntax is needed as previous-style enums must be left unchanged for compatibility purposes.\n",
    "### Benefit: stronger type safety\n",
    "Traditional \"unscoped\" enums map their values to some compiler-defined integral type indexed from 0, so the `GREEN` above will essentially be represented by the value 2. Traditional enums enforce no type checks when treated as (or implicitly converted to) an int. Type safety will be enforced in the other direction, however, so that the compiler won't implicitly cast an int to an enum value."
   ]
  },
  {
   "cell_type": "code",
   "execution_count": 4,
   "id": "naughty-spotlight",
   "metadata": {},
   "outputs": [],
   "source": [
    "double calculateGST(double price) {\n",
    "    return price * 1.1;\n",
    "};"
   ]
  },
  {
   "cell_type": "code",
   "execution_count": 5,
   "id": "skilled-prospect",
   "metadata": {
    "scrolled": true
   },
   "outputs": [
    {
     "data": {
      "text/plain": [
       "2.2000000"
      ]
     },
     "execution_count": 5,
     "metadata": {},
     "output_type": "execute_result"
    }
   ],
   "source": [
    "// Not even an compiler warning\n",
    "calculateGST(Colour::GREEN)"
   ]
  },
  {
   "cell_type": "markdown",
   "id": "solid-paradise",
   "metadata": {},
   "source": [
    "In comparison, scoped enums are explicitly their own type and so this bug will be rejected by the compiler before it has a chance to occur."
   ]
  },
  {
   "cell_type": "code",
   "execution_count": 6,
   "id": "shaped-partition",
   "metadata": {
    "scrolled": false
   },
   "outputs": [
    {
     "name": "stderr",
     "output_type": "stream",
     "text": [
      "\u001b[1minput_line_17:2:2: \u001b[0m\u001b[0;1;31merror: \u001b[0m\u001b[1mno matching function for call to 'calculateGST'\u001b[0m\n",
      " calculateGST(Flavour::STRAWBERRY)\n",
      "\u001b[0;1;32m ^~~~~~~~~~~~\n",
      "\u001b[0m\u001b[1minput_line_14:1:8: \u001b[0m\u001b[0;1;30mnote: \u001b[0mcandidate function not viable: no known conversion from 'Flavour' to 'double' for 1st argument\u001b[0m\n",
      "double calculateGST(double price) {\n",
      "\u001b[0;1;32m       ^\n",
      "\u001b[0m"
     ]
    },
    {
     "ename": "Interpreter Error",
     "evalue": "",
     "output_type": "error",
     "traceback": [
      "Interpreter Error: "
     ]
    }
   ],
   "source": [
    "calculateGST(Flavour::STRAWBERRY)"
   ]
  },
  {
   "cell_type": "markdown",
   "id": "smooth-thinking",
   "metadata": {},
   "source": [
    "### Benefit: explicit choice of underlying data type \n",
    "\n",
    "If we want the enum to have an underlying type then we can specify it (as long as it is an integral type). We can then proceed to assign values to each individual enumerant as per usual."
   ]
  },
  {
   "cell_type": "code",
   "execution_count": 7,
   "id": "alive-expert",
   "metadata": {
    "scrolled": true
   },
   "outputs": [],
   "source": [
    "enum class ChessPiece : short {\n",
    "    PAWN = 1,\n",
    "    KNIGHT = 3,\n",
    "    ROOK = 5\n",
    "};"
   ]
  },
  {
   "cell_type": "code",
   "execution_count": 8,
   "id": "deadly-immunology",
   "metadata": {},
   "outputs": [
    {
     "data": {
      "text/plain": [
       "11"
      ]
     },
     "execution_count": 8,
     "metadata": {},
     "output_type": "execute_result"
    }
   ],
   "source": [
    "short withCapture(short boardValue, ChessPiece piece) {\n",
    "    return boardValue + static_cast<int>(piece);\n",
    "}\n",
    "\n",
    "withCapture(6, ChessPiece::ROOK)"
   ]
  },
  {
   "cell_type": "markdown",
   "id": "private-still",
   "metadata": {},
   "source": [
    "### Benefit: tighter scope"
   ]
  },
  {
   "cell_type": "markdown",
   "id": "removable-survival",
   "metadata": {},
   "source": [
    "Traditional enums are scoped to the environment surrounding the enum, so that `WRITE` below leaks its scope to `ConfigFile` and can be referenced with `ConfigFile::WRITE`. This allows the possibility of conflicts between different enums, like with the ambiguous `ConfigFile::READ`."
   ]
  },
  {
   "cell_type": "code",
   "execution_count": 9,
   "id": "expressed-vatican",
   "metadata": {},
   "outputs": [
    {
     "name": "stderr",
     "output_type": "stream",
     "text": [
      "\u001b[1minput_line_21:4:31: \u001b[0m\u001b[0;1;31merror: \u001b[0m\u001b[1mredefinition of enumerator 'READ'\u001b[0m\n",
      "    enum State{FOUND, OPENED, READ, FINALISED};\n",
      "\u001b[0;1;32m                              ^\n",
      "\u001b[0m\u001b[1minput_line_21:3:20: \u001b[0m\u001b[0;1;30mnote: \u001b[0mprevious definition is here\u001b[0m\n",
      "    enum Operation{READ, WRITE};\n",
      "\u001b[0;1;32m                   ^\n",
      "\u001b[0m"
     ]
    },
    {
     "ename": "Interpreter Error",
     "evalue": "",
     "output_type": "error",
     "traceback": [
      "Interpreter Error: "
     ]
    }
   ],
   "source": [
    "class ConfigFile {\n",
    "    public:\n",
    "    enum Operation{READ, WRITE};\n",
    "    enum State{FOUND, OPENED, READ, FINALISED};\n",
    "}"
   ]
  },
  {
   "cell_type": "markdown",
   "id": "progressive-officer",
   "metadata": {},
   "source": [
    "Scoped enums do not leak their scope to the surrounding context. Here the two `READ` enums are `Operation::READ` and `State::READ` and cannot be confused. You can still use the class/namespace name to reference the enum value externally.  "
   ]
  },
  {
   "cell_type": "code",
   "execution_count": 10,
   "id": "martial-indication",
   "metadata": {},
   "outputs": [
    {
     "data": {
      "text/plain": [
       "false"
      ]
     },
     "execution_count": 10,
     "metadata": {},
     "output_type": "execute_result"
    }
   ],
   "source": [
    "class ConfigFile {\n",
    "    public:\n",
    "    enum class Operation{READ, WRITE};\n",
    "    enum class State{FOUND, OPENED, READ, FINALISED};\n",
    "};\n",
    "\n",
    "ConfigFile::State::FOUND == ConfigFile::State::READ"
   ]
  },
  {
   "cell_type": "code",
   "execution_count": 11,
   "id": "important-fraction",
   "metadata": {
    "scrolled": true
   },
   "outputs": [
    {
     "name": "stderr",
     "output_type": "stream",
     "text": [
      "\u001b[1minput_line_24:3:29: \u001b[0m\u001b[0;1;35mwarning: \u001b[0m\u001b[1mcomparison of two values with different enumeration types ('__cling_N514::ConfigFile::Operation' and '__cling_N514::ConfigFile::State') [-Wenum-compare]\u001b[0m\n",
      "ConfigFile::Operation::READ == ConfigFile::State::READ\n",
      "\u001b[0;1;32m~~~~~~~~~~~~~~~~~~~~~~~~~~~ ^  ~~~~~~~~~~~~~~~~~~~~~~~\n",
      "\u001b[0m\u001b[1minput_line_24:3:29: \u001b[0m\u001b[0;1;31merror: \u001b[0m\u001b[1minvalid operands to binary expression ('__cling_N514::ConfigFile::Operation' and '__cling_N514::ConfigFile::State')\u001b[0m\n",
      "ConfigFile::Operation::READ == ConfigFile::State::READ\n",
      "\u001b[0;1;32m~~~~~~~~~~~~~~~~~~~~~~~~~~~ ^  ~~~~~~~~~~~~~~~~~~~~~~~\n",
      "\u001b[0m"
     ]
    },
    {
     "ename": "Interpreter Error",
     "evalue": "",
     "output_type": "error",
     "traceback": [
      "Interpreter Error: "
     ]
    }
   ],
   "source": [
    "// Same enum value name but strictly different values belonging to different enums.\n",
    "ConfigFile::Operation::READ == ConfigFile::State::READ"
   ]
  },
  {
   "cell_type": "markdown",
   "id": "infinite-retailer",
   "metadata": {},
   "source": [
    "An additional benefit comes from forcing external references to specify the full \"path\" to any enum value, and so the enum name itself is always there to provide context for the value. This is not the case for unscoped enums unless each enum value is named in a way that the context is unmistakeable. "
   ]
  },
  {
   "cell_type": "code",
   "execution_count": 12,
   "id": "hundred-hindu",
   "metadata": {},
   "outputs": [],
   "source": [
    "class Cat {\n",
    "    public:\n",
    "    enum EyeColour{GREEN, GREY, BLUE, BROWN};\n",
    "};\n",
    "\n",
    "// What did BROWN belong to? Is it the cat's fur colour, eye colour or something else?\n",
    "int x = Cat::BROWN;"
   ]
  },
  {
   "cell_type": "markdown",
   "id": "demographic-combination",
   "metadata": {},
   "source": [
    "## Const references (pre-11)\n",
    "Despite having introduced the useful `nullptr` earlier, the concept of the _null reference_ has been described as its creator as the [Billion Dollar Mistake](https://www.youtube.com/watch?v=YYkOWzrO3xg). Null-dereferencing errors are widespread and hidden, often only discovered by unexpected run-time errors. In C++, two sorts of variable references are available:\n",
    "\n",
    "* C++ pointers (`*`) are \"nullable references\" and can be used to hold nullptr (or NULL/0)\n",
    "* C++ references (`&`) are \"non-nullable references\" and cannot\n",
    "\n",
    "References will never be null, and so they can never perform a null-dereference or be used before initialisation. You do not need a nullptr check before using them. Behind the scenes they compile as if they were pointers, resulting in no efficiency cost.\n",
    "\n",
    "As such, if we are truly serious about preventing the Billion Dollar Mistake then:\n",
    "> References should be our default choice, with pointers only for when nullability is a requirement or unavoidable."
   ]
  },
  {
   "cell_type": "code",
   "execution_count": 13,
   "id": "russian-entrance",
   "metadata": {},
   "outputs": [],
   "source": [
    "#include <string>\n",
    "void acceptStringRef(std::string& stringIn) {\n",
    "    // We can do anything we want with stringIn inside this function with\n",
    "    // complete confidence we will never cause a null-dereference error\n",
    "};"
   ]
  },
  {
   "cell_type": "markdown",
   "id": "smaller-scroll",
   "metadata": {},
   "source": [
    "Of course we can always call this function with a pointer that we de-reference first."
   ]
  },
  {
   "cell_type": "code",
   "execution_count": 14,
   "id": "bottom-thought",
   "metadata": {
    "scrolled": false
   },
   "outputs": [
    {
     "name": "stderr",
     "output_type": "stream",
     "text": [
      "\u001b[1minput_line_28:3:18: \u001b[0m\u001b[0;1;35mwarning: \u001b[0m\u001b[1mnull passed to a callee that requires a non-null argument [-Wnonnull]\u001b[0m\n",
      "acceptStringRef(*myString)\n",
      "\u001b[0;1;32m                 ^~~~~~~~\n",
      "\u001b[0m"
     ]
    },
    {
     "ename": "Interpreter Exception",
     "evalue": "",
     "output_type": "error",
     "traceback": [
      "Interpreter Exception: "
     ]
    }
   ],
   "source": [
    "std::string* myString;\n",
    "acceptStringRef(*myString)"
   ]
  },
  {
   "cell_type": "markdown",
   "id": "encouraging-friday",
   "metadata": {},
   "source": [
    "But still the function itself remains completely safe with the error occuring outside of it, in the `*myString` operation, closer to the site of the original pointer. The widespread use of references in function signatures help our reasoning during debugging, allowing us to eliminate \"safe\" parts of the codebase and preventing run-time exceptions from appearing deep within the call stack, far from the site of the actual logic error.\n",
    "\n",
    "We can take this safety further with an important concept from Functional Programming, which is the idea of _immutability_. In FP, variables are \"immutable\" by default and this extends to input parameters in function definitions. If a function is guaranteed to never change a referenced input variable, then we can eliminate that function when debugging errors occuring with that variable outside the function. The variable had the same state both before and after the function was called, and the problem lies elsewhere.\n",
    "\n",
    "Of course in C++ \"immutable\" _const_ variables are not the default and there are plenty of functions that are required to make changes to input parameters (e.g. std::fill). But the more functions that declare input references (and pointers) to be const, the easier it is to reason about the codebase when tracking down a bug.\n",
    "\n",
    "And so, for further enforcing of correctness:\n",
    "> const should be our default choice for references (and pointers), unless mutability is a requirement or unavoidable\n",
    "\n",
    "And so we should look for all opportunities possible to convert our `type* name`s into `const type& name`s."
   ]
  },
  {
   "cell_type": "code",
   "execution_count": null,
   "id": "governing-psychology",
   "metadata": {},
   "outputs": [],
   "source": [
    "// What does \"processing\" involve? Might this change our cart without our\n",
    "// expecting it to? Will it break if cart is a nullptr?\n",
    "void processOrder(Cart* cart);\n",
    "\n",
    "// This is much safer in comparison\n",
    "void processOrder(const Cart& cart);"
   ]
  }
 ],
 "metadata": {
  "kernelspec": {
   "display_name": "C++17",
   "language": "C++17",
   "name": "xcpp17"
  },
  "language_info": {
   "codemirror_mode": "text/x-c++src",
   "file_extension": ".cpp",
   "mimetype": "text/x-c++src",
   "name": "c++",
   "version": "17"
  }
 },
 "nbformat": 4,
 "nbformat_minor": 5
}
